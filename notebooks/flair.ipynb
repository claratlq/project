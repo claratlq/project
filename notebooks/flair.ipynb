{
  "cells": [
    {
      "cell_type": "markdown",
      "metadata": {},
      "source": [
        "Based on:\n",
        "\n",
        "https://www.dominodatalab.com/blog/named-entity-recognition-ner-challenges-and-model\n",
        "\n",
        "https://towardsdatascience.com/named-entity-recognition-ner-using-keras-bidirectional-lstm-28cd3f301f54"
      ]
    },
    {
      "cell_type": "markdown",
      "metadata": {
        "id": "bF5NMHVx2BTS"
      },
      "source": [
        "# Install packages"
      ]
    },
    {
      "cell_type": "code",
      "execution_count": 1,
      "metadata": {
        "colab": {
          "base_uri": "https://localhost:8080/"
        },
        "id": "M4HtQ4IPGJtX",
        "outputId": "00f15e83-9dde-486d-9f8a-1e2e17aa45c6"
      },
      "outputs": [
        {
          "name": "stdout",
          "output_type": "stream",
          "text": [
            "Requirement already satisfied: plot_keras_history in /home/digitalhub/.pyenv/versions/3.8.12/lib/python3.8/site-packages (1.1.38)\n",
            "Requirement already satisfied: matplotlib in /home/digitalhub/.pyenv/versions/3.8.12/lib/python3.8/site-packages (from plot_keras_history) (3.6.2)\n",
            "Requirement already satisfied: pandas in /home/digitalhub/.local/lib/python3.8/site-packages (from plot_keras_history) (1.3.4)\n",
            "Requirement already satisfied: scipy in /home/digitalhub/.local/lib/python3.8/site-packages (from plot_keras_history) (1.7.2)\n",
            "Requirement already satisfied: support_developer>=1.0.2 in /home/digitalhub/.pyenv/versions/3.8.12/lib/python3.8/site-packages (from plot_keras_history) (1.0.5)\n",
            "Requirement already satisfied: sanitize_ml_labels>=1.0.48 in /home/digitalhub/.pyenv/versions/3.8.12/lib/python3.8/site-packages (from plot_keras_history) (1.0.50)\n",
            "Requirement already satisfied: compress_json in /home/digitalhub/.pyenv/versions/3.8.12/lib/python3.8/site-packages (from sanitize_ml_labels>=1.0.48->plot_keras_history) (1.0.8)\n",
            "Requirement already satisfied: contourpy>=1.0.1 in /home/digitalhub/.pyenv/versions/3.8.12/lib/python3.8/site-packages (from matplotlib->plot_keras_history) (1.0.6)\n",
            "Requirement already satisfied: pillow>=6.2.0 in /home/digitalhub/.pyenv/versions/3.8.12/lib/python3.8/site-packages (from matplotlib->plot_keras_history) (9.3.0)\n",
            "Requirement already satisfied: kiwisolver>=1.0.1 in /home/digitalhub/.pyenv/versions/3.8.12/lib/python3.8/site-packages (from matplotlib->plot_keras_history) (1.4.4)\n",
            "Requirement already satisfied: python-dateutil>=2.7 in /home/digitalhub/.local/lib/python3.8/site-packages (from matplotlib->plot_keras_history) (2.8.2)\n",
            "Requirement already satisfied: numpy>=1.19 in /home/digitalhub/.local/lib/python3.8/site-packages (from matplotlib->plot_keras_history) (1.21.4)\n",
            "Requirement already satisfied: packaging>=20.0 in /home/digitalhub/.local/lib/python3.8/site-packages (from matplotlib->plot_keras_history) (21.3)\n",
            "Requirement already satisfied: fonttools>=4.22.0 in /home/digitalhub/.pyenv/versions/3.8.12/lib/python3.8/site-packages (from matplotlib->plot_keras_history) (4.38.0)\n",
            "Requirement already satisfied: cycler>=0.10 in /home/digitalhub/.pyenv/versions/3.8.12/lib/python3.8/site-packages (from matplotlib->plot_keras_history) (0.11.0)\n",
            "Requirement already satisfied: pyparsing>=2.2.1 in /home/digitalhub/.local/lib/python3.8/site-packages (from matplotlib->plot_keras_history) (2.4.7)\n",
            "Requirement already satisfied: six>=1.5 in /home/digitalhub/.pyenv/versions/3.8.12/lib/python3.8/site-packages (from python-dateutil>=2.7->matplotlib->plot_keras_history) (1.16.0)\n",
            "Requirement already satisfied: pytz>=2017.3 in /home/digitalhub/.pyenv/versions/3.8.12/lib/python3.8/site-packages (from pandas->plot_keras_history) (2022.6)\n",
            "\u001b[33mWARNING: You are using pip version 21.1.1; however, version 22.3.1 is available.\n",
            "You should consider upgrading via the '/home/digitalhub/.pyenv/versions/3.8.12/bin/python3.8 -m pip install --upgrade pip' command.\u001b[0m\n",
            "Requirement already satisfied: keras in /home/digitalhub/.pyenv/versions/3.8.12/lib/python3.8/site-packages (2.7.0)\n",
            "\u001b[33mWARNING: You are using pip version 21.1.1; however, version 22.3.1 is available.\n",
            "You should consider upgrading via the '/home/digitalhub/.pyenv/versions/3.8.12/bin/python3.8 -m pip install --upgrade pip' command.\u001b[0m\n",
            "Requirement already satisfied: tensorflow in /home/digitalhub/.pyenv/versions/3.8.12/lib/python3.8/site-packages (2.7.0)\n",
            "Requirement already satisfied: keras<2.8,>=2.7.0rc0 in /home/digitalhub/.pyenv/versions/3.8.12/lib/python3.8/site-packages (from tensorflow) (2.7.0)\n",
            "Requirement already satisfied: google-pasta>=0.1.1 in /home/digitalhub/.local/lib/python3.8/site-packages (from tensorflow) (0.2.0)\n",
            "Requirement already satisfied: six>=1.12.0 in /home/digitalhub/.pyenv/versions/3.8.12/lib/python3.8/site-packages (from tensorflow) (1.16.0)\n",
            "Requirement already satisfied: wrapt>=1.11.0 in /home/digitalhub/.local/lib/python3.8/site-packages (from tensorflow) (1.13.3)\n",
            "Requirement already satisfied: wheel<1.0,>=0.32.0 in /home/digitalhub/.pyenv/versions/3.8.12/lib/python3.8/site-packages (from tensorflow) (0.38.4)\n",
            "Requirement already satisfied: typing-extensions>=3.6.6 in /home/digitalhub/.local/lib/python3.8/site-packages (from tensorflow) (4.0.0)\n",
            "Requirement already satisfied: gast<0.5.0,>=0.2.1 in /home/digitalhub/.local/lib/python3.8/site-packages (from tensorflow) (0.4.0)\n",
            "Requirement already satisfied: numpy>=1.14.5 in /home/digitalhub/.local/lib/python3.8/site-packages (from tensorflow) (1.21.4)\n",
            "Requirement already satisfied: libclang>=9.0.1 in /home/digitalhub/.pyenv/versions/3.8.12/lib/python3.8/site-packages (from tensorflow) (14.0.6)\n",
            "Requirement already satisfied: tensorboard~=2.6 in /home/digitalhub/.pyenv/versions/3.8.12/lib/python3.8/site-packages (from tensorflow) (2.8.0)\n",
            "Requirement already satisfied: keras-preprocessing>=1.1.1 in /home/digitalhub/.local/lib/python3.8/site-packages (from tensorflow) (1.1.2)\n",
            "Requirement already satisfied: tensorflow-io-gcs-filesystem>=0.21.0 in /home/digitalhub/.pyenv/versions/3.8.12/lib/python3.8/site-packages (from tensorflow) (0.28.0)\n",
            "Requirement already satisfied: termcolor>=1.1.0 in /home/digitalhub/.local/lib/python3.8/site-packages (from tensorflow) (1.1.0)\n",
            "Requirement already satisfied: tensorflow-estimator<2.8,~=2.7.0rc0 in /home/digitalhub/.pyenv/versions/3.8.12/lib/python3.8/site-packages (from tensorflow) (2.7.0)\n",
            "Requirement already satisfied: astunparse>=1.6.0 in /home/digitalhub/.local/lib/python3.8/site-packages (from tensorflow) (1.6.3)\n",
            "Requirement already satisfied: flatbuffers<3.0,>=1.12 in /home/digitalhub/.local/lib/python3.8/site-packages (from tensorflow) (2.0)\n",
            "Requirement already satisfied: absl-py>=0.4.0 in /home/digitalhub/.local/lib/python3.8/site-packages (from tensorflow) (1.0.0)\n",
            "Requirement already satisfied: h5py>=2.9.0 in /home/digitalhub/.local/lib/python3.8/site-packages (from tensorflow) (3.6.0)\n",
            "Requirement already satisfied: opt-einsum>=2.3.2 in /home/digitalhub/.local/lib/python3.8/site-packages (from tensorflow) (3.3.0)\n",
            "Requirement already satisfied: grpcio<2.0,>=1.24.3 in /home/digitalhub/.local/lib/python3.8/site-packages (from tensorflow) (1.42.0)\n",
            "Requirement already satisfied: protobuf>=3.9.2 in /home/digitalhub/.local/lib/python3.8/site-packages (from tensorflow) (3.19.1)\n",
            "Requirement already satisfied: markdown>=2.6.8 in /home/digitalhub/.local/lib/python3.8/site-packages (from tensorboard~=2.6->tensorflow) (3.3.6)\n",
            "Requirement already satisfied: setuptools>=41.0.0 in /home/digitalhub/.pyenv/versions/3.8.12/lib/python3.8/site-packages (from tensorboard~=2.6->tensorflow) (56.0.0)\n",
            "Requirement already satisfied: tensorboard-data-server<0.7.0,>=0.6.0 in /home/digitalhub/.local/lib/python3.8/site-packages (from tensorboard~=2.6->tensorflow) (0.6.1)\n",
            "Requirement already satisfied: werkzeug>=0.11.15 in /home/digitalhub/.local/lib/python3.8/site-packages (from tensorboard~=2.6->tensorflow) (2.0.2)\n",
            "Requirement already satisfied: tensorboard-plugin-wit>=1.6.0 in /home/digitalhub/.local/lib/python3.8/site-packages (from tensorboard~=2.6->tensorflow) (1.8.0)\n",
            "Requirement already satisfied: google-auth<3,>=1.6.3 in /home/digitalhub/.local/lib/python3.8/site-packages (from tensorboard~=2.6->tensorflow) (2.3.3)\n",
            "Requirement already satisfied: google-auth-oauthlib<0.5,>=0.4.1 in /home/digitalhub/.local/lib/python3.8/site-packages (from tensorboard~=2.6->tensorflow) (0.4.6)\n",
            "Requirement already satisfied: requests<3,>=2.21.0 in /home/digitalhub/.pyenv/versions/3.8.12/lib/python3.8/site-packages (from tensorboard~=2.6->tensorflow) (2.28.1)\n",
            "Requirement already satisfied: rsa<5,>=3.1.4 in /home/digitalhub/.local/lib/python3.8/site-packages (from google-auth<3,>=1.6.3->tensorboard~=2.6->tensorflow) (4.7.2)\n",
            "Requirement already satisfied: pyasn1-modules>=0.2.1 in /home/digitalhub/.local/lib/python3.8/site-packages (from google-auth<3,>=1.6.3->tensorboard~=2.6->tensorflow) (0.2.8)\n",
            "Requirement already satisfied: cachetools<5.0,>=2.0.0 in /home/digitalhub/.local/lib/python3.8/site-packages (from google-auth<3,>=1.6.3->tensorboard~=2.6->tensorflow) (4.2.4)\n",
            "Requirement already satisfied: requests-oauthlib>=0.7.0 in /home/digitalhub/.local/lib/python3.8/site-packages (from google-auth-oauthlib<0.5,>=0.4.1->tensorboard~=2.6->tensorflow) (1.3.0)\n",
            "\u001b[33mWARNING: Retrying (Retry(total=4, connect=None, read=None, redirect=None, status=None)) after connection broken by 'NewConnectionError('<pip._vendor.urllib3.connection.HTTPSConnection object at 0x7fc91fd6d310>: Failed to establish a new connection: [Errno -3] Temporary failure in name resolution')': /simple/importlib-metadata/\u001b[0m\n",
            "\u001b[33mWARNING: Retrying (Retry(total=3, connect=None, read=None, redirect=None, status=None)) after connection broken by 'NewConnectionError('<pip._vendor.urllib3.connection.HTTPSConnection object at 0x7fc91fcd1c40>: Failed to establish a new connection: [Errno -3] Temporary failure in name resolution')': /simple/importlib-metadata/\u001b[0m\n",
            "\u001b[33mWARNING: Retrying (Retry(total=2, connect=None, read=None, redirect=None, status=None)) after connection broken by 'NewConnectionError('<pip._vendor.urllib3.connection.HTTPSConnection object at 0x7fc91fcd1e80>: Failed to establish a new connection: [Errno -3] Temporary failure in name resolution')': /simple/importlib-metadata/\u001b[0m\n",
            "\u001b[33mWARNING: Retrying (Retry(total=1, connect=None, read=None, redirect=None, status=None)) after connection broken by 'NewConnectionError('<pip._vendor.urllib3.connection.HTTPSConnection object at 0x7fc91fcd16a0>: Failed to establish a new connection: [Errno -3] Temporary failure in name resolution')': /simple/importlib-metadata/\u001b[0m\n",
            "\u001b[33mWARNING: Retrying (Retry(total=0, connect=None, read=None, redirect=None, status=None)) after connection broken by 'NewConnectionError('<pip._vendor.urllib3.connection.HTTPSConnection object at 0x7fc91fcd17f0>: Failed to establish a new connection: [Errno -3] Temporary failure in name resolution')': /simple/importlib-metadata/\u001b[0m\n",
            "\u001b[33mWARNING: Retrying (Retry(total=4, connect=None, read=None, redirect=None, status=None)) after connection broken by 'NewConnectionError('<pip._vendor.urllib3.connection.HTTPSConnection object at 0x7fc91fc79610>: Failed to establish a new connection: [Errno -3] Temporary failure in name resolution')': /simple/markdown/\u001b[0m\n",
            "\u001b[33mWARNING: Retrying (Retry(total=3, connect=None, read=None, redirect=None, status=None)) after connection broken by 'NewConnectionError('<pip._vendor.urllib3.connection.HTTPSConnection object at 0x7fc91fc797f0>: Failed to establish a new connection: [Errno -3] Temporary failure in name resolution')': /simple/markdown/\u001b[0m\n",
            "\u001b[33mWARNING: Retrying (Retry(total=2, connect=None, read=None, redirect=None, status=None)) after connection broken by 'NewConnectionError('<pip._vendor.urllib3.connection.HTTPSConnection object at 0x7fc91fc799a0>: Failed to establish a new connection: [Errno -3] Temporary failure in name resolution')': /simple/markdown/\u001b[0m\n",
            "\u001b[33mWARNING: Retrying (Retry(total=1, connect=None, read=None, redirect=None, status=None)) after connection broken by 'NewConnectionError('<pip._vendor.urllib3.connection.HTTPSConnection object at 0x7fc91fc79b50>: Failed to establish a new connection: [Errno -3] Temporary failure in name resolution')': /simple/markdown/\u001b[0m\n",
            "\u001b[33mWARNING: Retrying (Retry(total=0, connect=None, read=None, redirect=None, status=None)) after connection broken by 'NewConnectionError('<pip._vendor.urllib3.connection.HTTPSConnection object at 0x7fc91fc79d00>: Failed to establish a new connection: [Errno -3] Temporary failure in name resolution')': /simple/markdown/\u001b[0m\n",
            "INFO: pip is looking at multiple versions of google-auth-oauthlib to determine which version is compatible with other requirements. This could take a while.\n",
            "\u001b[33mWARNING: Retrying (Retry(total=4, connect=None, read=None, redirect=None, status=None)) after connection broken by 'NewConnectionError('<pip._vendor.urllib3.connection.HTTPSConnection object at 0x7fc91fc89160>: Failed to establish a new connection: [Errno -3] Temporary failure in name resolution')': /simple/google-auth-oauthlib/\u001b[0m\n",
            "\u001b[33mWARNING: Retrying (Retry(total=3, connect=None, read=None, redirect=None, status=None)) after connection broken by 'NewConnectionError('<pip._vendor.urllib3.connection.HTTPSConnection object at 0x7fc91fc89340>: Failed to establish a new connection: [Errno -3] Temporary failure in name resolution')': /simple/google-auth-oauthlib/\u001b[0m\n",
            "\u001b[33mWARNING: Retrying (Retry(total=2, connect=None, read=None, redirect=None, status=None)) after connection broken by 'NewConnectionError('<pip._vendor.urllib3.connection.HTTPSConnection object at 0x7fc91fc894f0>: Failed to establish a new connection: [Errno -3] Temporary failure in name resolution')': /simple/google-auth-oauthlib/\u001b[0m\n",
            "\u001b[33mWARNING: Retrying (Retry(total=1, connect=None, read=None, redirect=None, status=None)) after connection broken by 'NewConnectionError('<pip._vendor.urllib3.connection.HTTPSConnection object at 0x7fc91fc896a0>: Failed to establish a new connection: [Errno -3] Temporary failure in name resolution')': /simple/google-auth-oauthlib/\u001b[0m\n",
            "\u001b[33mWARNING: Retrying (Retry(total=0, connect=None, read=None, redirect=None, status=None)) after connection broken by 'NewConnectionError('<pip._vendor.urllib3.connection.HTTPSConnection object at 0x7fc91fc80730>: Failed to establish a new connection: [Errno -3] Temporary failure in name resolution')': /simple/google-auth-oauthlib/\u001b[0m\n",
            "^C\n",
            "\u001b[31mERROR: Operation cancelled by user\u001b[0m\n",
            "\u001b[33mWARNING: You are using pip version 21.1.1; however, version 22.3.1 is available.\n",
            "You should consider upgrading via the '/home/digitalhub/.pyenv/versions/3.8.12/bin/python3.8 -m pip install --upgrade pip' command.\u001b[0m\n",
            "Requirement already satisfied: pyconll in /home/digitalhub/.pyenv/versions/3.8.12/lib/python3.8/site-packages (3.1.0)\n",
            "\u001b[33mWARNING: You are using pip version 21.1.1; however, version 22.3.1 is available.\n",
            "You should consider upgrading via the '/home/digitalhub/.pyenv/versions/3.8.12/bin/python3.8 -m pip install --upgrade pip' command.\u001b[0m\n",
            "Collecting git+https://www.github.com/keras-team/keras-contrib.git\n",
            "  Cloning https://www.github.com/keras-team/keras-contrib.git to /tmp/pip-req-build-bs906pag\n",
            "  Running command git clone -q https://www.github.com/keras-team/keras-contrib.git /tmp/pip-req-build-bs906pag\n",
            "  fatal: unable to access 'https://www.github.com/keras-team/keras-contrib.git/': Could not resolve host: www.github.com\n",
            "\u001b[33mWARNING: Discarding git+https://www.github.com/keras-team/keras-contrib.git. Command errored out with exit status 128: git clone -q https://www.github.com/keras-team/keras-contrib.git /tmp/pip-req-build-bs906pag Check the logs for full command output.\u001b[0m\n",
            "\u001b[31mERROR: Command errored out with exit status 128: git clone -q https://www.github.com/keras-team/keras-contrib.git /tmp/pip-req-build-bs906pag Check the logs for full command output.\u001b[0m\n",
            "\u001b[33mWARNING: You are using pip version 21.1.1; however, version 22.3.1 is available.\n",
            "You should consider upgrading via the '/home/digitalhub/.pyenv/versions/3.8.12/bin/python3.8 -m pip install --upgrade pip' command.\u001b[0m\n",
            "Requirement already satisfied: conllu in /home/digitalhub/.pyenv/versions/3.8.12/lib/python3.8/site-packages (4.5.2)\n",
            "\u001b[33mWARNING: You are using pip version 21.1.1; however, version 22.3.1 is available.\n",
            "You should consider upgrading via the '/home/digitalhub/.pyenv/versions/3.8.12/bin/python3.8 -m pip install --upgrade pip' command.\u001b[0m\n",
            "Requirement already satisfied: flair in /home/digitalhub/.pyenv/versions/3.8.12/lib/python3.8/site-packages (0.11.3)\n",
            "Requirement already satisfied: gensim>=3.4.0 in /home/digitalhub/.pyenv/versions/3.8.12/lib/python3.8/site-packages (from flair) (4.2.0)\n",
            "Requirement already satisfied: sentencepiece==0.1.95 in /home/digitalhub/.pyenv/versions/3.8.12/lib/python3.8/site-packages (from flair) (0.1.95)\n",
            "Requirement already satisfied: python-dateutil>=2.6.1 in /home/digitalhub/.local/lib/python3.8/site-packages (from flair) (2.8.2)\n",
            "Requirement already satisfied: wikipedia-api in /home/digitalhub/.pyenv/versions/3.8.12/lib/python3.8/site-packages (from flair) (0.5.4)\n",
            "Requirement already satisfied: scikit-learn>=0.21.3 in /home/digitalhub/.local/lib/python3.8/site-packages (from flair) (1.0.1)\n",
            "Requirement already satisfied: janome in /home/digitalhub/.pyenv/versions/3.8.12/lib/python3.8/site-packages (from flair) (0.4.2)\n",
            "Requirement already satisfied: ftfy in /home/digitalhub/.pyenv/versions/3.8.12/lib/python3.8/site-packages (from flair) (6.1.1)\n",
            "Requirement already satisfied: huggingface-hub in /home/digitalhub/.pyenv/versions/3.8.12/lib/python3.8/site-packages (from flair) (0.11.0)\n",
            "Requirement already satisfied: sqlitedict>=1.6.0 in /home/digitalhub/.pyenv/versions/3.8.12/lib/python3.8/site-packages (from flair) (2.0.0)\n",
            "Requirement already satisfied: hyperopt>=0.2.7 in /home/digitalhub/.pyenv/versions/3.8.12/lib/python3.8/site-packages (from flair) (0.2.7)\n",
            "Requirement already satisfied: more-itertools in /home/digitalhub/.pyenv/versions/3.8.12/lib/python3.8/site-packages (from flair) (9.0.0)\n",
            "Requirement already satisfied: torch!=1.8,>=1.5.0 in /home/digitalhub/.local/lib/python3.8/site-packages (from flair) (1.10.0)\n",
            "Requirement already satisfied: konoha<5.0.0,>=4.0.0 in /home/digitalhub/.pyenv/versions/3.8.12/lib/python3.8/site-packages (from flair) (4.6.5)\n",
            "Requirement already satisfied: matplotlib>=2.2.3 in /home/digitalhub/.pyenv/versions/3.8.12/lib/python3.8/site-packages (from flair) (3.6.2)\n",
            "Requirement already satisfied: segtok>=1.5.7 in /home/digitalhub/.pyenv/versions/3.8.12/lib/python3.8/site-packages (from flair) (1.5.11)\n",
            "Requirement already satisfied: pptree in /home/digitalhub/.pyenv/versions/3.8.12/lib/python3.8/site-packages (from flair) (3.1)\n",
            "Requirement already satisfied: mpld3==0.3 in /home/digitalhub/.pyenv/versions/3.8.12/lib/python3.8/site-packages (from flair) (0.3)\n",
            "Requirement already satisfied: tqdm>=4.26.0 in /home/digitalhub/.local/lib/python3.8/site-packages (from flair) (4.62.3)\n",
            "Requirement already satisfied: langdetect in /home/digitalhub/.pyenv/versions/3.8.12/lib/python3.8/site-packages (from flair) (1.0.9)\n",
            "Requirement already satisfied: deprecated>=1.2.4 in /home/digitalhub/.pyenv/versions/3.8.12/lib/python3.8/site-packages (from flair) (1.2.13)\n",
            "Requirement already satisfied: bpemb>=0.3.2 in /home/digitalhub/.pyenv/versions/3.8.12/lib/python3.8/site-packages (from flair) (0.3.4)\n",
            "Requirement already satisfied: tabulate in /home/digitalhub/.pyenv/versions/3.8.12/lib/python3.8/site-packages (from flair) (0.9.0)\n",
            "Requirement already satisfied: conllu>=4.0 in /home/digitalhub/.pyenv/versions/3.8.12/lib/python3.8/site-packages (from flair) (4.5.2)\n",
            "Requirement already satisfied: lxml in /home/digitalhub/.pyenv/versions/3.8.12/lib/python3.8/site-packages (from flair) (4.9.1)\n",
            "Requirement already satisfied: gdown==4.4.0 in /home/digitalhub/.pyenv/versions/3.8.12/lib/python3.8/site-packages (from flair) (4.4.0)\n",
            "Requirement already satisfied: transformers>=4.0.0 in /home/digitalhub/.pyenv/versions/3.8.12/lib/python3.8/site-packages (from flair) (4.24.0)\n",
            "Requirement already satisfied: regex in /home/digitalhub/.pyenv/versions/3.8.12/lib/python3.8/site-packages (from flair) (2022.10.31)\n",
            "Requirement already satisfied: filelock in /home/digitalhub/.local/lib/python3.8/site-packages (from gdown==4.4.0->flair) (3.4.0)\n",
            "Requirement already satisfied: requests[socks] in /home/digitalhub/.pyenv/versions/3.8.12/lib/python3.8/site-packages (from gdown==4.4.0->flair) (2.28.1)\n",
            "Requirement already satisfied: beautifulsoup4 in /home/digitalhub/.pyenv/versions/3.8.12/lib/python3.8/site-packages (from gdown==4.4.0->flair) (4.11.1)\n",
            "Requirement already satisfied: six in /home/digitalhub/.pyenv/versions/3.8.12/lib/python3.8/site-packages (from gdown==4.4.0->flair) (1.16.0)\n",
            "Requirement already satisfied: numpy in /home/digitalhub/.local/lib/python3.8/site-packages (from bpemb>=0.3.2->flair) (1.21.4)\n",
            "Requirement already satisfied: wrapt<2,>=1.10 in /home/digitalhub/.local/lib/python3.8/site-packages (from deprecated>=1.2.4->flair) (1.13.3)\n",
            "Requirement already satisfied: scipy>=0.18.1 in /home/digitalhub/.local/lib/python3.8/site-packages (from gensim>=3.4.0->flair) (1.7.2)\n",
            "Requirement already satisfied: smart-open>=1.8.1 in /home/digitalhub/.pyenv/versions/3.8.12/lib/python3.8/site-packages (from gensim>=3.4.0->flair) (6.2.0)\n",
            "Requirement already satisfied: cloudpickle in /home/digitalhub/.pyenv/versions/3.8.12/lib/python3.8/site-packages (from hyperopt>=0.2.7->flair) (2.2.0)\n",
            "Requirement already satisfied: py4j in /home/digitalhub/.pyenv/versions/3.8.12/lib/python3.8/site-packages (from hyperopt>=0.2.7->flair) (0.10.9.7)\n",
            "Requirement already satisfied: networkx>=2.2 in /home/digitalhub/.pyenv/versions/3.8.12/lib/python3.8/site-packages (from hyperopt>=0.2.7->flair) (2.8.8)\n",
            "Requirement already satisfied: future in /home/digitalhub/.local/lib/python3.8/site-packages (from hyperopt>=0.2.7->flair) (0.18.2)\n",
            "Requirement already satisfied: overrides<4.0.0,>=3.0.0 in /home/digitalhub/.pyenv/versions/3.8.12/lib/python3.8/site-packages (from konoha<5.0.0,>=4.0.0->flair) (3.1.0)\n",
            "Requirement already satisfied: importlib-metadata<4.0.0,>=3.7.0 in /home/digitalhub/.pyenv/versions/3.8.12/lib/python3.8/site-packages (from konoha<5.0.0,>=4.0.0->flair) (3.10.1)\n",
            "Requirement already satisfied: zipp>=0.5 in /home/digitalhub/.local/lib/python3.8/site-packages (from importlib-metadata<4.0.0,>=3.7.0->konoha<5.0.0,>=4.0.0->flair) (3.6.0)\n",
            "Requirement already satisfied: packaging>=20.0 in /home/digitalhub/.local/lib/python3.8/site-packages (from matplotlib>=2.2.3->flair) (21.3)\n",
            "Requirement already satisfied: fonttools>=4.22.0 in /home/digitalhub/.pyenv/versions/3.8.12/lib/python3.8/site-packages (from matplotlib>=2.2.3->flair) (4.38.0)\n",
            "Requirement already satisfied: cycler>=0.10 in /home/digitalhub/.pyenv/versions/3.8.12/lib/python3.8/site-packages (from matplotlib>=2.2.3->flair) (0.11.0)\n",
            "Requirement already satisfied: contourpy>=1.0.1 in /home/digitalhub/.pyenv/versions/3.8.12/lib/python3.8/site-packages (from matplotlib>=2.2.3->flair) (1.0.6)\n",
            "Requirement already satisfied: pyparsing>=2.2.1 in /home/digitalhub/.local/lib/python3.8/site-packages (from matplotlib>=2.2.3->flair) (2.4.7)\n",
            "Requirement already satisfied: kiwisolver>=1.0.1 in /home/digitalhub/.pyenv/versions/3.8.12/lib/python3.8/site-packages (from matplotlib>=2.2.3->flair) (1.4.4)\n",
            "Requirement already satisfied: pillow>=6.2.0 in /home/digitalhub/.pyenv/versions/3.8.12/lib/python3.8/site-packages (from matplotlib>=2.2.3->flair) (9.3.0)\n",
            "Requirement already satisfied: idna<4,>=2.5 in /home/digitalhub/.pyenv/versions/3.8.12/lib/python3.8/site-packages (from requests[socks]->gdown==4.4.0->flair) (3.4)\n",
            "Requirement already satisfied: certifi>=2017.4.17 in /home/digitalhub/.pyenv/versions/3.8.12/lib/python3.8/site-packages (from requests[socks]->gdown==4.4.0->flair) (2022.9.24)\n",
            "Requirement already satisfied: charset-normalizer<3,>=2 in /home/digitalhub/.local/lib/python3.8/site-packages (from requests[socks]->gdown==4.4.0->flair) (2.0.7)\n",
            "Requirement already satisfied: urllib3<1.27,>=1.21.1 in /home/digitalhub/.pyenv/versions/3.8.12/lib/python3.8/site-packages (from requests[socks]->gdown==4.4.0->flair) (1.26.12)\n",
            "Requirement already satisfied: threadpoolctl>=2.0.0 in /home/digitalhub/.local/lib/python3.8/site-packages (from scikit-learn>=0.21.3->flair) (3.0.0)\n",
            "Requirement already satisfied: joblib>=0.11 in /home/digitalhub/.local/lib/python3.8/site-packages (from scikit-learn>=0.21.3->flair) (1.1.0)\n",
            "Requirement already satisfied: typing-extensions in /home/digitalhub/.local/lib/python3.8/site-packages (from torch!=1.8,>=1.5.0->flair) (4.0.0)\n",
            "Requirement already satisfied: pyyaml>=5.1 in /home/digitalhub/.pyenv/versions/3.8.12/lib/python3.8/site-packages (from transformers>=4.0.0->flair) (6.0)\n",
            "Requirement already satisfied: tokenizers!=0.11.3,<0.14,>=0.11.1 in /home/digitalhub/.pyenv/versions/3.8.12/lib/python3.8/site-packages (from transformers>=4.0.0->flair) (0.13.2)\n",
            "Requirement already satisfied: soupsieve>1.2 in /home/digitalhub/.pyenv/versions/3.8.12/lib/python3.8/site-packages (from beautifulsoup4->gdown==4.4.0->flair) (2.3.2.post1)\n",
            "Requirement already satisfied: wcwidth>=0.2.5 in /home/digitalhub/.pyenv/versions/3.8.12/lib/python3.8/site-packages (from ftfy->flair) (0.2.5)\n",
            "Requirement already satisfied: PySocks!=1.5.7,>=1.5.6 in /home/digitalhub/.pyenv/versions/3.8.12/lib/python3.8/site-packages (from requests[socks]->gdown==4.4.0->flair) (1.7.1)\n",
            "\u001b[33mWARNING: You are using pip version 21.1.1; however, version 22.3.1 is available.\n",
            "You should consider upgrading via the '/home/digitalhub/.pyenv/versions/3.8.12/bin/python3.8 -m pip install --upgrade pip' command.\u001b[0m\n"
          ]
        }
      ],
      "source": [
        "!pip install plot_keras_history\n",
        "!pip install keras\n",
        "!pip install tensorflow\n",
        "!pip install pyconll\n",
        "!pip install git+https://www.github.com/keras-team/keras-contrib.git\n",
        "!pip install conllu\n",
        "!pip install flair"
      ]
    },
    {
      "cell_type": "markdown",
      "metadata": {
        "id": "uuRfitpw2NAW"
      },
      "source": [
        "# Import packages"
      ]
    },
    {
      "cell_type": "code",
      "execution_count": 2,
      "metadata": {
        "id": "M3XPDgA9FP0b"
      },
      "outputs": [
        {
          "name": "stderr",
          "output_type": "stream",
          "text": [
            "2022-11-30 10:56:29.732300: W tensorflow/stream_executor/platform/default/dso_loader.cc:64] Could not load dynamic library 'libcudart.so.11.0'; dlerror: libcudart.so.11.0: cannot open shared object file: No such file or directory\n",
            "2022-11-30 10:56:29.732316: I tensorflow/stream_executor/cuda/cudart_stub.cc:29] Ignore above cudart dlerror if you do not have a GPU set up on your machine.\n"
          ]
        }
      ],
      "source": [
        "import pickle\n",
        "import operator\n",
        "import re\n",
        "import string\n",
        "import pandas as pd\n",
        "import numpy as np\n",
        "import matplotlib.pyplot as plt\n",
        "import pyconll\n",
        "import tensorflow as tf\n",
        "\n",
        "from plot_keras_history import plot_history\n",
        "from sklearn.model_selection import train_test_split\n",
        "from sklearn.metrics import multilabel_confusion_matrix\n",
        "from keras_contrib.utils import save_load_utils\n",
        "\n",
        "from keras import layers\n",
        "from keras import optimizers\n",
        "\n",
        "from keras.models import Model\n",
        "from keras.layers import Input\n",
        "\n",
        "from keras_contrib.layers import CRF\n",
        "from keras_contrib import losses\n",
        "from keras_contrib import metrics\n",
        "\n",
        "from typing import List\n",
        "from flair.data import Corpus\n",
        "from flair.datasets import ColumnCorpus, CONLL_03\n",
        "from flair.data import Sentence\n",
        "from flair.models import SequenceTagger\n",
        "from flair.trainers import ModelTrainer\n",
        "from flair.embeddings import WordEmbeddings, TokenEmbeddings, FlairEmbeddings, PooledFlairEmbeddings, StackedEmbeddings"
      ]
    },
    {
      "cell_type": "markdown",
      "metadata": {},
      "source": [
        "# BiLSTM-CRF"
      ]
    },
    {
      "cell_type": "markdown",
      "metadata": {
        "id": "orqxebPu3cBh"
      },
      "source": [
        "## On domain-specific (re3d) data"
      ]
    },
    {
      "cell_type": "code",
      "execution_count": 4,
      "metadata": {},
      "outputs": [
        {
          "name": "stdout",
          "output_type": "stream",
          "text": [
            "2022-11-30 10:57:19,078 Reading data from entity-recognition-datasets-master/data/re3d/CONLL-format/data/splits\n",
            "2022-11-30 10:57:19,079 Train: entity-recognition-datasets-master/data/re3d/CONLL-format/data/splits/train.conll\n",
            "2022-11-30 10:57:19,079 Dev: entity-recognition-datasets-master/data/re3d/CONLL-format/data/splits/val.conll\n",
            "2022-11-30 10:57:19,079 Test: entity-recognition-datasets-master/data/re3d/CONLL-format/data/splits/test.conll\n"
          ]
        }
      ],
      "source": [
        "# define columns\n",
        "columns = {0: 'text', 1: 'ner'}\n",
        "\n",
        "# this is the folder in which train, test and dev files reside\n",
        "data_folder = 'entity-recognition-datasets-master/data/re3d/CONLL-format/data/splits'\n",
        "\n",
        "# init a corpus using column format, data folder and the names of the train, dev and test files\n",
        "corpus: Corpus = ColumnCorpus(data_folder, columns,\n",
        "                              train_file='train.conll',\n",
        "                              test_file='test.conll',\n",
        "                              dev_file='val.conll')"
      ]
    },
    {
      "cell_type": "code",
      "execution_count": 5,
      "metadata": {},
      "outputs": [
        {
          "name": "stdout",
          "output_type": "stream",
          "text": [
            "Sentence: \"Operation Steel Curtain ( Arabic : ا ل ح ج ا ب ا ل ف و ل ا ذ ي Al Hejab Elfulathi ) was a military operation executed by coalition forces in early November 2005 to reduce the flow of foreign insurgents crossing the border and joining the Iraqi insurgency .\" → [\"coalition forces\"/Organisation, \"early November 2005\"/Temporal, \"foreign insurgents\"/Organisation, \"Iraqi\"/Nationality]\n",
            "771\n"
          ]
        }
      ],
      "source": [
        "print(corpus.train[0].to_tagged_string('ner'))\n",
        "print(len(corpus.train))"
      ]
    },
    {
      "cell_type": "code",
      "execution_count": 6,
      "metadata": {},
      "outputs": [
        {
          "name": "stdout",
          "output_type": "stream",
          "text": [
            "2022-11-30 10:57:24,999 Computing label dictionary. Progress:\n"
          ]
        },
        {
          "name": "stderr",
          "output_type": "stream",
          "text": [
            "771it [00:00, 65857.65it/s]"
          ]
        },
        {
          "name": "stdout",
          "output_type": "stream",
          "text": [
            "2022-11-30 10:57:25,018 Dictionary created for label 'ner' with 11 values: Organisation (seen 1113 times), Location (seen 647 times), Person (seen 415 times), Temporal (seen 179 times), Quantity (seen 151 times), Weapon (seen 81 times), DocumentReference (seen 50 times), MilitaryPlatform (seen 48 times), Nationality (seen 34 times), Money (seen 20 times)\n"
          ]
        },
        {
          "name": "stderr",
          "output_type": "stream",
          "text": [
            "\n"
          ]
        }
      ],
      "source": [
        "# Define tags to predict\n",
        "tag_type = 'ner'# make tag dictionary from the corpus\n",
        "tag_dictionary = corpus.make_label_dictionary(label_type=tag_type)"
      ]
    },
    {
      "cell_type": "code",
      "execution_count": 7,
      "metadata": {},
      "outputs": [],
      "source": [
        "# Embeddings\n",
        "\n",
        "from typing import List\n",
        "from flair.embeddings import WordEmbeddings, FlairEmbeddings, StackedEmbeddings"
      ]
    },
    {
      "cell_type": "code",
      "execution_count": 8,
      "metadata": {},
      "outputs": [],
      "source": [
        "embedding_types = [\n",
        "    # init standard GloVe embedding\n",
        "    WordEmbeddings('glove'),\n",
        "\n",
        "    # init Flair forward and backwards embeddings\n",
        "    FlairEmbeddings('news-forward'),\n",
        "    FlairEmbeddings('news-backward'),\n",
        "]\n",
        "\n",
        "embeddings = StackedEmbeddings(embeddings=embedding_types)\n"
      ]
    },
    {
      "cell_type": "code",
      "execution_count": 9,
      "metadata": {},
      "outputs": [
        {
          "name": "stdout",
          "output_type": "stream",
          "text": [
            "2022-11-29 14:33:10,012 SequenceTagger predicts: Dictionary with 41 tags: O, S-Organisation, B-Organisation, E-Organisation, I-Organisation, S-Location, B-Location, E-Location, I-Location, S-Person, B-Person, E-Person, I-Person, S-Temporal, B-Temporal, E-Temporal, I-Temporal, S-Quantity, B-Quantity, E-Quantity, I-Quantity, S-Weapon, B-Weapon, E-Weapon, I-Weapon, S-DocumentReference, B-DocumentReference, E-DocumentReference, I-DocumentReference, S-MilitaryPlatform, B-MilitaryPlatform, E-MilitaryPlatform, I-MilitaryPlatform, S-Nationality, B-Nationality, E-Nationality, I-Nationality, S-Money, B-Money, E-Money, I-Money\n",
            "SequenceTagger(\n",
            "  (embeddings): StackedEmbeddings(\n",
            "    (list_embedding_0): WordEmbeddings(\n",
            "      'glove'\n",
            "      (embedding): Embedding(400001, 100)\n",
            "    )\n",
            "    (list_embedding_1): FlairEmbeddings(\n",
            "      (lm): LanguageModel(\n",
            "        (drop): Dropout(p=0.05, inplace=False)\n",
            "        (encoder): Embedding(300, 100)\n",
            "        (rnn): LSTM(100, 2048)\n",
            "        (decoder): Linear(in_features=2048, out_features=300, bias=True)\n",
            "      )\n",
            "    )\n",
            "    (list_embedding_2): FlairEmbeddings(\n",
            "      (lm): LanguageModel(\n",
            "        (drop): Dropout(p=0.05, inplace=False)\n",
            "        (encoder): Embedding(300, 100)\n",
            "        (rnn): LSTM(100, 2048)\n",
            "        (decoder): Linear(in_features=2048, out_features=300, bias=True)\n",
            "      )\n",
            "    )\n",
            "  )\n",
            "  (word_dropout): WordDropout(p=0.05)\n",
            "  (locked_dropout): LockedDropout(p=0.5)\n",
            "  (embedding2nn): Linear(in_features=4196, out_features=4196, bias=True)\n",
            "  (rnn): LSTM(4196, 256, batch_first=True, bidirectional=True)\n",
            "  (linear): Linear(in_features=512, out_features=43, bias=True)\n",
            "  (loss_function): ViterbiLoss()\n",
            "  (crf): CRF()\n",
            ")\n",
            "2022-11-29 14:33:10,125 ----------------------------------------------------------------------------------------------------\n",
            "2022-11-29 14:33:10,126 Model: \"SequenceTagger(\n",
            "  (embeddings): StackedEmbeddings(\n",
            "    (list_embedding_0): WordEmbeddings(\n",
            "      'glove'\n",
            "      (embedding): Embedding(400001, 100)\n",
            "    )\n",
            "    (list_embedding_1): FlairEmbeddings(\n",
            "      (lm): LanguageModel(\n",
            "        (drop): Dropout(p=0.05, inplace=False)\n",
            "        (encoder): Embedding(300, 100)\n",
            "        (rnn): LSTM(100, 2048)\n",
            "        (decoder): Linear(in_features=2048, out_features=300, bias=True)\n",
            "      )\n",
            "    )\n",
            "    (list_embedding_2): FlairEmbeddings(\n",
            "      (lm): LanguageModel(\n",
            "        (drop): Dropout(p=0.05, inplace=False)\n",
            "        (encoder): Embedding(300, 100)\n",
            "        (rnn): LSTM(100, 2048)\n",
            "        (decoder): Linear(in_features=2048, out_features=300, bias=True)\n",
            "      )\n",
            "    )\n",
            "  )\n",
            "  (word_dropout): WordDropout(p=0.05)\n",
            "  (locked_dropout): LockedDropout(p=0.5)\n",
            "  (embedding2nn): Linear(in_features=4196, out_features=4196, bias=True)\n",
            "  (rnn): LSTM(4196, 256, batch_first=True, bidirectional=True)\n",
            "  (linear): Linear(in_features=512, out_features=43, bias=True)\n",
            "  (loss_function): ViterbiLoss()\n",
            "  (crf): CRF()\n",
            ")\"\n",
            "2022-11-29 14:33:10,126 ----------------------------------------------------------------------------------------------------\n",
            "2022-11-29 14:33:10,127 Corpus: \"Corpus: 771 train + 98 dev + 96 test sentences\"\n",
            "2022-11-29 14:33:10,127 ----------------------------------------------------------------------------------------------------\n",
            "2022-11-29 14:33:10,127 Parameters:\n",
            "2022-11-29 14:33:10,127  - learning_rate: \"0.100000\"\n",
            "2022-11-29 14:33:10,128  - mini_batch_size: \"32\"\n",
            "2022-11-29 14:33:10,128  - patience: \"3\"\n",
            "2022-11-29 14:33:10,128  - anneal_factor: \"0.5\"\n",
            "2022-11-29 14:33:10,129  - max_epochs: \"150\"\n",
            "2022-11-29 14:33:10,129  - shuffle: \"True\"\n",
            "2022-11-29 14:33:10,129  - train_with_dev: \"False\"\n",
            "2022-11-29 14:33:10,130  - batch_growth_annealing: \"False\"\n",
            "2022-11-29 14:33:10,130 ----------------------------------------------------------------------------------------------------\n",
            "2022-11-29 14:33:10,130 Model training base path: \"resources/taggers/re3d-ner\"\n",
            "2022-11-29 14:33:10,131 ----------------------------------------------------------------------------------------------------\n",
            "2022-11-29 14:33:10,131 Device: cpu\n",
            "2022-11-29 14:33:10,132 ----------------------------------------------------------------------------------------------------\n",
            "2022-11-29 14:33:10,132 Embeddings storage mode: cpu\n",
            "2022-11-29 14:33:10,132 ----------------------------------------------------------------------------------------------------\n"
          ]
        },
        {
          "name": "stderr",
          "output_type": "stream",
          "text": [
            "/home/digitalhub/.pyenv/versions/3.8.12/lib/python3.8/site-packages/flair/trainers/trainer.py:64: UserWarning: There should be no best model saved at epoch 1 except there is a model from previous trainings in your training folder. All previous best models will be deleted.\n",
            "  warnings.warn(\n"
          ]
        },
        {
          "name": "stdout",
          "output_type": "stream",
          "text": [
            "2022-11-29 14:33:17,470 epoch 1 - iter 2/25 - loss 3.92332979 - samples/sec: 8.72 - lr: 0.100000\n",
            "2022-11-29 14:33:24,642 epoch 1 - iter 4/25 - loss 3.12740240 - samples/sec: 8.92 - lr: 0.100000\n",
            "2022-11-29 14:33:30,958 epoch 1 - iter 6/25 - loss 2.77152550 - samples/sec: 10.13 - lr: 0.100000\n",
            "2022-11-29 14:33:38,714 epoch 1 - iter 8/25 - loss 2.51315506 - samples/sec: 8.25 - lr: 0.100000\n",
            "2022-11-29 14:33:45,796 epoch 1 - iter 10/25 - loss 2.35552140 - samples/sec: 9.04 - lr: 0.100000\n",
            "2022-11-29 14:33:53,326 epoch 1 - iter 12/25 - loss 2.23115748 - samples/sec: 8.50 - lr: 0.100000\n",
            "2022-11-29 14:34:06,877 epoch 1 - iter 14/25 - loss 2.19633433 - samples/sec: 4.72 - lr: 0.100000\n",
            "2022-11-29 14:34:15,095 epoch 1 - iter 16/25 - loss 2.11719954 - samples/sec: 7.79 - lr: 0.100000\n",
            "2022-11-29 14:34:22,821 epoch 1 - iter 18/25 - loss 2.07095603 - samples/sec: 8.29 - lr: 0.100000\n",
            "2022-11-29 14:34:31,439 epoch 1 - iter 20/25 - loss 2.05533246 - samples/sec: 7.43 - lr: 0.100000\n",
            "2022-11-29 14:34:42,635 epoch 1 - iter 22/25 - loss 2.03450571 - samples/sec: 5.72 - lr: 0.100000\n",
            "2022-11-29 14:34:50,722 epoch 1 - iter 24/25 - loss 2.02350767 - samples/sec: 7.91 - lr: 0.100000\n",
            "2022-11-29 14:34:51,367 ----------------------------------------------------------------------------------------------------\n",
            "2022-11-29 14:34:51,368 EPOCH 1 done: loss 2.0212 - lr 0.100000\n"
          ]
        },
        {
          "name": "stderr",
          "output_type": "stream",
          "text": [
            "100%|██████████| 4/4 [00:11<00:00,  2.75s/it]"
          ]
        },
        {
          "name": "stdout",
          "output_type": "stream",
          "text": [
            "2022-11-29 14:35:02,376 Evaluating as a multi-label problem: False\n",
            "2022-11-29 14:35:02,382 DEV : loss 1.4280058145523071 - f1-score (micro avg)  0.0056\n",
            "2022-11-29 14:35:02,390 BAD EPOCHS (no improvement): 0\n",
            "2022-11-29 14:35:02,391 saving best model\n"
          ]
        },
        {
          "name": "stderr",
          "output_type": "stream",
          "text": [
            "\n"
          ]
        },
        {
          "name": "stdout",
          "output_type": "stream",
          "text": [
            "2022-11-29 14:35:02,992 ----------------------------------------------------------------------------------------------------\n",
            "2022-11-29 14:35:04,278 epoch 2 - iter 2/25 - loss 1.52002301 - samples/sec: 49.83 - lr: 0.100000\n",
            "2022-11-29 14:35:05,069 epoch 2 - iter 4/25 - loss 1.53917062 - samples/sec: 81.02 - lr: 0.100000\n",
            "2022-11-29 14:35:06,333 epoch 2 - iter 6/25 - loss 1.57779649 - samples/sec: 50.71 - lr: 0.100000\n",
            "2022-11-29 14:35:07,964 epoch 2 - iter 8/25 - loss 1.59236107 - samples/sec: 39.27 - lr: 0.100000\n",
            "2022-11-29 14:35:09,143 epoch 2 - iter 10/25 - loss 1.58490630 - samples/sec: 54.31 - lr: 0.100000\n",
            "2022-11-29 14:35:10,176 epoch 2 - iter 12/25 - loss 1.61957236 - samples/sec: 62.02 - lr: 0.100000\n",
            "2022-11-29 14:35:11,199 epoch 2 - iter 14/25 - loss 1.59042263 - samples/sec: 62.69 - lr: 0.100000\n",
            "2022-11-29 14:35:12,030 epoch 2 - iter 16/25 - loss 1.57632374 - samples/sec: 77.06 - lr: 0.100000\n",
            "2022-11-29 14:35:13,006 epoch 2 - iter 18/25 - loss 1.56271998 - samples/sec: 65.69 - lr: 0.100000\n",
            "2022-11-29 14:35:14,206 epoch 2 - iter 20/25 - loss 1.54091797 - samples/sec: 53.35 - lr: 0.100000\n",
            "2022-11-29 14:35:15,220 epoch 2 - iter 22/25 - loss 1.55010140 - samples/sec: 63.22 - lr: 0.100000\n",
            "2022-11-29 14:35:17,768 epoch 2 - iter 24/25 - loss 1.54186431 - samples/sec: 25.12 - lr: 0.100000\n",
            "2022-11-29 14:35:17,868 ----------------------------------------------------------------------------------------------------\n",
            "2022-11-29 14:35:17,868 EPOCH 2 done: loss 1.5413 - lr 0.100000\n"
          ]
        },
        {
          "name": "stderr",
          "output_type": "stream",
          "text": [
            "100%|██████████| 4/4 [00:00<00:00,  7.06it/s]"
          ]
        },
        {
          "name": "stdout",
          "output_type": "stream",
          "text": [
            "2022-11-29 14:35:18,438 Evaluating as a multi-label problem: False\n"
          ]
        },
        {
          "name": "stderr",
          "output_type": "stream",
          "text": [
            "\n"
          ]
        },
        {
          "name": "stdout",
          "output_type": "stream",
          "text": [
            "2022-11-29 14:35:18,443 DEV : loss 1.1497913599014282 - f1-score (micro avg)  0.028\n",
            "2022-11-29 14:35:18,452 BAD EPOCHS (no improvement): 0\n",
            "2022-11-29 14:35:18,453 saving best model\n",
            "2022-11-29 14:35:19,128 ----------------------------------------------------------------------------------------------------\n",
            "2022-11-29 14:35:20,085 epoch 3 - iter 2/25 - loss 1.16072358 - samples/sec: 66.97 - lr: 0.100000\n",
            "2022-11-29 14:35:21,594 epoch 3 - iter 4/25 - loss 1.34915685 - samples/sec: 42.45 - lr: 0.100000\n",
            "2022-11-29 14:35:22,562 epoch 3 - iter 6/25 - loss 1.33543000 - samples/sec: 66.18 - lr: 0.100000\n",
            "2022-11-29 14:35:23,732 epoch 3 - iter 8/25 - loss 1.32518049 - samples/sec: 54.76 - lr: 0.100000\n",
            "2022-11-29 14:35:24,736 epoch 3 - iter 10/25 - loss 1.33749643 - samples/sec: 63.83 - lr: 0.100000\n",
            "2022-11-29 14:35:25,618 epoch 3 - iter 12/25 - loss 1.32812929 - samples/sec: 72.65 - lr: 0.100000\n",
            "2022-11-29 14:35:26,873 epoch 3 - iter 14/25 - loss 1.30656033 - samples/sec: 51.04 - lr: 0.100000\n",
            "2022-11-29 14:35:28,350 epoch 3 - iter 16/25 - loss 1.29255178 - samples/sec: 43.36 - lr: 0.100000\n",
            "2022-11-29 14:35:30,642 epoch 3 - iter 18/25 - loss 1.28577841 - samples/sec: 27.94 - lr: 0.100000\n",
            "2022-11-29 14:35:31,493 epoch 3 - iter 20/25 - loss 1.27669061 - samples/sec: 75.30 - lr: 0.100000\n",
            "2022-11-29 14:35:32,920 epoch 3 - iter 22/25 - loss 1.27327114 - samples/sec: 44.88 - lr: 0.100000\n",
            "2022-11-29 14:35:34,143 epoch 3 - iter 24/25 - loss 1.25319395 - samples/sec: 52.39 - lr: 0.100000\n",
            "2022-11-29 14:35:34,255 ----------------------------------------------------------------------------------------------------\n",
            "2022-11-29 14:35:34,256 EPOCH 3 done: loss 1.2548 - lr 0.100000\n"
          ]
        },
        {
          "name": "stderr",
          "output_type": "stream",
          "text": [
            "100%|██████████| 4/4 [00:00<00:00,  6.92it/s]"
          ]
        },
        {
          "name": "stdout",
          "output_type": "stream",
          "text": [
            "2022-11-29 14:35:34,838 Evaluating as a multi-label problem: False\n"
          ]
        },
        {
          "name": "stderr",
          "output_type": "stream",
          "text": [
            "\n"
          ]
        },
        {
          "name": "stdout",
          "output_type": "stream",
          "text": [
            "2022-11-29 14:35:34,845 DEV : loss 0.9072167277336121 - f1-score (micro avg)  0.2721\n",
            "2022-11-29 14:35:34,853 BAD EPOCHS (no improvement): 0\n",
            "2022-11-29 14:35:34,854 saving best model\n",
            "2022-11-29 14:35:35,559 ----------------------------------------------------------------------------------------------------\n",
            "2022-11-29 14:35:36,964 epoch 4 - iter 2/25 - loss 1.05016166 - samples/sec: 45.61 - lr: 0.100000\n",
            "2022-11-29 14:35:38,239 epoch 4 - iter 4/25 - loss 1.11395020 - samples/sec: 50.24 - lr: 0.100000\n",
            "2022-11-29 14:35:39,309 epoch 4 - iter 6/25 - loss 1.10398083 - samples/sec: 59.87 - lr: 0.100000\n",
            "2022-11-29 14:35:40,585 epoch 4 - iter 8/25 - loss 1.09050771 - samples/sec: 50.19 - lr: 0.100000\n",
            "2022-11-29 14:35:43,107 epoch 4 - iter 10/25 - loss 1.10833729 - samples/sec: 25.39 - lr: 0.100000\n",
            "2022-11-29 14:35:44,148 epoch 4 - iter 12/25 - loss 1.12273433 - samples/sec: 61.54 - lr: 0.100000\n",
            "2022-11-29 14:35:45,488 epoch 4 - iter 14/25 - loss 1.10758178 - samples/sec: 47.80 - lr: 0.100000\n",
            "2022-11-29 14:35:46,764 epoch 4 - iter 16/25 - loss 1.09404791 - samples/sec: 50.22 - lr: 0.100000\n",
            "2022-11-29 14:35:47,983 epoch 4 - iter 18/25 - loss 1.09076529 - samples/sec: 52.57 - lr: 0.100000\n",
            "2022-11-29 14:35:49,357 epoch 4 - iter 20/25 - loss 1.07286343 - samples/sec: 46.62 - lr: 0.100000\n",
            "2022-11-29 14:35:50,318 epoch 4 - iter 22/25 - loss 1.05343141 - samples/sec: 66.70 - lr: 0.100000\n",
            "2022-11-29 14:35:51,773 epoch 4 - iter 24/25 - loss 1.04938759 - samples/sec: 44.01 - lr: 0.100000\n",
            "2022-11-29 14:35:51,881 ----------------------------------------------------------------------------------------------------\n",
            "2022-11-29 14:35:51,882 EPOCH 4 done: loss 1.0479 - lr 0.100000\n"
          ]
        },
        {
          "name": "stderr",
          "output_type": "stream",
          "text": [
            "100%|██████████| 4/4 [00:00<00:00,  5.49it/s]"
          ]
        },
        {
          "name": "stdout",
          "output_type": "stream",
          "text": [
            "2022-11-29 14:35:52,614 Evaluating as a multi-label problem: False\n",
            "2022-11-29 14:35:52,622 DEV : loss 0.7861899733543396 - f1-score (micro avg)  0.332\n",
            "2022-11-29 14:35:52,633 BAD EPOCHS (no improvement): 0\n",
            "2022-11-29 14:35:52,634 saving best model\n"
          ]
        },
        {
          "name": "stderr",
          "output_type": "stream",
          "text": [
            "\n"
          ]
        },
        {
          "name": "stdout",
          "output_type": "stream",
          "text": [
            "2022-11-29 14:35:53,324 ----------------------------------------------------------------------------------------------------\n",
            "2022-11-29 14:35:54,618 epoch 5 - iter 2/25 - loss 0.87426302 - samples/sec: 49.53 - lr: 0.100000\n",
            "2022-11-29 14:35:55,808 epoch 5 - iter 4/25 - loss 0.91676034 - samples/sec: 53.81 - lr: 0.100000\n",
            "2022-11-29 14:35:57,384 epoch 5 - iter 6/25 - loss 0.96194750 - samples/sec: 40.64 - lr: 0.100000\n",
            "2022-11-29 14:35:58,597 epoch 5 - iter 8/25 - loss 0.92998886 - samples/sec: 52.84 - lr: 0.100000\n",
            "2022-11-29 14:36:01,444 epoch 5 - iter 10/25 - loss 0.90687446 - samples/sec: 22.49 - lr: 0.100000\n",
            "2022-11-29 14:36:02,639 epoch 5 - iter 12/25 - loss 0.88998800 - samples/sec: 53.62 - lr: 0.100000\n",
            "2022-11-29 14:36:03,578 epoch 5 - iter 14/25 - loss 0.87497392 - samples/sec: 68.26 - lr: 0.100000\n",
            "2022-11-29 14:36:05,103 epoch 5 - iter 16/25 - loss 0.88244396 - samples/sec: 42.01 - lr: 0.100000\n",
            "2022-11-29 14:36:06,447 epoch 5 - iter 18/25 - loss 0.87837369 - samples/sec: 47.68 - lr: 0.100000\n",
            "2022-11-29 14:36:07,810 epoch 5 - iter 20/25 - loss 0.87378423 - samples/sec: 46.99 - lr: 0.100000\n",
            "2022-11-29 14:36:09,010 epoch 5 - iter 22/25 - loss 0.88051565 - samples/sec: 53.40 - lr: 0.100000\n",
            "2022-11-29 14:36:10,482 epoch 5 - iter 24/25 - loss 0.89132409 - samples/sec: 43.53 - lr: 0.100000\n",
            "2022-11-29 14:36:10,609 ----------------------------------------------------------------------------------------------------\n",
            "2022-11-29 14:36:10,610 EPOCH 5 done: loss 0.8929 - lr 0.100000\n"
          ]
        },
        {
          "name": "stderr",
          "output_type": "stream",
          "text": [
            "100%|██████████| 4/4 [00:00<00:00,  5.56it/s]"
          ]
        },
        {
          "name": "stdout",
          "output_type": "stream",
          "text": [
            "2022-11-29 14:36:11,334 Evaluating as a multi-label problem: False\n",
            "2022-11-29 14:36:11,344 DEV : loss 0.7203287482261658 - f1-score (micro avg)  0.3953\n",
            "2022-11-29 14:36:11,364 BAD EPOCHS (no improvement): 0\n",
            "2022-11-29 14:36:11,365 saving best model\n"
          ]
        },
        {
          "name": "stderr",
          "output_type": "stream",
          "text": [
            "\n"
          ]
        },
        {
          "name": "stdout",
          "output_type": "stream",
          "text": [
            "2022-11-29 14:36:12,063 ----------------------------------------------------------------------------------------------------\n",
            "2022-11-29 14:36:13,303 epoch 6 - iter 2/25 - loss 0.87818701 - samples/sec: 51.65 - lr: 0.100000\n",
            "2022-11-29 14:36:14,491 epoch 6 - iter 4/25 - loss 0.83366470 - samples/sec: 53.96 - lr: 0.100000\n",
            "2022-11-29 14:36:15,716 epoch 6 - iter 6/25 - loss 0.84694757 - samples/sec: 52.29 - lr: 0.100000\n",
            "2022-11-29 14:36:17,423 epoch 6 - iter 8/25 - loss 0.86843519 - samples/sec: 37.51 - lr: 0.100000\n",
            "2022-11-29 14:36:18,756 epoch 6 - iter 10/25 - loss 0.84477231 - samples/sec: 48.07 - lr: 0.100000\n",
            "2022-11-29 14:36:19,615 epoch 6 - iter 12/25 - loss 0.82772115 - samples/sec: 74.58 - lr: 0.100000\n",
            "2022-11-29 14:36:22,731 epoch 6 - iter 14/25 - loss 0.82038719 - samples/sec: 20.55 - lr: 0.100000\n",
            "2022-11-29 14:36:24,167 epoch 6 - iter 16/25 - loss 0.80641091 - samples/sec: 44.63 - lr: 0.100000\n",
            "2022-11-29 14:36:25,547 epoch 6 - iter 18/25 - loss 0.79261304 - samples/sec: 46.39 - lr: 0.100000\n",
            "2022-11-29 14:36:26,837 epoch 6 - iter 20/25 - loss 0.78193004 - samples/sec: 49.66 - lr: 0.100000\n",
            "2022-11-29 14:36:27,813 epoch 6 - iter 22/25 - loss 0.78309620 - samples/sec: 65.68 - lr: 0.100000\n",
            "2022-11-29 14:36:28,808 epoch 6 - iter 24/25 - loss 0.77200742 - samples/sec: 64.39 - lr: 0.100000\n",
            "2022-11-29 14:36:28,904 ----------------------------------------------------------------------------------------------------\n",
            "2022-11-29 14:36:28,905 EPOCH 6 done: loss 0.7703 - lr 0.100000\n"
          ]
        },
        {
          "name": "stderr",
          "output_type": "stream",
          "text": [
            "100%|██████████| 4/4 [00:00<00:00,  6.96it/s]"
          ]
        },
        {
          "name": "stdout",
          "output_type": "stream",
          "text": [
            "2022-11-29 14:36:29,483 Evaluating as a multi-label problem: False\n"
          ]
        },
        {
          "name": "stderr",
          "output_type": "stream",
          "text": [
            "\n"
          ]
        },
        {
          "name": "stdout",
          "output_type": "stream",
          "text": [
            "2022-11-29 14:36:29,490 DEV : loss 0.6077463626861572 - f1-score (micro avg)  0.5331\n",
            "2022-11-29 14:36:29,503 BAD EPOCHS (no improvement): 0\n",
            "2022-11-29 14:36:29,504 saving best model\n",
            "2022-11-29 14:36:30,127 ----------------------------------------------------------------------------------------------------\n",
            "2022-11-29 14:36:31,011 epoch 7 - iter 2/25 - loss 0.73348649 - samples/sec: 72.49 - lr: 0.100000\n",
            "2022-11-29 14:36:31,799 epoch 7 - iter 4/25 - loss 0.70146361 - samples/sec: 81.35 - lr: 0.100000\n",
            "2022-11-29 14:36:32,709 epoch 7 - iter 6/25 - loss 0.67519940 - samples/sec: 70.35 - lr: 0.100000\n",
            "2022-11-29 14:36:33,747 epoch 7 - iter 8/25 - loss 0.68758680 - samples/sec: 61.72 - lr: 0.100000\n",
            "2022-11-29 14:36:35,013 epoch 7 - iter 10/25 - loss 0.70389185 - samples/sec: 50.59 - lr: 0.100000\n",
            "2022-11-29 14:36:36,393 epoch 7 - iter 12/25 - loss 0.73099354 - samples/sec: 46.43 - lr: 0.100000\n",
            "2022-11-29 14:36:38,940 epoch 7 - iter 14/25 - loss 0.72329679 - samples/sec: 25.14 - lr: 0.100000\n",
            "2022-11-29 14:36:40,380 epoch 7 - iter 16/25 - loss 0.70672822 - samples/sec: 44.50 - lr: 0.100000\n",
            "2022-11-29 14:36:41,614 epoch 7 - iter 18/25 - loss 0.70920207 - samples/sec: 51.89 - lr: 0.100000\n",
            "2022-11-29 14:36:43,017 epoch 7 - iter 20/25 - loss 0.70713656 - samples/sec: 45.69 - lr: 0.100000\n",
            "2022-11-29 14:36:44,335 epoch 7 - iter 22/25 - loss 0.70509878 - samples/sec: 48.59 - lr: 0.100000\n",
            "2022-11-29 14:36:45,518 epoch 7 - iter 24/25 - loss 0.70164555 - samples/sec: 54.15 - lr: 0.100000\n",
            "2022-11-29 14:36:45,653 ----------------------------------------------------------------------------------------------------\n",
            "2022-11-29 14:36:45,653 EPOCH 7 done: loss 0.7022 - lr 0.100000\n"
          ]
        },
        {
          "name": "stderr",
          "output_type": "stream",
          "text": [
            "100%|██████████| 4/4 [00:00<00:00,  5.06it/s]"
          ]
        },
        {
          "name": "stdout",
          "output_type": "stream",
          "text": [
            "2022-11-29 14:36:46,449 Evaluating as a multi-label problem: False\n",
            "2022-11-29 14:36:46,457 DEV : loss 0.5552776455879211 - f1-score (micro avg)  0.5801\n",
            "2022-11-29 14:36:46,469 BAD EPOCHS (no improvement): 0\n",
            "2022-11-29 14:36:46,471 saving best model\n"
          ]
        },
        {
          "name": "stderr",
          "output_type": "stream",
          "text": [
            "\n"
          ]
        },
        {
          "name": "stdout",
          "output_type": "stream",
          "text": [
            "2022-11-29 14:36:47,185 ----------------------------------------------------------------------------------------------------\n",
            "2022-11-29 14:36:48,394 epoch 8 - iter 2/25 - loss 0.66285825 - samples/sec: 53.00 - lr: 0.100000\n",
            "2022-11-29 14:36:49,599 epoch 8 - iter 4/25 - loss 0.65846356 - samples/sec: 53.17 - lr: 0.100000\n",
            "2022-11-29 14:36:52,755 epoch 8 - iter 6/25 - loss 0.68005553 - samples/sec: 20.29 - lr: 0.100000\n",
            "2022-11-29 14:36:53,964 epoch 8 - iter 8/25 - loss 0.65990946 - samples/sec: 52.99 - lr: 0.100000\n",
            "2022-11-29 14:36:55,418 epoch 8 - iter 10/25 - loss 0.66006543 - samples/sec: 44.05 - lr: 0.100000\n",
            "2022-11-29 14:36:56,677 epoch 8 - iter 12/25 - loss 0.65520429 - samples/sec: 50.90 - lr: 0.100000\n",
            "2022-11-29 14:36:57,882 epoch 8 - iter 14/25 - loss 0.64241493 - samples/sec: 53.14 - lr: 0.100000\n",
            "2022-11-29 14:36:59,449 epoch 8 - iter 16/25 - loss 0.64886553 - samples/sec: 40.88 - lr: 0.100000\n",
            "2022-11-29 14:37:00,620 epoch 8 - iter 18/25 - loss 0.64502600 - samples/sec: 54.71 - lr: 0.100000\n",
            "2022-11-29 14:37:02,130 epoch 8 - iter 20/25 - loss 0.63999302 - samples/sec: 42.45 - lr: 0.100000\n",
            "2022-11-29 14:37:03,588 epoch 8 - iter 22/25 - loss 0.64530091 - samples/sec: 43.91 - lr: 0.100000\n",
            "2022-11-29 14:37:04,797 epoch 8 - iter 24/25 - loss 0.64252597 - samples/sec: 53.01 - lr: 0.100000\n",
            "2022-11-29 14:37:04,934 ----------------------------------------------------------------------------------------------------\n",
            "2022-11-29 14:37:04,935 EPOCH 8 done: loss 0.6413 - lr 0.100000\n"
          ]
        },
        {
          "name": "stderr",
          "output_type": "stream",
          "text": [
            "100%|██████████| 4/4 [00:00<00:00,  4.48it/s]"
          ]
        },
        {
          "name": "stdout",
          "output_type": "stream",
          "text": [
            "2022-11-29 14:37:05,833 Evaluating as a multi-label problem: False\n",
            "2022-11-29 14:37:05,841 DEV : loss 0.5207133889198303 - f1-score (micro avg)  0.5831\n",
            "2022-11-29 14:37:05,851 BAD EPOCHS (no improvement): 0\n",
            "2022-11-29 14:37:05,852 saving best model\n"
          ]
        },
        {
          "name": "stderr",
          "output_type": "stream",
          "text": [
            "\n"
          ]
        },
        {
          "name": "stdout",
          "output_type": "stream",
          "text": [
            "2022-11-29 14:37:06,569 ----------------------------------------------------------------------------------------------------\n",
            "2022-11-29 14:37:07,802 epoch 9 - iter 2/25 - loss 0.64883045 - samples/sec: 52.04 - lr: 0.100000\n",
            "2022-11-29 14:37:09,451 epoch 9 - iter 4/25 - loss 0.63100620 - samples/sec: 38.85 - lr: 0.100000\n",
            "2022-11-29 14:37:10,869 epoch 9 - iter 6/25 - loss 0.60932479 - samples/sec: 45.18 - lr: 0.100000\n",
            "2022-11-29 14:37:12,333 epoch 9 - iter 8/25 - loss 0.61739345 - samples/sec: 43.74 - lr: 0.100000\n",
            "2022-11-29 14:37:13,409 epoch 9 - iter 10/25 - loss 0.60977280 - samples/sec: 59.55 - lr: 0.100000\n",
            "2022-11-29 14:37:14,639 epoch 9 - iter 12/25 - loss 0.62102508 - samples/sec: 52.09 - lr: 0.100000\n",
            "2022-11-29 14:37:15,996 epoch 9 - iter 14/25 - loss 0.61960564 - samples/sec: 47.22 - lr: 0.100000\n",
            "2022-11-29 14:37:17,184 epoch 9 - iter 16/25 - loss 0.60607704 - samples/sec: 53.94 - lr: 0.100000\n",
            "2022-11-29 14:37:18,191 epoch 9 - iter 18/25 - loss 0.60622680 - samples/sec: 63.68 - lr: 0.100000\n",
            "2022-11-29 14:37:19,653 epoch 9 - iter 20/25 - loss 0.59996320 - samples/sec: 43.80 - lr: 0.100000\n",
            "2022-11-29 14:37:20,702 epoch 9 - iter 22/25 - loss 0.60190575 - samples/sec: 61.13 - lr: 0.100000\n",
            "2022-11-29 14:37:24,156 epoch 9 - iter 24/25 - loss 0.59048266 - samples/sec: 18.53 - lr: 0.100000\n",
            "2022-11-29 14:37:24,263 ----------------------------------------------------------------------------------------------------\n",
            "2022-11-29 14:37:24,264 EPOCH 9 done: loss 0.5896 - lr 0.100000\n"
          ]
        },
        {
          "name": "stderr",
          "output_type": "stream",
          "text": [
            "100%|██████████| 4/4 [00:00<00:00,  5.40it/s]"
          ]
        },
        {
          "name": "stdout",
          "output_type": "stream",
          "text": [
            "2022-11-29 14:37:25,009 Evaluating as a multi-label problem: False\n",
            "2022-11-29 14:37:25,017 DEV : loss 0.4631645381450653 - f1-score (micro avg)  0.6053\n",
            "2022-11-29 14:37:25,028 BAD EPOCHS (no improvement): 0\n",
            "2022-11-29 14:37:25,030 saving best model\n"
          ]
        },
        {
          "name": "stderr",
          "output_type": "stream",
          "text": [
            "\n"
          ]
        },
        {
          "name": "stdout",
          "output_type": "stream",
          "text": [
            "2022-11-29 14:37:25,738 ----------------------------------------------------------------------------------------------------\n",
            "2022-11-29 14:37:26,732 epoch 10 - iter 2/25 - loss 0.58927293 - samples/sec: 64.41 - lr: 0.100000\n",
            "2022-11-29 14:37:28,329 epoch 10 - iter 4/25 - loss 0.55152548 - samples/sec: 40.13 - lr: 0.100000\n",
            "2022-11-29 14:37:30,037 epoch 10 - iter 6/25 - loss 0.56008494 - samples/sec: 37.49 - lr: 0.100000\n",
            "2022-11-29 14:37:31,422 epoch 10 - iter 8/25 - loss 0.54584118 - samples/sec: 46.27 - lr: 0.100000\n",
            "2022-11-29 14:37:32,865 epoch 10 - iter 10/25 - loss 0.55096890 - samples/sec: 44.40 - lr: 0.100000\n",
            "2022-11-29 14:37:35,632 epoch 10 - iter 12/25 - loss 0.54851934 - samples/sec: 23.14 - lr: 0.100000\n",
            "2022-11-29 14:37:36,860 epoch 10 - iter 14/25 - loss 0.56628864 - samples/sec: 52.15 - lr: 0.100000\n",
            "2022-11-29 14:37:38,100 epoch 10 - iter 16/25 - loss 0.55943845 - samples/sec: 51.66 - lr: 0.100000\n",
            "2022-11-29 14:37:39,605 epoch 10 - iter 18/25 - loss 0.55015439 - samples/sec: 42.57 - lr: 0.100000\n",
            "2022-11-29 14:37:40,479 epoch 10 - iter 20/25 - loss 0.54985230 - samples/sec: 73.32 - lr: 0.100000\n",
            "2022-11-29 14:37:41,658 epoch 10 - iter 22/25 - loss 0.55635723 - samples/sec: 54.31 - lr: 0.100000\n",
            "2022-11-29 14:37:42,779 epoch 10 - iter 24/25 - loss 0.55387219 - samples/sec: 57.17 - lr: 0.100000\n",
            "2022-11-29 14:37:42,889 ----------------------------------------------------------------------------------------------------\n",
            "2022-11-29 14:37:42,889 EPOCH 10 done: loss 0.5556 - lr 0.100000\n"
          ]
        },
        {
          "name": "stderr",
          "output_type": "stream",
          "text": [
            "100%|██████████| 4/4 [00:00<00:00,  6.80it/s]"
          ]
        },
        {
          "name": "stdout",
          "output_type": "stream",
          "text": [
            "2022-11-29 14:37:43,481 Evaluating as a multi-label problem: False\n"
          ]
        },
        {
          "name": "stderr",
          "output_type": "stream",
          "text": [
            "\n"
          ]
        },
        {
          "name": "stdout",
          "output_type": "stream",
          "text": [
            "2022-11-29 14:37:43,488 DEV : loss 0.44399240612983704 - f1-score (micro avg)  0.6116\n",
            "2022-11-29 14:37:43,497 BAD EPOCHS (no improvement): 0\n",
            "2022-11-29 14:37:43,498 saving best model\n",
            "2022-11-29 14:37:44,159 ----------------------------------------------------------------------------------------------------\n",
            "2022-11-29 14:37:45,360 epoch 11 - iter 2/25 - loss 0.53084899 - samples/sec: 53.34 - lr: 0.100000\n",
            "2022-11-29 14:37:46,699 epoch 11 - iter 4/25 - loss 0.55532447 - samples/sec: 47.86 - lr: 0.100000\n",
            "2022-11-29 14:37:47,998 epoch 11 - iter 6/25 - loss 0.53087371 - samples/sec: 49.29 - lr: 0.100000\n",
            "2022-11-29 14:37:49,220 epoch 11 - iter 8/25 - loss 0.54231190 - samples/sec: 52.44 - lr: 0.100000\n",
            "2022-11-29 14:37:50,446 epoch 11 - iter 10/25 - loss 0.53790654 - samples/sec: 52.25 - lr: 0.100000\n",
            "2022-11-29 14:37:51,465 epoch 11 - iter 12/25 - loss 0.53123942 - samples/sec: 62.87 - lr: 0.100000\n",
            "2022-11-29 14:37:54,343 epoch 11 - iter 14/25 - loss 0.51760359 - samples/sec: 22.25 - lr: 0.100000\n",
            "2022-11-29 14:37:55,492 epoch 11 - iter 16/25 - loss 0.51864144 - samples/sec: 55.78 - lr: 0.100000\n",
            "2022-11-29 14:37:56,485 epoch 11 - iter 18/25 - loss 0.52820183 - samples/sec: 64.53 - lr: 0.100000\n",
            "2022-11-29 14:37:57,624 epoch 11 - iter 20/25 - loss 0.52104731 - samples/sec: 56.23 - lr: 0.100000\n",
            "2022-11-29 14:37:59,161 epoch 11 - iter 22/25 - loss 0.52433461 - samples/sec: 41.67 - lr: 0.100000\n",
            "2022-11-29 14:38:00,357 epoch 11 - iter 24/25 - loss 0.51942529 - samples/sec: 53.59 - lr: 0.100000\n",
            "2022-11-29 14:38:00,468 ----------------------------------------------------------------------------------------------------\n",
            "2022-11-29 14:38:00,469 EPOCH 11 done: loss 0.5182 - lr 0.100000\n"
          ]
        },
        {
          "name": "stderr",
          "output_type": "stream",
          "text": [
            "100%|██████████| 4/4 [00:00<00:00,  4.29it/s]"
          ]
        },
        {
          "name": "stdout",
          "output_type": "stream",
          "text": [
            "2022-11-29 14:38:01,405 Evaluating as a multi-label problem: False\n",
            "2022-11-29 14:38:01,414 DEV : loss 0.46987926959991455 - f1-score (micro avg)  0.5621\n",
            "2022-11-29 14:38:01,427 BAD EPOCHS (no improvement): 1\n",
            "2022-11-29 14:38:01,428 ----------------------------------------------------------------------------------------------------\n"
          ]
        },
        {
          "name": "stderr",
          "output_type": "stream",
          "text": [
            "\n"
          ]
        },
        {
          "name": "stdout",
          "output_type": "stream",
          "text": [
            "2022-11-29 14:38:02,846 epoch 12 - iter 2/25 - loss 0.50582927 - samples/sec: 45.19 - lr: 0.100000\n",
            "2022-11-29 14:38:03,904 epoch 12 - iter 4/25 - loss 0.48917843 - samples/sec: 60.57 - lr: 0.100000\n",
            "2022-11-29 14:38:06,275 epoch 12 - iter 6/25 - loss 0.49764261 - samples/sec: 27.02 - lr: 0.100000\n",
            "2022-11-29 14:38:07,862 epoch 12 - iter 8/25 - loss 0.46591025 - samples/sec: 40.36 - lr: 0.100000\n",
            "2022-11-29 14:38:09,173 epoch 12 - iter 10/25 - loss 0.48157596 - samples/sec: 48.91 - lr: 0.100000\n",
            "2022-11-29 14:38:10,556 epoch 12 - iter 12/25 - loss 0.48246790 - samples/sec: 46.32 - lr: 0.100000\n",
            "2022-11-29 14:38:11,847 epoch 12 - iter 14/25 - loss 0.48703199 - samples/sec: 49.61 - lr: 0.100000\n",
            "2022-11-29 14:38:13,591 epoch 12 - iter 16/25 - loss 0.49631937 - samples/sec: 36.74 - lr: 0.100000\n",
            "2022-11-29 14:38:15,014 epoch 12 - iter 18/25 - loss 0.49116328 - samples/sec: 45.02 - lr: 0.100000\n",
            "2022-11-29 14:38:16,817 epoch 12 - iter 20/25 - loss 0.48761427 - samples/sec: 35.53 - lr: 0.100000\n",
            "2022-11-29 14:38:20,199 epoch 12 - iter 22/25 - loss 0.49082842 - samples/sec: 18.93 - lr: 0.100000\n",
            "2022-11-29 14:38:21,412 epoch 12 - iter 24/25 - loss 0.48949971 - samples/sec: 52.84 - lr: 0.100000\n",
            "2022-11-29 14:38:21,527 ----------------------------------------------------------------------------------------------------\n",
            "2022-11-29 14:38:21,528 EPOCH 12 done: loss 0.4898 - lr 0.100000\n"
          ]
        },
        {
          "name": "stderr",
          "output_type": "stream",
          "text": [
            "100%|██████████| 4/4 [00:00<00:00,  5.48it/s]"
          ]
        },
        {
          "name": "stdout",
          "output_type": "stream",
          "text": [
            "2022-11-29 14:38:22,261 Evaluating as a multi-label problem: False\n",
            "2022-11-29 14:38:22,269 DEV : loss 0.45975542068481445 - f1-score (micro avg)  0.5936\n",
            "2022-11-29 14:38:22,286 BAD EPOCHS (no improvement): 2\n",
            "2022-11-29 14:38:22,288 ----------------------------------------------------------------------------------------------------\n"
          ]
        },
        {
          "name": "stderr",
          "output_type": "stream",
          "text": [
            "\n"
          ]
        },
        {
          "name": "stdout",
          "output_type": "stream",
          "text": [
            "2022-11-29 14:38:23,481 epoch 13 - iter 2/25 - loss 0.41778255 - samples/sec: 53.70 - lr: 0.100000\n",
            "2022-11-29 14:38:24,960 epoch 13 - iter 4/25 - loss 0.42093772 - samples/sec: 43.29 - lr: 0.100000\n",
            "2022-11-29 14:38:26,352 epoch 13 - iter 6/25 - loss 0.41857140 - samples/sec: 46.01 - lr: 0.100000\n",
            "2022-11-29 14:38:27,906 epoch 13 - iter 8/25 - loss 0.42133561 - samples/sec: 41.23 - lr: 0.100000\n",
            "2022-11-29 14:38:29,699 epoch 13 - iter 10/25 - loss 0.44985674 - samples/sec: 35.72 - lr: 0.100000\n",
            "2022-11-29 14:38:30,769 epoch 13 - iter 12/25 - loss 0.45706368 - samples/sec: 59.90 - lr: 0.100000\n",
            "2022-11-29 14:38:32,181 epoch 13 - iter 14/25 - loss 0.46667664 - samples/sec: 45.38 - lr: 0.100000\n",
            "2022-11-29 14:38:35,433 epoch 13 - iter 16/25 - loss 0.46186753 - samples/sec: 19.69 - lr: 0.100000\n",
            "2022-11-29 14:38:37,079 epoch 13 - iter 18/25 - loss 0.47288862 - samples/sec: 38.92 - lr: 0.100000\n",
            "2022-11-29 14:38:38,184 epoch 13 - iter 20/25 - loss 0.47120629 - samples/sec: 57.97 - lr: 0.100000\n",
            "2022-11-29 14:38:39,661 epoch 13 - iter 22/25 - loss 0.47184292 - samples/sec: 43.36 - lr: 0.100000\n",
            "2022-11-29 14:38:41,060 epoch 13 - iter 24/25 - loss 0.46821207 - samples/sec: 45.79 - lr: 0.100000\n",
            "2022-11-29 14:38:41,183 ----------------------------------------------------------------------------------------------------\n",
            "2022-11-29 14:38:41,184 EPOCH 13 done: loss 0.4679 - lr 0.100000\n"
          ]
        },
        {
          "name": "stderr",
          "output_type": "stream",
          "text": [
            "100%|██████████| 4/4 [00:00<00:00,  5.35it/s]"
          ]
        },
        {
          "name": "stdout",
          "output_type": "stream",
          "text": [
            "2022-11-29 14:38:41,937 Evaluating as a multi-label problem: False\n",
            "2022-11-29 14:38:41,946 DEV : loss 0.40226444602012634 - f1-score (micro avg)  0.6296\n",
            "2022-11-29 14:38:41,958 BAD EPOCHS (no improvement): 0\n",
            "2022-11-29 14:38:41,959 saving best model\n"
          ]
        },
        {
          "name": "stderr",
          "output_type": "stream",
          "text": [
            "\n"
          ]
        },
        {
          "name": "stdout",
          "output_type": "stream",
          "text": [
            "2022-11-29 14:38:42,658 ----------------------------------------------------------------------------------------------------\n",
            "2022-11-29 14:38:43,952 epoch 14 - iter 2/25 - loss 0.49076429 - samples/sec: 49.49 - lr: 0.100000\n",
            "2022-11-29 14:38:44,998 epoch 14 - iter 4/25 - loss 0.44882345 - samples/sec: 61.28 - lr: 0.100000\n",
            "2022-11-29 14:38:46,449 epoch 14 - iter 6/25 - loss 0.45312452 - samples/sec: 44.15 - lr: 0.100000\n",
            "2022-11-29 14:38:48,517 epoch 14 - iter 8/25 - loss 0.46753150 - samples/sec: 30.97 - lr: 0.100000\n",
            "2022-11-29 14:38:51,181 epoch 14 - iter 10/25 - loss 0.46412710 - samples/sec: 24.03 - lr: 0.100000\n",
            "2022-11-29 14:38:52,583 epoch 14 - iter 12/25 - loss 0.45372782 - samples/sec: 45.68 - lr: 0.100000\n",
            "2022-11-29 14:38:53,745 epoch 14 - iter 14/25 - loss 0.45200103 - samples/sec: 55.17 - lr: 0.100000\n",
            "2022-11-29 14:38:55,442 epoch 14 - iter 16/25 - loss 0.44991034 - samples/sec: 37.74 - lr: 0.100000\n",
            "2022-11-29 14:38:57,044 epoch 14 - iter 18/25 - loss 0.45856262 - samples/sec: 40.00 - lr: 0.100000\n",
            "2022-11-29 14:38:58,559 epoch 14 - iter 20/25 - loss 0.45796307 - samples/sec: 42.30 - lr: 0.100000\n",
            "2022-11-29 14:38:59,546 epoch 14 - iter 22/25 - loss 0.44937788 - samples/sec: 64.97 - lr: 0.100000\n",
            "2022-11-29 14:39:00,603 epoch 14 - iter 24/25 - loss 0.44590988 - samples/sec: 60.63 - lr: 0.100000\n",
            "2022-11-29 14:39:00,716 ----------------------------------------------------------------------------------------------------\n",
            "2022-11-29 14:39:00,717 EPOCH 14 done: loss 0.4463 - lr 0.100000\n"
          ]
        },
        {
          "name": "stderr",
          "output_type": "stream",
          "text": [
            "100%|██████████| 4/4 [00:00<00:00,  5.37it/s]"
          ]
        },
        {
          "name": "stdout",
          "output_type": "stream",
          "text": [
            "2022-11-29 14:39:01,466 Evaluating as a multi-label problem: False\n",
            "2022-11-29 14:39:01,474 DEV : loss 0.38676440715789795 - f1-score (micro avg)  0.6462\n",
            "2022-11-29 14:39:01,485 BAD EPOCHS (no improvement): 0\n",
            "2022-11-29 14:39:01,486 saving best model\n"
          ]
        },
        {
          "name": "stderr",
          "output_type": "stream",
          "text": [
            "\n"
          ]
        },
        {
          "name": "stdout",
          "output_type": "stream",
          "text": [
            "2022-11-29 14:39:02,179 ----------------------------------------------------------------------------------------------------\n",
            "2022-11-29 14:39:03,888 epoch 15 - iter 2/25 - loss 0.39582228 - samples/sec: 37.48 - lr: 0.100000\n",
            "2022-11-29 14:39:05,248 epoch 15 - iter 4/25 - loss 0.38838824 - samples/sec: 47.13 - lr: 0.100000\n",
            "2022-11-29 14:39:06,388 epoch 15 - iter 6/25 - loss 0.44487662 - samples/sec: 56.17 - lr: 0.100000\n",
            "2022-11-29 14:39:07,823 epoch 15 - iter 8/25 - loss 0.42043391 - samples/sec: 44.65 - lr: 0.100000\n",
            "2022-11-29 14:39:09,044 epoch 15 - iter 10/25 - loss 0.40953156 - samples/sec: 52.49 - lr: 0.100000\n",
            "2022-11-29 14:39:10,354 epoch 15 - iter 12/25 - loss 0.40896914 - samples/sec: 48.90 - lr: 0.100000\n",
            "2022-11-29 14:39:11,805 epoch 15 - iter 14/25 - loss 0.41505878 - samples/sec: 44.14 - lr: 0.100000\n",
            "2022-11-29 14:39:12,718 epoch 15 - iter 16/25 - loss 0.42119510 - samples/sec: 70.17 - lr: 0.100000\n",
            "2022-11-29 14:39:15,643 epoch 15 - iter 18/25 - loss 0.41861099 - samples/sec: 21.89 - lr: 0.100000\n",
            "2022-11-29 14:39:16,795 epoch 15 - iter 20/25 - loss 0.42244811 - samples/sec: 55.63 - lr: 0.100000\n",
            "2022-11-29 14:39:17,923 epoch 15 - iter 22/25 - loss 0.42079565 - samples/sec: 56.79 - lr: 0.100000\n",
            "2022-11-29 14:39:19,176 epoch 15 - iter 24/25 - loss 0.42171662 - samples/sec: 51.14 - lr: 0.100000\n",
            "2022-11-29 14:39:19,284 ----------------------------------------------------------------------------------------------------\n",
            "2022-11-29 14:39:19,285 EPOCH 15 done: loss 0.4210 - lr 0.100000\n"
          ]
        },
        {
          "name": "stderr",
          "output_type": "stream",
          "text": [
            "100%|██████████| 4/4 [00:00<00:00,  5.56it/s]"
          ]
        },
        {
          "name": "stdout",
          "output_type": "stream",
          "text": [
            "2022-11-29 14:39:20,009 Evaluating as a multi-label problem: False\n",
            "2022-11-29 14:39:20,018 DEV : loss 0.36473923921585083 - f1-score (micro avg)  0.6464\n",
            "2022-11-29 14:39:20,030 BAD EPOCHS (no improvement): 0\n",
            "2022-11-29 14:39:20,031 saving best model\n"
          ]
        },
        {
          "name": "stderr",
          "output_type": "stream",
          "text": [
            "\n"
          ]
        },
        {
          "name": "stdout",
          "output_type": "stream",
          "text": [
            "2022-11-29 14:39:20,710 ----------------------------------------------------------------------------------------------------\n",
            "2022-11-29 14:39:22,236 epoch 16 - iter 2/25 - loss 0.34579754 - samples/sec: 41.96 - lr: 0.100000\n",
            "2022-11-29 14:39:23,308 epoch 16 - iter 4/25 - loss 0.37624246 - samples/sec: 59.82 - lr: 0.100000\n",
            "2022-11-29 14:39:24,835 epoch 16 - iter 6/25 - loss 0.39500146 - samples/sec: 41.93 - lr: 0.100000\n",
            "2022-11-29 14:39:27,640 epoch 16 - iter 8/25 - loss 0.40204477 - samples/sec: 22.83 - lr: 0.100000\n",
            "2022-11-29 14:39:28,831 epoch 16 - iter 10/25 - loss 0.39663187 - samples/sec: 53.81 - lr: 0.100000\n",
            "2022-11-29 14:39:29,718 epoch 16 - iter 12/25 - loss 0.40155525 - samples/sec: 72.20 - lr: 0.100000\n",
            "2022-11-29 14:39:31,234 epoch 16 - iter 14/25 - loss 0.40827063 - samples/sec: 42.27 - lr: 0.100000\n",
            "2022-11-29 14:39:32,542 epoch 16 - iter 16/25 - loss 0.40730857 - samples/sec: 48.98 - lr: 0.100000\n",
            "2022-11-29 14:39:33,783 epoch 16 - iter 18/25 - loss 0.40343283 - samples/sec: 51.64 - lr: 0.100000\n",
            "2022-11-29 14:39:35,333 epoch 16 - iter 20/25 - loss 0.40961351 - samples/sec: 41.32 - lr: 0.100000\n",
            "2022-11-29 14:39:36,576 epoch 16 - iter 22/25 - loss 0.40749272 - samples/sec: 51.54 - lr: 0.100000\n",
            "2022-11-29 14:39:37,869 epoch 16 - iter 24/25 - loss 0.40401472 - samples/sec: 49.52 - lr: 0.100000\n",
            "2022-11-29 14:39:37,998 ----------------------------------------------------------------------------------------------------\n",
            "2022-11-29 14:39:37,999 EPOCH 16 done: loss 0.4036 - lr 0.100000\n"
          ]
        },
        {
          "name": "stderr",
          "output_type": "stream",
          "text": [
            "100%|██████████| 4/4 [00:00<00:00,  4.79it/s]"
          ]
        },
        {
          "name": "stdout",
          "output_type": "stream",
          "text": [
            "2022-11-29 14:39:38,839 Evaluating as a multi-label problem: False\n",
            "2022-11-29 14:39:38,848 DEV : loss 0.4086073338985443 - f1-score (micro avg)  0.6287\n",
            "2022-11-29 14:39:38,860 BAD EPOCHS (no improvement): 1\n",
            "2022-11-29 14:39:38,861 ----------------------------------------------------------------------------------------------------\n"
          ]
        },
        {
          "name": "stderr",
          "output_type": "stream",
          "text": [
            "\n"
          ]
        },
        {
          "name": "stdout",
          "output_type": "stream",
          "text": [
            "2022-11-29 14:39:40,299 epoch 17 - iter 2/25 - loss 0.36342068 - samples/sec: 44.54 - lr: 0.100000\n",
            "2022-11-29 14:39:41,454 epoch 17 - iter 4/25 - loss 0.35801212 - samples/sec: 55.46 - lr: 0.100000\n",
            "2022-11-29 14:39:43,067 epoch 17 - iter 6/25 - loss 0.38556347 - samples/sec: 39.72 - lr: 0.100000\n",
            "2022-11-29 14:39:44,279 epoch 17 - iter 8/25 - loss 0.40160912 - samples/sec: 52.86 - lr: 0.100000\n",
            "2022-11-29 14:39:45,659 epoch 17 - iter 10/25 - loss 0.38604844 - samples/sec: 46.42 - lr: 0.100000\n",
            "2022-11-29 14:39:46,984 epoch 17 - iter 12/25 - loss 0.38307722 - samples/sec: 48.33 - lr: 0.100000\n",
            "2022-11-29 14:39:48,092 epoch 17 - iter 14/25 - loss 0.38411979 - samples/sec: 57.84 - lr: 0.100000\n",
            "2022-11-29 14:39:49,770 epoch 17 - iter 16/25 - loss 0.37899497 - samples/sec: 38.17 - lr: 0.100000\n",
            "2022-11-29 14:39:50,639 epoch 17 - iter 18/25 - loss 0.37901972 - samples/sec: 73.82 - lr: 0.100000\n",
            "2022-11-29 14:39:51,702 epoch 17 - iter 20/25 - loss 0.38461322 - samples/sec: 60.29 - lr: 0.100000\n",
            "2022-11-29 14:39:54,579 epoch 17 - iter 22/25 - loss 0.37898174 - samples/sec: 22.26 - lr: 0.100000\n",
            "2022-11-29 14:39:55,789 epoch 17 - iter 24/25 - loss 0.38178800 - samples/sec: 52.94 - lr: 0.100000\n",
            "2022-11-29 14:39:55,899 ----------------------------------------------------------------------------------------------------\n",
            "2022-11-29 14:39:55,900 EPOCH 17 done: loss 0.3828 - lr 0.100000\n"
          ]
        },
        {
          "name": "stderr",
          "output_type": "stream",
          "text": [
            "100%|██████████| 4/4 [00:00<00:00,  5.55it/s]"
          ]
        },
        {
          "name": "stdout",
          "output_type": "stream",
          "text": [
            "2022-11-29 14:39:56,626 Evaluating as a multi-label problem: False\n",
            "2022-11-29 14:39:56,633 DEV : loss 0.3364291191101074 - f1-score (micro avg)  0.6373\n",
            "2022-11-29 14:39:56,644 BAD EPOCHS (no improvement): 2\n",
            "2022-11-29 14:39:56,645 ----------------------------------------------------------------------------------------------------\n"
          ]
        },
        {
          "name": "stderr",
          "output_type": "stream",
          "text": [
            "\n"
          ]
        },
        {
          "name": "stdout",
          "output_type": "stream",
          "text": [
            "2022-11-29 14:39:57,910 epoch 18 - iter 2/25 - loss 0.35199998 - samples/sec: 50.63 - lr: 0.100000\n",
            "2022-11-29 14:39:59,634 epoch 18 - iter 4/25 - loss 0.34868118 - samples/sec: 37.16 - lr: 0.100000\n",
            "2022-11-29 14:40:00,841 epoch 18 - iter 6/25 - loss 0.34561561 - samples/sec: 53.11 - lr: 0.100000\n",
            "2022-11-29 14:40:01,832 epoch 18 - iter 8/25 - loss 0.35141853 - samples/sec: 64.62 - lr: 0.100000\n",
            "2022-11-29 14:40:03,208 epoch 18 - iter 10/25 - loss 0.36103980 - samples/sec: 46.56 - lr: 0.100000\n",
            "2022-11-29 14:40:04,423 epoch 18 - iter 12/25 - loss 0.36390338 - samples/sec: 52.75 - lr: 0.100000\n",
            "2022-11-29 14:40:05,941 epoch 18 - iter 14/25 - loss 0.36754581 - samples/sec: 42.20 - lr: 0.100000\n",
            "2022-11-29 14:40:08,847 epoch 18 - iter 16/25 - loss 0.36527397 - samples/sec: 22.04 - lr: 0.100000\n",
            "2022-11-29 14:40:09,887 epoch 18 - iter 18/25 - loss 0.35997183 - samples/sec: 61.54 - lr: 0.100000\n",
            "2022-11-29 14:40:10,839 epoch 18 - iter 20/25 - loss 0.36352068 - samples/sec: 67.33 - lr: 0.100000\n",
            "2022-11-29 14:40:11,860 epoch 18 - iter 22/25 - loss 0.36220256 - samples/sec: 62.74 - lr: 0.100000\n",
            "2022-11-29 14:40:12,700 epoch 18 - iter 24/25 - loss 0.36221123 - samples/sec: 76.27 - lr: 0.100000\n",
            "2022-11-29 14:40:12,828 ----------------------------------------------------------------------------------------------------\n",
            "2022-11-29 14:40:12,828 EPOCH 18 done: loss 0.3638 - lr 0.100000\n"
          ]
        },
        {
          "name": "stderr",
          "output_type": "stream",
          "text": [
            "100%|██████████| 4/4 [00:00<00:00,  6.94it/s]"
          ]
        },
        {
          "name": "stdout",
          "output_type": "stream",
          "text": [
            "2022-11-29 14:40:13,408 Evaluating as a multi-label problem: False\n"
          ]
        },
        {
          "name": "stderr",
          "output_type": "stream",
          "text": [
            "\n"
          ]
        },
        {
          "name": "stdout",
          "output_type": "stream",
          "text": [
            "2022-11-29 14:40:13,416 DEV : loss 0.37573888897895813 - f1-score (micro avg)  0.6142\n",
            "2022-11-29 14:40:13,429 BAD EPOCHS (no improvement): 3\n",
            "2022-11-29 14:40:13,430 ----------------------------------------------------------------------------------------------------\n",
            "2022-11-29 14:40:14,349 epoch 19 - iter 2/25 - loss 0.43919002 - samples/sec: 69.69 - lr: 0.100000\n",
            "2022-11-29 14:40:15,587 epoch 19 - iter 4/25 - loss 0.38525657 - samples/sec: 51.74 - lr: 0.100000\n",
            "2022-11-29 14:40:18,219 epoch 19 - iter 6/25 - loss 0.36594621 - samples/sec: 24.32 - lr: 0.100000\n",
            "2022-11-29 14:40:19,465 epoch 19 - iter 8/25 - loss 0.35650157 - samples/sec: 51.43 - lr: 0.100000\n",
            "2022-11-29 14:40:20,788 epoch 19 - iter 10/25 - loss 0.36334829 - samples/sec: 48.41 - lr: 0.100000\n",
            "2022-11-29 14:40:21,885 epoch 19 - iter 12/25 - loss 0.36182734 - samples/sec: 58.43 - lr: 0.100000\n",
            "2022-11-29 14:40:23,082 epoch 19 - iter 14/25 - loss 0.36469735 - samples/sec: 53.51 - lr: 0.100000\n",
            "2022-11-29 14:40:24,379 epoch 19 - iter 16/25 - loss 0.36687646 - samples/sec: 49.38 - lr: 0.100000\n",
            "2022-11-29 14:40:25,579 epoch 19 - iter 18/25 - loss 0.36819466 - samples/sec: 53.37 - lr: 0.100000\n",
            "2022-11-29 14:40:26,505 epoch 19 - iter 20/25 - loss 0.36341459 - samples/sec: 69.21 - lr: 0.100000\n",
            "2022-11-29 14:40:27,872 epoch 19 - iter 22/25 - loss 0.36509161 - samples/sec: 46.85 - lr: 0.100000\n",
            "2022-11-29 14:40:28,685 epoch 19 - iter 24/25 - loss 0.36293624 - samples/sec: 78.84 - lr: 0.100000\n",
            "2022-11-29 14:40:28,788 ----------------------------------------------------------------------------------------------------\n",
            "2022-11-29 14:40:28,789 EPOCH 19 done: loss 0.3626 - lr 0.100000\n"
          ]
        },
        {
          "name": "stderr",
          "output_type": "stream",
          "text": [
            "100%|██████████| 4/4 [00:00<00:00,  6.88it/s]"
          ]
        },
        {
          "name": "stdout",
          "output_type": "stream",
          "text": [
            "2022-11-29 14:40:29,373 Evaluating as a multi-label problem: False\n"
          ]
        },
        {
          "name": "stderr",
          "output_type": "stream",
          "text": [
            "\n"
          ]
        },
        {
          "name": "stdout",
          "output_type": "stream",
          "text": [
            "2022-11-29 14:40:29,379 DEV : loss 0.3406948745250702 - f1-score (micro avg)  0.6477\n",
            "2022-11-29 14:40:29,387 BAD EPOCHS (no improvement): 0\n",
            "2022-11-29 14:40:29,387 saving best model\n",
            "2022-11-29 14:40:30,021 ----------------------------------------------------------------------------------------------------\n",
            "2022-11-29 14:40:31,333 epoch 20 - iter 2/25 - loss 0.30020491 - samples/sec: 48.86 - lr: 0.100000\n",
            "2022-11-29 14:40:32,572 epoch 20 - iter 4/25 - loss 0.32160820 - samples/sec: 51.68 - lr: 0.100000\n",
            "2022-11-29 14:40:35,027 epoch 20 - iter 6/25 - loss 0.32587353 - samples/sec: 26.08 - lr: 0.100000\n",
            "2022-11-29 14:40:36,030 epoch 20 - iter 8/25 - loss 0.32906165 - samples/sec: 63.92 - lr: 0.100000\n",
            "2022-11-29 14:40:37,259 epoch 20 - iter 10/25 - loss 0.33878512 - samples/sec: 52.13 - lr: 0.100000\n",
            "2022-11-29 14:40:38,185 epoch 20 - iter 12/25 - loss 0.33782078 - samples/sec: 69.17 - lr: 0.100000\n",
            "2022-11-29 14:40:39,229 epoch 20 - iter 14/25 - loss 0.34740805 - samples/sec: 61.34 - lr: 0.100000\n",
            "2022-11-29 14:40:40,268 epoch 20 - iter 16/25 - loss 0.34866769 - samples/sec: 61.65 - lr: 0.100000\n",
            "2022-11-29 14:40:41,718 epoch 20 - iter 18/25 - loss 0.34722768 - samples/sec: 44.18 - lr: 0.100000\n",
            "2022-11-29 14:40:42,861 epoch 20 - iter 20/25 - loss 0.34906280 - samples/sec: 56.06 - lr: 0.100000\n",
            "2022-11-29 14:40:43,797 epoch 20 - iter 22/25 - loss 0.34899201 - samples/sec: 68.47 - lr: 0.100000\n",
            "2022-11-29 14:40:45,109 epoch 20 - iter 24/25 - loss 0.34844573 - samples/sec: 48.81 - lr: 0.100000\n",
            "2022-11-29 14:40:45,204 ----------------------------------------------------------------------------------------------------\n",
            "2022-11-29 14:40:45,205 EPOCH 20 done: loss 0.3478 - lr 0.100000\n"
          ]
        },
        {
          "name": "stderr",
          "output_type": "stream",
          "text": [
            "100%|██████████| 4/4 [00:00<00:00,  6.83it/s]"
          ]
        },
        {
          "name": "stdout",
          "output_type": "stream",
          "text": [
            "2022-11-29 14:40:45,793 Evaluating as a multi-label problem: False\n",
            "2022-11-29 14:40:45,799 DEV : loss 0.3607356548309326 - f1-score (micro avg)  0.6557\n"
          ]
        },
        {
          "name": "stderr",
          "output_type": "stream",
          "text": [
            "\n"
          ]
        },
        {
          "name": "stdout",
          "output_type": "stream",
          "text": [
            "2022-11-29 14:40:45,807 BAD EPOCHS (no improvement): 0\n",
            "2022-11-29 14:40:45,808 saving best model\n",
            "2022-11-29 14:40:46,393 ----------------------------------------------------------------------------------------------------\n",
            "2022-11-29 14:40:47,595 epoch 21 - iter 2/25 - loss 0.35372657 - samples/sec: 53.29 - lr: 0.100000\n",
            "2022-11-29 14:40:48,617 epoch 21 - iter 4/25 - loss 0.33637659 - samples/sec: 62.69 - lr: 0.100000\n",
            "2022-11-29 14:40:49,645 epoch 21 - iter 6/25 - loss 0.34820844 - samples/sec: 62.38 - lr: 0.100000\n",
            "2022-11-29 14:40:50,542 epoch 21 - iter 8/25 - loss 0.35430082 - samples/sec: 71.35 - lr: 0.100000\n",
            "2022-11-29 14:40:51,684 epoch 21 - iter 10/25 - loss 0.35909222 - samples/sec: 56.11 - lr: 0.100000\n",
            "2022-11-29 14:40:52,768 epoch 21 - iter 12/25 - loss 0.34182648 - samples/sec: 59.12 - lr: 0.100000\n",
            "2022-11-29 14:40:53,977 epoch 21 - iter 14/25 - loss 0.33950851 - samples/sec: 52.99 - lr: 0.100000\n",
            "2022-11-29 14:40:55,253 epoch 21 - iter 16/25 - loss 0.34207898 - samples/sec: 50.17 - lr: 0.100000\n",
            "2022-11-29 14:40:56,353 epoch 21 - iter 18/25 - loss 0.34155697 - samples/sec: 58.24 - lr: 0.100000\n",
            "2022-11-29 14:40:59,173 epoch 21 - iter 20/25 - loss 0.34089150 - samples/sec: 22.71 - lr: 0.100000\n",
            "2022-11-29 14:41:00,484 epoch 21 - iter 22/25 - loss 0.34145843 - samples/sec: 48.84 - lr: 0.100000\n",
            "2022-11-29 14:41:01,432 epoch 21 - iter 24/25 - loss 0.34192927 - samples/sec: 67.66 - lr: 0.100000\n",
            "2022-11-29 14:41:01,519 ----------------------------------------------------------------------------------------------------\n",
            "2022-11-29 14:41:01,520 EPOCH 21 done: loss 0.3425 - lr 0.100000\n"
          ]
        },
        {
          "name": "stderr",
          "output_type": "stream",
          "text": [
            "100%|██████████| 4/4 [00:00<00:00,  6.89it/s]"
          ]
        },
        {
          "name": "stdout",
          "output_type": "stream",
          "text": [
            "2022-11-29 14:41:02,103 Evaluating as a multi-label problem: False\n"
          ]
        },
        {
          "name": "stderr",
          "output_type": "stream",
          "text": [
            "\n"
          ]
        },
        {
          "name": "stdout",
          "output_type": "stream",
          "text": [
            "2022-11-29 14:41:02,109 DEV : loss 0.32204529643058777 - f1-score (micro avg)  0.655\n",
            "2022-11-29 14:41:02,118 BAD EPOCHS (no improvement): 1\n",
            "2022-11-29 14:41:02,119 ----------------------------------------------------------------------------------------------------\n",
            "2022-11-29 14:41:03,409 epoch 22 - iter 2/25 - loss 0.39349177 - samples/sec: 49.64 - lr: 0.100000\n",
            "2022-11-29 14:41:04,850 epoch 22 - iter 4/25 - loss 0.35663103 - samples/sec: 44.45 - lr: 0.100000\n",
            "2022-11-29 14:41:06,196 epoch 22 - iter 6/25 - loss 0.34321434 - samples/sec: 47.58 - lr: 0.100000\n",
            "2022-11-29 14:41:07,072 epoch 22 - iter 8/25 - loss 0.33762664 - samples/sec: 73.16 - lr: 0.100000\n",
            "2022-11-29 14:41:09,707 epoch 22 - iter 10/25 - loss 0.32206833 - samples/sec: 24.29 - lr: 0.100000\n",
            "2022-11-29 14:41:10,421 epoch 22 - iter 12/25 - loss 0.32421654 - samples/sec: 89.76 - lr: 0.100000\n",
            "2022-11-29 14:41:11,508 epoch 22 - iter 14/25 - loss 0.32852136 - samples/sec: 58.94 - lr: 0.100000\n",
            "2022-11-29 14:41:12,312 epoch 22 - iter 16/25 - loss 0.33263566 - samples/sec: 79.76 - lr: 0.100000\n",
            "2022-11-29 14:41:13,544 epoch 22 - iter 18/25 - loss 0.32985693 - samples/sec: 51.98 - lr: 0.100000\n",
            "2022-11-29 14:41:14,458 epoch 22 - iter 20/25 - loss 0.33074328 - samples/sec: 70.15 - lr: 0.100000\n",
            "2022-11-29 14:41:15,787 epoch 22 - iter 22/25 - loss 0.32640730 - samples/sec: 48.17 - lr: 0.100000\n",
            "2022-11-29 14:41:17,063 epoch 22 - iter 24/25 - loss 0.33424646 - samples/sec: 50.19 - lr: 0.100000\n",
            "2022-11-29 14:41:17,169 ----------------------------------------------------------------------------------------------------\n",
            "2022-11-29 14:41:17,169 EPOCH 22 done: loss 0.3344 - lr 0.100000\n"
          ]
        },
        {
          "name": "stderr",
          "output_type": "stream",
          "text": [
            "100%|██████████| 4/4 [00:00<00:00,  6.93it/s]"
          ]
        },
        {
          "name": "stdout",
          "output_type": "stream",
          "text": [
            "2022-11-29 14:41:17,750 Evaluating as a multi-label problem: False\n"
          ]
        },
        {
          "name": "stderr",
          "output_type": "stream",
          "text": [
            "\n"
          ]
        },
        {
          "name": "stdout",
          "output_type": "stream",
          "text": [
            "2022-11-29 14:41:17,758 DEV : loss 0.3162772059440613 - f1-score (micro avg)  0.6483\n",
            "2022-11-29 14:41:17,769 BAD EPOCHS (no improvement): 2\n",
            "2022-11-29 14:41:17,770 ----------------------------------------------------------------------------------------------------\n",
            "2022-11-29 14:41:19,064 epoch 23 - iter 2/25 - loss 0.31045486 - samples/sec: 49.53 - lr: 0.100000\n",
            "2022-11-29 14:41:20,327 epoch 23 - iter 4/25 - loss 0.29045134 - samples/sec: 50.73 - lr: 0.100000\n",
            "2022-11-29 14:41:21,755 epoch 23 - iter 6/25 - loss 0.31488262 - samples/sec: 44.86 - lr: 0.100000\n",
            "2022-11-29 14:41:24,561 epoch 23 - iter 8/25 - loss 0.30750090 - samples/sec: 22.81 - lr: 0.100000\n",
            "2022-11-29 14:41:25,714 epoch 23 - iter 10/25 - loss 0.30537926 - samples/sec: 55.56 - lr: 0.100000\n",
            "2022-11-29 14:41:26,924 epoch 23 - iter 12/25 - loss 0.31344323 - samples/sec: 52.96 - lr: 0.100000\n",
            "2022-11-29 14:41:27,854 epoch 23 - iter 14/25 - loss 0.31597492 - samples/sec: 68.96 - lr: 0.100000\n",
            "2022-11-29 14:41:29,499 epoch 23 - iter 16/25 - loss 0.31277617 - samples/sec: 38.93 - lr: 0.100000\n",
            "2022-11-29 14:41:30,793 epoch 23 - iter 18/25 - loss 0.31398106 - samples/sec: 49.54 - lr: 0.100000\n",
            "2022-11-29 14:41:32,124 epoch 23 - iter 20/25 - loss 0.31886749 - samples/sec: 48.11 - lr: 0.100000\n",
            "2022-11-29 14:41:33,447 epoch 23 - iter 22/25 - loss 0.31882205 - samples/sec: 48.43 - lr: 0.100000\n",
            "2022-11-29 14:41:34,891 epoch 23 - iter 24/25 - loss 0.32501584 - samples/sec: 44.36 - lr: 0.100000\n",
            "2022-11-29 14:41:34,997 ----------------------------------------------------------------------------------------------------\n",
            "2022-11-29 14:41:34,998 EPOCH 23 done: loss 0.3246 - lr 0.100000\n"
          ]
        },
        {
          "name": "stderr",
          "output_type": "stream",
          "text": [
            "100%|██████████| 4/4 [00:00<00:00,  5.52it/s]"
          ]
        },
        {
          "name": "stdout",
          "output_type": "stream",
          "text": [
            "2022-11-29 14:41:35,727 Evaluating as a multi-label problem: False\n",
            "2022-11-29 14:41:35,735 DEV : loss 0.3486844003200531 - f1-score (micro avg)  0.6538\n",
            "2022-11-29 14:41:35,747 BAD EPOCHS (no improvement): 3\n",
            "2022-11-29 14:41:35,748 ----------------------------------------------------------------------------------------------------\n"
          ]
        },
        {
          "name": "stderr",
          "output_type": "stream",
          "text": [
            "\n"
          ]
        },
        {
          "name": "stdout",
          "output_type": "stream",
          "text": [
            "2022-11-29 14:41:37,039 epoch 24 - iter 2/25 - loss 0.33374577 - samples/sec: 49.60 - lr: 0.100000\n",
            "2022-11-29 14:41:38,234 epoch 24 - iter 4/25 - loss 0.29631780 - samples/sec: 53.64 - lr: 0.100000\n",
            "2022-11-29 14:41:39,739 epoch 24 - iter 6/25 - loss 0.28488993 - samples/sec: 42.55 - lr: 0.100000\n",
            "2022-11-29 14:41:41,385 epoch 24 - iter 8/25 - loss 0.29062426 - samples/sec: 38.93 - lr: 0.100000\n",
            "2022-11-29 14:41:42,778 epoch 24 - iter 10/25 - loss 0.30655598 - samples/sec: 45.99 - lr: 0.100000\n",
            "2022-11-29 14:41:44,438 epoch 24 - iter 12/25 - loss 0.31283295 - samples/sec: 38.57 - lr: 0.100000\n",
            "2022-11-29 14:41:45,918 epoch 24 - iter 14/25 - loss 0.31367358 - samples/sec: 43.29 - lr: 0.100000\n",
            "2022-11-29 14:41:47,348 epoch 24 - iter 16/25 - loss 0.30669479 - samples/sec: 44.80 - lr: 0.100000\n",
            "2022-11-29 14:41:48,499 epoch 24 - iter 18/25 - loss 0.30282449 - samples/sec: 55.71 - lr: 0.100000\n",
            "2022-11-29 14:41:49,931 epoch 24 - iter 20/25 - loss 0.30310908 - samples/sec: 44.73 - lr: 0.100000\n",
            "2022-11-29 14:41:51,774 epoch 24 - iter 22/25 - loss 0.30297506 - samples/sec: 34.77 - lr: 0.100000\n",
            "2022-11-29 14:41:52,740 epoch 24 - iter 24/25 - loss 0.30673973 - samples/sec: 66.36 - lr: 0.100000\n",
            "2022-11-29 14:41:53,005 ----------------------------------------------------------------------------------------------------\n",
            "2022-11-29 14:41:53,006 EPOCH 24 done: loss 0.3055 - lr 0.100000\n"
          ]
        },
        {
          "name": "stderr",
          "output_type": "stream",
          "text": [
            "100%|██████████| 4/4 [00:00<00:00,  5.23it/s]"
          ]
        },
        {
          "name": "stdout",
          "output_type": "stream",
          "text": [
            "2022-11-29 14:41:53,775 Evaluating as a multi-label problem: False\n",
            "2022-11-29 14:41:53,786 DEV : loss 0.3387260437011719 - f1-score (micro avg)  0.6496\n",
            "2022-11-29 14:41:53,804 Epoch    24: reducing learning rate of group 0 to 5.0000e-02.\n",
            "2022-11-29 14:41:53,805 BAD EPOCHS (no improvement): 4\n",
            "2022-11-29 14:41:53,806 ----------------------------------------------------------------------------------------------------\n"
          ]
        },
        {
          "name": "stderr",
          "output_type": "stream",
          "text": [
            "\n"
          ]
        },
        {
          "name": "stdout",
          "output_type": "stream",
          "text": [
            "2022-11-29 14:41:54,865 epoch 25 - iter 2/25 - loss 0.27264386 - samples/sec: 60.54 - lr: 0.050000\n",
            "2022-11-29 14:41:56,049 epoch 25 - iter 4/25 - loss 0.27372766 - samples/sec: 54.14 - lr: 0.050000\n",
            "2022-11-29 14:41:57,979 epoch 25 - iter 6/25 - loss 0.26768301 - samples/sec: 33.19 - lr: 0.050000\n",
            "2022-11-29 14:41:59,170 epoch 25 - iter 8/25 - loss 0.28042823 - samples/sec: 53.77 - lr: 0.050000\n",
            "2022-11-29 14:42:02,754 epoch 25 - iter 10/25 - loss 0.28323075 - samples/sec: 17.87 - lr: 0.050000\n",
            "2022-11-29 14:42:03,877 epoch 25 - iter 12/25 - loss 0.28085330 - samples/sec: 57.10 - lr: 0.050000\n",
            "2022-11-29 14:42:05,288 epoch 25 - iter 14/25 - loss 0.28395281 - samples/sec: 45.41 - lr: 0.050000\n",
            "2022-11-29 14:42:06,625 epoch 25 - iter 16/25 - loss 0.29050322 - samples/sec: 47.90 - lr: 0.050000\n",
            "2022-11-29 14:42:08,253 epoch 25 - iter 18/25 - loss 0.29027739 - samples/sec: 39.37 - lr: 0.050000\n",
            "2022-11-29 14:42:09,794 epoch 25 - iter 20/25 - loss 0.28576440 - samples/sec: 41.57 - lr: 0.050000\n",
            "2022-11-29 14:42:11,002 epoch 25 - iter 22/25 - loss 0.28146935 - samples/sec: 53.05 - lr: 0.050000\n",
            "2022-11-29 14:42:12,870 epoch 25 - iter 24/25 - loss 0.28001680 - samples/sec: 34.29 - lr: 0.050000\n",
            "2022-11-29 14:42:12,985 ----------------------------------------------------------------------------------------------------\n",
            "2022-11-29 14:42:12,986 EPOCH 25 done: loss 0.2800 - lr 0.050000\n"
          ]
        },
        {
          "name": "stderr",
          "output_type": "stream",
          "text": [
            "100%|██████████| 4/4 [00:00<00:00,  4.34it/s]"
          ]
        },
        {
          "name": "stdout",
          "output_type": "stream",
          "text": [
            "2022-11-29 14:42:13,912 Evaluating as a multi-label problem: False\n",
            "2022-11-29 14:42:13,919 DEV : loss 0.2928802967071533 - f1-score (micro avg)  0.6957\n",
            "2022-11-29 14:42:13,936 BAD EPOCHS (no improvement): 0\n",
            "2022-11-29 14:42:13,937 saving best model\n"
          ]
        },
        {
          "name": "stderr",
          "output_type": "stream",
          "text": [
            "\n"
          ]
        },
        {
          "name": "stdout",
          "output_type": "stream",
          "text": [
            "2022-11-29 14:42:14,607 ----------------------------------------------------------------------------------------------------\n",
            "2022-11-29 14:42:16,114 epoch 26 - iter 2/25 - loss 0.25409348 - samples/sec: 42.53 - lr: 0.050000\n",
            "2022-11-29 14:42:17,701 epoch 26 - iter 4/25 - loss 0.28306791 - samples/sec: 40.34 - lr: 0.050000\n",
            "2022-11-29 14:42:18,962 epoch 26 - iter 6/25 - loss 0.26969263 - samples/sec: 50.82 - lr: 0.050000\n",
            "2022-11-29 14:42:20,656 epoch 26 - iter 8/25 - loss 0.26810385 - samples/sec: 37.82 - lr: 0.050000\n",
            "2022-11-29 14:42:22,302 epoch 26 - iter 10/25 - loss 0.28574318 - samples/sec: 38.91 - lr: 0.050000\n",
            "2022-11-29 14:42:25,365 epoch 26 - iter 12/25 - loss 0.27777554 - samples/sec: 20.91 - lr: 0.050000\n",
            "2022-11-29 14:42:27,039 epoch 26 - iter 14/25 - loss 0.27064533 - samples/sec: 38.27 - lr: 0.050000\n",
            "2022-11-29 14:42:28,837 epoch 26 - iter 16/25 - loss 0.26758740 - samples/sec: 35.62 - lr: 0.050000\n",
            "2022-11-29 14:42:30,027 epoch 26 - iter 18/25 - loss 0.27258306 - samples/sec: 53.84 - lr: 0.050000\n",
            "2022-11-29 14:42:31,589 epoch 26 - iter 20/25 - loss 0.26834469 - samples/sec: 41.03 - lr: 0.050000\n",
            "2022-11-29 14:42:33,252 epoch 26 - iter 22/25 - loss 0.26584905 - samples/sec: 38.51 - lr: 0.050000\n",
            "2022-11-29 14:42:35,090 epoch 26 - iter 24/25 - loss 0.26444420 - samples/sec: 34.85 - lr: 0.050000\n",
            "2022-11-29 14:42:35,205 ----------------------------------------------------------------------------------------------------\n",
            "2022-11-29 14:42:35,206 EPOCH 26 done: loss 0.2640 - lr 0.050000\n"
          ]
        },
        {
          "name": "stderr",
          "output_type": "stream",
          "text": [
            "100%|██████████| 4/4 [00:00<00:00,  4.85it/s]"
          ]
        },
        {
          "name": "stdout",
          "output_type": "stream",
          "text": [
            "2022-11-29 14:42:36,036 Evaluating as a multi-label problem: False\n",
            "2022-11-29 14:42:36,044 DEV : loss 0.29827409982681274 - f1-score (micro avg)  0.6788\n",
            "2022-11-29 14:42:36,057 BAD EPOCHS (no improvement): 1\n",
            "2022-11-29 14:42:36,058 ----------------------------------------------------------------------------------------------------\n"
          ]
        },
        {
          "name": "stderr",
          "output_type": "stream",
          "text": [
            "\n"
          ]
        },
        {
          "name": "stdout",
          "output_type": "stream",
          "text": [
            "2022-11-29 14:42:38,312 epoch 27 - iter 2/25 - loss 0.23596240 - samples/sec: 28.41 - lr: 0.050000\n",
            "2022-11-29 14:42:39,983 epoch 27 - iter 4/25 - loss 0.25971514 - samples/sec: 38.35 - lr: 0.050000\n",
            "2022-11-29 14:42:41,526 epoch 27 - iter 6/25 - loss 0.25167732 - samples/sec: 41.52 - lr: 0.050000\n",
            "2022-11-29 14:42:44,653 epoch 27 - iter 8/25 - loss 0.24436367 - samples/sec: 20.47 - lr: 0.050000\n",
            "2022-11-29 14:42:46,211 epoch 27 - iter 10/25 - loss 0.25704300 - samples/sec: 41.12 - lr: 0.050000\n",
            "2022-11-29 14:42:47,327 epoch 27 - iter 12/25 - loss 0.25976938 - samples/sec: 57.45 - lr: 0.050000\n",
            "2022-11-29 14:42:48,809 epoch 27 - iter 14/25 - loss 0.25804498 - samples/sec: 43.23 - lr: 0.050000\n",
            "2022-11-29 14:42:50,794 epoch 27 - iter 16/25 - loss 0.25145295 - samples/sec: 32.26 - lr: 0.050000\n",
            "2022-11-29 14:42:51,867 epoch 27 - iter 18/25 - loss 0.26069589 - samples/sec: 59.72 - lr: 0.050000\n",
            "2022-11-29 14:42:53,235 epoch 27 - iter 20/25 - loss 0.26280651 - samples/sec: 46.86 - lr: 0.050000\n",
            "2022-11-29 14:42:54,597 epoch 27 - iter 22/25 - loss 0.26224077 - samples/sec: 47.03 - lr: 0.050000\n",
            "2022-11-29 14:42:55,764 epoch 27 - iter 24/25 - loss 0.26557366 - samples/sec: 54.93 - lr: 0.050000\n",
            "2022-11-29 14:42:55,914 ----------------------------------------------------------------------------------------------------\n",
            "2022-11-29 14:42:55,915 EPOCH 27 done: loss 0.2654 - lr 0.050000\n"
          ]
        },
        {
          "name": "stderr",
          "output_type": "stream",
          "text": [
            "100%|██████████| 4/4 [00:00<00:00,  5.15it/s]"
          ]
        },
        {
          "name": "stdout",
          "output_type": "stream",
          "text": [
            "2022-11-29 14:42:56,696 Evaluating as a multi-label problem: False\n",
            "2022-11-29 14:42:56,704 DEV : loss 0.28877121210098267 - f1-score (micro avg)  0.7001\n",
            "2022-11-29 14:42:56,716 BAD EPOCHS (no improvement): 0\n",
            "2022-11-29 14:42:56,718 saving best model\n"
          ]
        },
        {
          "name": "stderr",
          "output_type": "stream",
          "text": [
            "\n"
          ]
        },
        {
          "name": "stdout",
          "output_type": "stream",
          "text": [
            "2022-11-29 14:42:57,431 ----------------------------------------------------------------------------------------------------\n",
            "2022-11-29 14:42:59,212 epoch 28 - iter 2/25 - loss 0.25684230 - samples/sec: 35.96 - lr: 0.050000\n",
            "2022-11-29 14:43:00,686 epoch 28 - iter 4/25 - loss 0.23449971 - samples/sec: 43.48 - lr: 0.050000\n",
            "2022-11-29 14:43:02,473 epoch 28 - iter 6/25 - loss 0.23663834 - samples/sec: 35.83 - lr: 0.050000\n",
            "2022-11-29 14:43:03,751 epoch 28 - iter 8/25 - loss 0.24394055 - samples/sec: 50.15 - lr: 0.050000\n",
            "2022-11-29 14:43:05,128 epoch 28 - iter 10/25 - loss 0.24273188 - samples/sec: 46.53 - lr: 0.050000\n",
            "2022-11-29 14:43:06,733 epoch 28 - iter 12/25 - loss 0.24202596 - samples/sec: 39.91 - lr: 0.050000\n",
            "2022-11-29 14:43:08,434 epoch 28 - iter 14/25 - loss 0.24344161 - samples/sec: 37.66 - lr: 0.050000\n",
            "2022-11-29 14:43:09,711 epoch 28 - iter 16/25 - loss 0.25405478 - samples/sec: 50.18 - lr: 0.050000\n",
            "2022-11-29 14:43:11,031 epoch 28 - iter 18/25 - loss 0.25996531 - samples/sec: 48.56 - lr: 0.050000\n",
            "2022-11-29 14:43:14,263 epoch 28 - iter 20/25 - loss 0.26057534 - samples/sec: 19.81 - lr: 0.050000\n",
            "2022-11-29 14:43:16,401 epoch 28 - iter 22/25 - loss 0.26108034 - samples/sec: 29.96 - lr: 0.050000\n",
            "2022-11-29 14:43:17,616 epoch 28 - iter 24/25 - loss 0.26168043 - samples/sec: 52.73 - lr: 0.050000\n",
            "2022-11-29 14:43:17,760 ----------------------------------------------------------------------------------------------------\n",
            "2022-11-29 14:43:17,761 EPOCH 28 done: loss 0.2616 - lr 0.050000\n"
          ]
        },
        {
          "name": "stderr",
          "output_type": "stream",
          "text": [
            "100%|██████████| 4/4 [00:00<00:00,  4.69it/s]"
          ]
        },
        {
          "name": "stdout",
          "output_type": "stream",
          "text": [
            "2022-11-29 14:43:18,618 Evaluating as a multi-label problem: False\n",
            "2022-11-29 14:43:18,626 DEV : loss 0.28223636746406555 - f1-score (micro avg)  0.693\n",
            "2022-11-29 14:43:18,640 BAD EPOCHS (no improvement): 1\n",
            "2022-11-29 14:43:18,641 ----------------------------------------------------------------------------------------------------\n"
          ]
        },
        {
          "name": "stderr",
          "output_type": "stream",
          "text": [
            "\n"
          ]
        },
        {
          "name": "stdout",
          "output_type": "stream",
          "text": [
            "2022-11-29 14:43:20,286 epoch 29 - iter 2/25 - loss 0.25015149 - samples/sec: 38.93 - lr: 0.050000\n",
            "2022-11-29 14:43:21,800 epoch 29 - iter 4/25 - loss 0.26365610 - samples/sec: 42.31 - lr: 0.050000\n",
            "2022-11-29 14:43:23,629 epoch 29 - iter 6/25 - loss 0.25625833 - samples/sec: 35.03 - lr: 0.050000\n",
            "2022-11-29 14:43:24,822 epoch 29 - iter 8/25 - loss 0.24387715 - samples/sec: 53.69 - lr: 0.050000\n",
            "2022-11-29 14:43:26,388 epoch 29 - iter 10/25 - loss 0.24380827 - samples/sec: 40.91 - lr: 0.050000\n",
            "2022-11-29 14:43:27,437 epoch 29 - iter 12/25 - loss 0.23876161 - samples/sec: 61.11 - lr: 0.050000\n",
            "2022-11-29 14:43:29,070 epoch 29 - iter 14/25 - loss 0.23999602 - samples/sec: 39.22 - lr: 0.050000\n",
            "2022-11-29 14:43:32,843 epoch 29 - iter 16/25 - loss 0.23434692 - samples/sec: 16.97 - lr: 0.050000\n",
            "2022-11-29 14:43:34,591 epoch 29 - iter 18/25 - loss 0.23749404 - samples/sec: 36.65 - lr: 0.050000\n",
            "2022-11-29 14:43:36,041 epoch 29 - iter 20/25 - loss 0.24279940 - samples/sec: 44.20 - lr: 0.050000\n",
            "2022-11-29 14:43:37,357 epoch 29 - iter 22/25 - loss 0.24629459 - samples/sec: 48.66 - lr: 0.050000\n",
            "2022-11-29 14:43:38,500 epoch 29 - iter 24/25 - loss 0.25099733 - samples/sec: 56.07 - lr: 0.050000\n",
            "2022-11-29 14:43:38,640 ----------------------------------------------------------------------------------------------------\n",
            "2022-11-29 14:43:38,642 EPOCH 29 done: loss 0.2508 - lr 0.050000\n"
          ]
        },
        {
          "name": "stderr",
          "output_type": "stream",
          "text": [
            "100%|██████████| 4/4 [00:00<00:00,  4.19it/s]"
          ]
        },
        {
          "name": "stdout",
          "output_type": "stream",
          "text": [
            "2022-11-29 14:43:39,600 Evaluating as a multi-label problem: False\n",
            "2022-11-29 14:43:39,609 DEV : loss 0.30731895565986633 - f1-score (micro avg)  0.6921\n",
            "2022-11-29 14:43:39,621 BAD EPOCHS (no improvement): 2\n",
            "2022-11-29 14:43:39,623 ----------------------------------------------------------------------------------------------------\n"
          ]
        },
        {
          "name": "stderr",
          "output_type": "stream",
          "text": [
            "\n"
          ]
        },
        {
          "name": "stdout",
          "output_type": "stream",
          "text": [
            "2022-11-29 14:43:41,534 epoch 30 - iter 2/25 - loss 0.24979159 - samples/sec: 33.52 - lr: 0.050000\n",
            "2022-11-29 14:43:43,261 epoch 30 - iter 4/25 - loss 0.23786679 - samples/sec: 37.09 - lr: 0.050000\n",
            "2022-11-29 14:43:46,746 epoch 30 - iter 6/25 - loss 0.22168467 - samples/sec: 18.37 - lr: 0.050000\n",
            "2022-11-29 14:43:48,006 epoch 30 - iter 8/25 - loss 0.22062716 - samples/sec: 50.85 - lr: 0.050000\n",
            "2022-11-29 14:43:49,607 epoch 30 - iter 10/25 - loss 0.21831797 - samples/sec: 40.01 - lr: 0.050000\n",
            "2022-11-29 14:43:51,137 epoch 30 - iter 12/25 - loss 0.22511924 - samples/sec: 41.87 - lr: 0.050000\n",
            "2022-11-29 14:43:52,550 epoch 30 - iter 14/25 - loss 0.23176028 - samples/sec: 45.37 - lr: 0.050000\n",
            "2022-11-29 14:43:54,295 epoch 30 - iter 16/25 - loss 0.23614328 - samples/sec: 36.71 - lr: 0.050000\n",
            "2022-11-29 14:43:55,716 epoch 30 - iter 18/25 - loss 0.23682667 - samples/sec: 45.07 - lr: 0.050000\n",
            "2022-11-29 14:43:56,810 epoch 30 - iter 20/25 - loss 0.23807027 - samples/sec: 58.60 - lr: 0.050000\n",
            "2022-11-29 14:43:58,689 epoch 30 - iter 22/25 - loss 0.24646820 - samples/sec: 34.08 - lr: 0.050000\n",
            "2022-11-29 14:44:00,284 epoch 30 - iter 24/25 - loss 0.24980156 - samples/sec: 40.18 - lr: 0.050000\n",
            "2022-11-29 14:44:00,417 ----------------------------------------------------------------------------------------------------\n",
            "2022-11-29 14:44:00,418 EPOCH 30 done: loss 0.2496 - lr 0.050000\n"
          ]
        },
        {
          "name": "stderr",
          "output_type": "stream",
          "text": [
            "100%|██████████| 4/4 [00:01<00:00,  3.97it/s]"
          ]
        },
        {
          "name": "stdout",
          "output_type": "stream",
          "text": [
            "2022-11-29 14:44:01,430 Evaluating as a multi-label problem: False\n",
            "2022-11-29 14:44:01,441 DEV : loss 0.27522963285446167 - f1-score (micro avg)  0.696\n",
            "2022-11-29 14:44:01,454 BAD EPOCHS (no improvement): 3\n",
            "2022-11-29 14:44:01,455 ----------------------------------------------------------------------------------------------------\n"
          ]
        },
        {
          "name": "stderr",
          "output_type": "stream",
          "text": [
            "\n"
          ]
        },
        {
          "name": "stdout",
          "output_type": "stream",
          "text": [
            "2022-11-29 14:44:03,046 epoch 31 - iter 2/25 - loss 0.24126411 - samples/sec: 40.25 - lr: 0.050000\n",
            "2022-11-29 14:44:06,714 epoch 31 - iter 4/25 - loss 0.25048407 - samples/sec: 17.46 - lr: 0.050000\n",
            "2022-11-29 14:44:08,216 epoch 31 - iter 6/25 - loss 0.25340133 - samples/sec: 42.66 - lr: 0.050000\n",
            "2022-11-29 14:44:10,121 epoch 31 - iter 8/25 - loss 0.24483038 - samples/sec: 33.63 - lr: 0.050000\n",
            "2022-11-29 14:44:11,391 epoch 31 - iter 10/25 - loss 0.24828555 - samples/sec: 50.45 - lr: 0.050000\n",
            "2022-11-29 14:44:12,766 epoch 31 - iter 12/25 - loss 0.24572769 - samples/sec: 46.59 - lr: 0.050000\n",
            "2022-11-29 14:44:14,207 epoch 31 - iter 14/25 - loss 0.24083850 - samples/sec: 44.47 - lr: 0.050000\n",
            "2022-11-29 14:44:15,341 epoch 31 - iter 16/25 - loss 0.24240491 - samples/sec: 56.49 - lr: 0.050000\n",
            "2022-11-29 14:44:16,679 epoch 31 - iter 18/25 - loss 0.23836849 - samples/sec: 47.88 - lr: 0.050000\n",
            "2022-11-29 14:44:18,057 epoch 31 - iter 20/25 - loss 0.23796924 - samples/sec: 46.48 - lr: 0.050000\n",
            "2022-11-29 14:44:19,362 epoch 31 - iter 22/25 - loss 0.24868947 - samples/sec: 49.10 - lr: 0.050000\n",
            "2022-11-29 14:44:21,265 epoch 31 - iter 24/25 - loss 0.24966686 - samples/sec: 33.66 - lr: 0.050000\n",
            "2022-11-29 14:44:21,408 ----------------------------------------------------------------------------------------------------\n",
            "2022-11-29 14:44:21,409 EPOCH 31 done: loss 0.2521 - lr 0.050000\n"
          ]
        },
        {
          "name": "stderr",
          "output_type": "stream",
          "text": [
            "100%|██████████| 4/4 [00:00<00:00,  4.70it/s]"
          ]
        },
        {
          "name": "stdout",
          "output_type": "stream",
          "text": [
            "2022-11-29 14:44:22,266 Evaluating as a multi-label problem: False\n",
            "2022-11-29 14:44:22,276 DEV : loss 0.2862958610057831 - f1-score (micro avg)  0.7074\n",
            "2022-11-29 14:44:22,288 BAD EPOCHS (no improvement): 0\n",
            "2022-11-29 14:44:22,289 saving best model\n"
          ]
        },
        {
          "name": "stderr",
          "output_type": "stream",
          "text": [
            "\n"
          ]
        },
        {
          "name": "stdout",
          "output_type": "stream",
          "text": [
            "2022-11-29 14:44:23,060 ----------------------------------------------------------------------------------------------------\n",
            "2022-11-29 14:44:26,387 epoch 32 - iter 2/25 - loss 0.23285701 - samples/sec: 19.24 - lr: 0.050000\n",
            "2022-11-29 14:44:27,940 epoch 32 - iter 4/25 - loss 0.23798611 - samples/sec: 41.27 - lr: 0.050000\n",
            "2022-11-29 14:44:29,710 epoch 32 - iter 6/25 - loss 0.24701978 - samples/sec: 36.18 - lr: 0.050000\n",
            "2022-11-29 14:44:31,691 epoch 32 - iter 8/25 - loss 0.24483557 - samples/sec: 32.34 - lr: 0.050000\n",
            "2022-11-29 14:44:33,024 epoch 32 - iter 10/25 - loss 0.24780621 - samples/sec: 48.05 - lr: 0.050000\n",
            "2022-11-29 14:44:34,720 epoch 32 - iter 12/25 - loss 0.24599843 - samples/sec: 37.77 - lr: 0.050000\n",
            "2022-11-29 14:44:36,320 epoch 32 - iter 14/25 - loss 0.24656140 - samples/sec: 40.04 - lr: 0.050000\n",
            "2022-11-29 14:44:37,703 epoch 32 - iter 16/25 - loss 0.24317407 - samples/sec: 46.30 - lr: 0.050000\n",
            "2022-11-29 14:44:39,360 epoch 32 - iter 18/25 - loss 0.24631227 - samples/sec: 38.65 - lr: 0.050000\n",
            "2022-11-29 14:44:40,671 epoch 32 - iter 20/25 - loss 0.24382978 - samples/sec: 48.90 - lr: 0.050000\n",
            "2022-11-29 14:44:42,253 epoch 32 - iter 22/25 - loss 0.24243944 - samples/sec: 40.49 - lr: 0.050000\n",
            "2022-11-29 14:44:43,523 epoch 32 - iter 24/25 - loss 0.24073654 - samples/sec: 50.45 - lr: 0.050000\n",
            "2022-11-29 14:44:43,698 ----------------------------------------------------------------------------------------------------\n",
            "2022-11-29 14:44:43,699 EPOCH 32 done: loss 0.2408 - lr 0.050000\n"
          ]
        },
        {
          "name": "stderr",
          "output_type": "stream",
          "text": [
            "100%|██████████| 4/4 [00:00<00:00,  5.21it/s]"
          ]
        },
        {
          "name": "stdout",
          "output_type": "stream",
          "text": [
            "2022-11-29 14:44:44,470 Evaluating as a multi-label problem: False\n",
            "2022-11-29 14:44:44,479 DEV : loss 0.30172014236450195 - f1-score (micro avg)  0.7064\n",
            "2022-11-29 14:44:44,491 BAD EPOCHS (no improvement): 1\n",
            "2022-11-29 14:44:44,492 ----------------------------------------------------------------------------------------------------\n"
          ]
        },
        {
          "name": "stderr",
          "output_type": "stream",
          "text": [
            "\n"
          ]
        },
        {
          "name": "stdout",
          "output_type": "stream",
          "text": [
            "2022-11-29 14:44:45,909 epoch 33 - iter 2/25 - loss 0.28776444 - samples/sec: 45.22 - lr: 0.050000\n",
            "2022-11-29 14:44:46,833 epoch 33 - iter 4/25 - loss 0.25081225 - samples/sec: 69.32 - lr: 0.050000\n",
            "2022-11-29 14:44:48,398 epoch 33 - iter 6/25 - loss 0.24219935 - samples/sec: 40.93 - lr: 0.050000\n",
            "2022-11-29 14:44:49,855 epoch 33 - iter 8/25 - loss 0.24247403 - samples/sec: 44.00 - lr: 0.050000\n",
            "2022-11-29 14:44:50,829 epoch 33 - iter 10/25 - loss 0.23797101 - samples/sec: 65.74 - lr: 0.050000\n",
            "2022-11-29 14:44:51,829 epoch 33 - iter 12/25 - loss 0.24313763 - samples/sec: 64.11 - lr: 0.050000\n",
            "2022-11-29 14:44:54,628 epoch 33 - iter 14/25 - loss 0.24355407 - samples/sec: 22.87 - lr: 0.050000\n",
            "2022-11-29 14:44:55,878 epoch 33 - iter 16/25 - loss 0.24132695 - samples/sec: 51.26 - lr: 0.050000\n",
            "2022-11-29 14:44:57,210 epoch 33 - iter 18/25 - loss 0.23741469 - samples/sec: 48.11 - lr: 0.050000\n",
            "2022-11-29 14:44:58,713 epoch 33 - iter 20/25 - loss 0.23753601 - samples/sec: 42.62 - lr: 0.050000\n",
            "2022-11-29 14:45:00,395 epoch 33 - iter 22/25 - loss 0.23948183 - samples/sec: 38.07 - lr: 0.050000\n",
            "2022-11-29 14:45:01,613 epoch 33 - iter 24/25 - loss 0.24294094 - samples/sec: 52.61 - lr: 0.050000\n",
            "2022-11-29 14:45:01,743 ----------------------------------------------------------------------------------------------------\n",
            "2022-11-29 14:45:01,743 EPOCH 33 done: loss 0.2431 - lr 0.050000\n"
          ]
        },
        {
          "name": "stderr",
          "output_type": "stream",
          "text": [
            "100%|██████████| 4/4 [00:00<00:00,  5.19it/s]"
          ]
        },
        {
          "name": "stdout",
          "output_type": "stream",
          "text": [
            "2022-11-29 14:45:02,519 Evaluating as a multi-label problem: False\n",
            "2022-11-29 14:45:02,529 DEV : loss 0.2757229208946228 - f1-score (micro avg)  0.687\n",
            "2022-11-29 14:45:02,548 BAD EPOCHS (no improvement): 2\n",
            "2022-11-29 14:45:02,549 ----------------------------------------------------------------------------------------------------\n"
          ]
        },
        {
          "name": "stderr",
          "output_type": "stream",
          "text": [
            "\n"
          ]
        },
        {
          "name": "stdout",
          "output_type": "stream",
          "text": [
            "2022-11-29 14:45:03,965 epoch 34 - iter 2/25 - loss 0.23410397 - samples/sec: 45.24 - lr: 0.050000\n",
            "2022-11-29 14:45:05,338 epoch 34 - iter 4/25 - loss 0.22141159 - samples/sec: 46.65 - lr: 0.050000\n",
            "2022-11-29 14:45:06,450 epoch 34 - iter 6/25 - loss 0.21705701 - samples/sec: 57.62 - lr: 0.050000\n",
            "2022-11-29 14:45:09,232 epoch 34 - iter 8/25 - loss 0.21124209 - samples/sec: 23.01 - lr: 0.050000\n",
            "2022-11-29 14:45:11,028 epoch 34 - iter 10/25 - loss 0.22302253 - samples/sec: 35.67 - lr: 0.050000\n",
            "2022-11-29 14:45:12,636 epoch 34 - iter 12/25 - loss 0.22054659 - samples/sec: 39.84 - lr: 0.050000\n",
            "2022-11-29 14:45:13,743 epoch 34 - iter 14/25 - loss 0.22395842 - samples/sec: 57.85 - lr: 0.050000\n",
            "2022-11-29 14:45:15,152 epoch 34 - iter 16/25 - loss 0.23044855 - samples/sec: 45.48 - lr: 0.050000\n",
            "2022-11-29 14:45:16,228 epoch 34 - iter 18/25 - loss 0.22986876 - samples/sec: 59.56 - lr: 0.050000\n",
            "2022-11-29 14:45:17,031 epoch 34 - iter 20/25 - loss 0.22836701 - samples/sec: 79.77 - lr: 0.050000\n",
            "2022-11-29 14:45:17,930 epoch 34 - iter 22/25 - loss 0.23191154 - samples/sec: 71.29 - lr: 0.050000\n",
            "2022-11-29 14:45:18,766 epoch 34 - iter 24/25 - loss 0.23268709 - samples/sec: 76.64 - lr: 0.050000\n",
            "2022-11-29 14:45:18,876 ----------------------------------------------------------------------------------------------------\n",
            "2022-11-29 14:45:18,877 EPOCH 34 done: loss 0.2324 - lr 0.050000\n"
          ]
        },
        {
          "name": "stderr",
          "output_type": "stream",
          "text": [
            "100%|██████████| 4/4 [00:00<00:00,  7.03it/s]"
          ]
        },
        {
          "name": "stdout",
          "output_type": "stream",
          "text": [
            "2022-11-29 14:45:19,448 Evaluating as a multi-label problem: False\n",
            "2022-11-29 14:45:19,454 DEV : loss 0.30342915654182434 - f1-score (micro avg)  0.6931\n"
          ]
        },
        {
          "name": "stderr",
          "output_type": "stream",
          "text": [
            "\n"
          ]
        },
        {
          "name": "stdout",
          "output_type": "stream",
          "text": [
            "2022-11-29 14:45:19,463 BAD EPOCHS (no improvement): 3\n",
            "2022-11-29 14:45:19,463 ----------------------------------------------------------------------------------------------------\n",
            "2022-11-29 14:45:20,516 epoch 35 - iter 2/25 - loss 0.25502981 - samples/sec: 60.84 - lr: 0.050000\n",
            "2022-11-29 14:45:21,694 epoch 35 - iter 4/25 - loss 0.23315936 - samples/sec: 54.41 - lr: 0.050000\n",
            "2022-11-29 14:45:22,989 epoch 35 - iter 6/25 - loss 0.23407575 - samples/sec: 49.45 - lr: 0.050000\n",
            "2022-11-29 14:45:23,778 epoch 35 - iter 8/25 - loss 0.22311876 - samples/sec: 81.20 - lr: 0.050000\n",
            "2022-11-29 14:45:24,892 epoch 35 - iter 10/25 - loss 0.22657880 - samples/sec: 57.53 - lr: 0.050000\n",
            "2022-11-29 14:45:25,966 epoch 35 - iter 12/25 - loss 0.23182865 - samples/sec: 59.66 - lr: 0.050000\n",
            "2022-11-29 14:45:27,079 epoch 35 - iter 14/25 - loss 0.22978756 - samples/sec: 57.56 - lr: 0.050000\n",
            "2022-11-29 14:45:28,298 epoch 35 - iter 16/25 - loss 0.23137270 - samples/sec: 52.54 - lr: 0.050000\n",
            "2022-11-29 14:45:29,556 epoch 35 - iter 18/25 - loss 0.22833336 - samples/sec: 50.91 - lr: 0.050000\n",
            "2022-11-29 14:45:31,019 epoch 35 - iter 20/25 - loss 0.23191964 - samples/sec: 43.79 - lr: 0.050000\n",
            "2022-11-29 14:45:33,453 epoch 35 - iter 22/25 - loss 0.23031075 - samples/sec: 26.30 - lr: 0.050000\n",
            "2022-11-29 14:45:34,845 epoch 35 - iter 24/25 - loss 0.23390354 - samples/sec: 46.02 - lr: 0.050000\n",
            "2022-11-29 14:45:34,956 ----------------------------------------------------------------------------------------------------\n",
            "2022-11-29 14:45:34,956 EPOCH 35 done: loss 0.2337 - lr 0.050000\n"
          ]
        },
        {
          "name": "stderr",
          "output_type": "stream",
          "text": [
            "100%|██████████| 4/4 [00:00<00:00,  5.08it/s]"
          ]
        },
        {
          "name": "stdout",
          "output_type": "stream",
          "text": [
            "2022-11-29 14:45:35,748 Evaluating as a multi-label problem: False\n",
            "2022-11-29 14:45:35,758 DEV : loss 0.2989812195301056 - f1-score (micro avg)  0.663\n",
            "2022-11-29 14:45:35,771 Epoch    35: reducing learning rate of group 0 to 2.5000e-02.\n",
            "2022-11-29 14:45:35,772 BAD EPOCHS (no improvement): 4\n",
            "2022-11-29 14:45:35,772 ----------------------------------------------------------------------------------------------------\n"
          ]
        },
        {
          "name": "stderr",
          "output_type": "stream",
          "text": [
            "\n"
          ]
        },
        {
          "name": "stdout",
          "output_type": "stream",
          "text": [
            "2022-11-29 14:45:36,906 epoch 36 - iter 2/25 - loss 0.20723572 - samples/sec: 56.54 - lr: 0.025000\n",
            "2022-11-29 14:45:38,313 epoch 36 - iter 4/25 - loss 0.22218822 - samples/sec: 45.51 - lr: 0.025000\n",
            "2022-11-29 14:45:39,796 epoch 36 - iter 6/25 - loss 0.23220191 - samples/sec: 43.21 - lr: 0.025000\n",
            "2022-11-29 14:45:40,791 epoch 36 - iter 8/25 - loss 0.23848801 - samples/sec: 64.37 - lr: 0.025000\n",
            "2022-11-29 14:45:41,830 epoch 36 - iter 10/25 - loss 0.23331201 - samples/sec: 61.69 - lr: 0.025000\n",
            "2022-11-29 14:45:43,356 epoch 36 - iter 12/25 - loss 0.22419460 - samples/sec: 41.99 - lr: 0.025000\n",
            "2022-11-29 14:45:44,627 epoch 36 - iter 14/25 - loss 0.22417951 - samples/sec: 50.38 - lr: 0.025000\n",
            "2022-11-29 14:45:46,216 epoch 36 - iter 16/25 - loss 0.22546328 - samples/sec: 40.34 - lr: 0.025000\n",
            "2022-11-29 14:45:48,853 epoch 36 - iter 18/25 - loss 0.22355449 - samples/sec: 24.28 - lr: 0.025000\n",
            "2022-11-29 14:45:49,736 epoch 36 - iter 20/25 - loss 0.22524084 - samples/sec: 72.55 - lr: 0.025000\n",
            "2022-11-29 14:45:51,083 epoch 36 - iter 22/25 - loss 0.22697818 - samples/sec: 47.58 - lr: 0.025000\n",
            "2022-11-29 14:45:52,409 epoch 36 - iter 24/25 - loss 0.22430002 - samples/sec: 48.30 - lr: 0.025000\n",
            "2022-11-29 14:45:52,509 ----------------------------------------------------------------------------------------------------\n",
            "2022-11-29 14:45:52,509 EPOCH 36 done: loss 0.2247 - lr 0.025000\n"
          ]
        },
        {
          "name": "stderr",
          "output_type": "stream",
          "text": [
            "100%|██████████| 4/4 [00:00<00:00,  5.20it/s]"
          ]
        },
        {
          "name": "stdout",
          "output_type": "stream",
          "text": [
            "2022-11-29 14:45:53,283 Evaluating as a multi-label problem: False\n",
            "2022-11-29 14:45:53,295 DEV : loss 0.2821022570133209 - f1-score (micro avg)  0.6911\n",
            "2022-11-29 14:45:53,316 BAD EPOCHS (no improvement): 1\n",
            "2022-11-29 14:45:53,317 ----------------------------------------------------------------------------------------------------\n"
          ]
        },
        {
          "name": "stderr",
          "output_type": "stream",
          "text": [
            "\n"
          ]
        },
        {
          "name": "stdout",
          "output_type": "stream",
          "text": [
            "2022-11-29 14:45:55,178 epoch 37 - iter 2/25 - loss 0.21161350 - samples/sec: 34.43 - lr: 0.025000\n",
            "2022-11-29 14:45:56,313 epoch 37 - iter 4/25 - loss 0.22712530 - samples/sec: 56.43 - lr: 0.025000\n",
            "2022-11-29 14:45:57,474 epoch 37 - iter 6/25 - loss 0.22547101 - samples/sec: 55.16 - lr: 0.025000\n",
            "2022-11-29 14:45:58,337 epoch 37 - iter 8/25 - loss 0.21568623 - samples/sec: 74.28 - lr: 0.025000\n",
            "2022-11-29 14:45:59,530 epoch 37 - iter 10/25 - loss 0.21989117 - samples/sec: 53.71 - lr: 0.025000\n",
            "2022-11-29 14:46:00,382 epoch 37 - iter 12/25 - loss 0.21619213 - samples/sec: 75.25 - lr: 0.025000\n",
            "2022-11-29 14:46:01,362 epoch 37 - iter 14/25 - loss 0.22123150 - samples/sec: 65.38 - lr: 0.025000\n",
            "2022-11-29 14:46:02,339 epoch 37 - iter 16/25 - loss 0.22380834 - samples/sec: 65.55 - lr: 0.025000\n",
            "2022-11-29 14:46:03,771 epoch 37 - iter 18/25 - loss 0.22371083 - samples/sec: 44.71 - lr: 0.025000\n",
            "2022-11-29 14:46:06,597 epoch 37 - iter 20/25 - loss 0.21908350 - samples/sec: 22.66 - lr: 0.025000\n",
            "2022-11-29 14:46:07,799 epoch 37 - iter 22/25 - loss 0.21997364 - samples/sec: 53.33 - lr: 0.025000\n",
            "2022-11-29 14:46:09,118 epoch 37 - iter 24/25 - loss 0.21572635 - samples/sec: 48.54 - lr: 0.025000\n",
            "2022-11-29 14:46:09,230 ----------------------------------------------------------------------------------------------------\n",
            "2022-11-29 14:46:09,231 EPOCH 37 done: loss 0.2167 - lr 0.025000\n"
          ]
        },
        {
          "name": "stderr",
          "output_type": "stream",
          "text": [
            "100%|██████████| 4/4 [00:00<00:00,  5.36it/s]"
          ]
        },
        {
          "name": "stdout",
          "output_type": "stream",
          "text": [
            "2022-11-29 14:46:09,981 Evaluating as a multi-label problem: False\n",
            "2022-11-29 14:46:09,989 DEV : loss 0.27540674805641174 - f1-score (micro avg)  0.7081\n",
            "2022-11-29 14:46:10,001 BAD EPOCHS (no improvement): 0\n",
            "2022-11-29 14:46:10,002 saving best model\n"
          ]
        },
        {
          "name": "stderr",
          "output_type": "stream",
          "text": [
            "\n"
          ]
        },
        {
          "name": "stdout",
          "output_type": "stream",
          "text": [
            "2022-11-29 14:46:10,683 ----------------------------------------------------------------------------------------------------\n",
            "2022-11-29 14:46:11,952 epoch 38 - iter 2/25 - loss 0.22921947 - samples/sec: 50.49 - lr: 0.025000\n",
            "2022-11-29 14:46:13,325 epoch 38 - iter 4/25 - loss 0.21628485 - samples/sec: 46.67 - lr: 0.025000\n",
            "2022-11-29 14:46:14,500 epoch 38 - iter 6/25 - loss 0.22191991 - samples/sec: 54.55 - lr: 0.025000\n",
            "2022-11-29 14:46:17,449 epoch 38 - iter 8/25 - loss 0.22002710 - samples/sec: 21.71 - lr: 0.025000\n",
            "2022-11-29 14:46:19,306 epoch 38 - iter 10/25 - loss 0.21432460 - samples/sec: 34.48 - lr: 0.025000\n",
            "2022-11-29 14:46:20,644 epoch 38 - iter 12/25 - loss 0.21027864 - samples/sec: 47.90 - lr: 0.025000\n",
            "2022-11-29 14:46:21,740 epoch 38 - iter 14/25 - loss 0.20739836 - samples/sec: 58.42 - lr: 0.025000\n",
            "2022-11-29 14:46:23,136 epoch 38 - iter 16/25 - loss 0.20547207 - samples/sec: 45.90 - lr: 0.025000\n",
            "2022-11-29 14:46:24,346 epoch 38 - iter 18/25 - loss 0.21051476 - samples/sec: 52.95 - lr: 0.025000\n",
            "2022-11-29 14:46:25,988 epoch 38 - iter 20/25 - loss 0.21284106 - samples/sec: 39.02 - lr: 0.025000\n",
            "2022-11-29 14:46:27,506 epoch 38 - iter 22/25 - loss 0.21387008 - samples/sec: 42.18 - lr: 0.025000\n",
            "2022-11-29 14:46:28,473 epoch 38 - iter 24/25 - loss 0.21300382 - samples/sec: 66.28 - lr: 0.025000\n",
            "2022-11-29 14:46:28,572 ----------------------------------------------------------------------------------------------------\n",
            "2022-11-29 14:46:28,573 EPOCH 38 done: loss 0.2129 - lr 0.025000\n"
          ]
        },
        {
          "name": "stderr",
          "output_type": "stream",
          "text": [
            "100%|██████████| 4/4 [00:00<00:00,  5.40it/s]"
          ]
        },
        {
          "name": "stdout",
          "output_type": "stream",
          "text": [
            "2022-11-29 14:46:29,318 Evaluating as a multi-label problem: False\n",
            "2022-11-29 14:46:29,328 DEV : loss 0.28456756472587585 - f1-score (micro avg)  0.6991\n",
            "2022-11-29 14:46:29,340 BAD EPOCHS (no improvement): 1\n",
            "2022-11-29 14:46:29,341 ----------------------------------------------------------------------------------------------------\n"
          ]
        },
        {
          "name": "stderr",
          "output_type": "stream",
          "text": [
            "\n"
          ]
        },
        {
          "name": "stdout",
          "output_type": "stream",
          "text": [
            "2022-11-29 14:46:30,349 epoch 39 - iter 2/25 - loss 0.21560595 - samples/sec: 63.60 - lr: 0.025000\n",
            "2022-11-29 14:46:31,472 epoch 39 - iter 4/25 - loss 0.20874754 - samples/sec: 57.04 - lr: 0.025000\n",
            "2022-11-29 14:46:32,835 epoch 39 - iter 6/25 - loss 0.22078925 - samples/sec: 47.02 - lr: 0.025000\n",
            "2022-11-29 14:46:35,472 epoch 39 - iter 8/25 - loss 0.21483084 - samples/sec: 24.28 - lr: 0.025000\n",
            "2022-11-29 14:46:36,554 epoch 39 - iter 10/25 - loss 0.21160305 - samples/sec: 59.24 - lr: 0.025000\n",
            "2022-11-29 14:46:37,995 epoch 39 - iter 12/25 - loss 0.21689305 - samples/sec: 44.45 - lr: 0.025000\n",
            "2022-11-29 14:46:39,389 epoch 39 - iter 14/25 - loss 0.22033665 - samples/sec: 45.96 - lr: 0.025000\n",
            "2022-11-29 14:46:40,871 epoch 39 - iter 16/25 - loss 0.22538995 - samples/sec: 43.23 - lr: 0.025000\n",
            "2022-11-29 14:46:41,892 epoch 39 - iter 18/25 - loss 0.22380456 - samples/sec: 62.76 - lr: 0.025000\n",
            "2022-11-29 14:46:43,514 epoch 39 - iter 20/25 - loss 0.22129434 - samples/sec: 39.50 - lr: 0.025000\n",
            "2022-11-29 14:46:45,186 epoch 39 - iter 22/25 - loss 0.21871897 - samples/sec: 38.30 - lr: 0.025000\n",
            "2022-11-29 14:46:46,351 epoch 39 - iter 24/25 - loss 0.21558353 - samples/sec: 55.01 - lr: 0.025000\n",
            "2022-11-29 14:46:46,482 ----------------------------------------------------------------------------------------------------\n",
            "2022-11-29 14:46:46,483 EPOCH 39 done: loss 0.2153 - lr 0.025000\n"
          ]
        },
        {
          "name": "stderr",
          "output_type": "stream",
          "text": [
            "100%|██████████| 4/4 [00:00<00:00,  5.26it/s]"
          ]
        },
        {
          "name": "stdout",
          "output_type": "stream",
          "text": [
            "2022-11-29 14:46:47,248 Evaluating as a multi-label problem: False\n",
            "2022-11-29 14:46:47,257 DEV : loss 0.2784941792488098 - f1-score (micro avg)  0.702\n",
            "2022-11-29 14:46:47,268 BAD EPOCHS (no improvement): 2\n",
            "2022-11-29 14:46:47,269 ----------------------------------------------------------------------------------------------------\n"
          ]
        },
        {
          "name": "stderr",
          "output_type": "stream",
          "text": [
            "\n"
          ]
        },
        {
          "name": "stdout",
          "output_type": "stream",
          "text": [
            "2022-11-29 14:46:48,501 epoch 40 - iter 2/25 - loss 0.19684647 - samples/sec: 52.01 - lr: 0.025000\n",
            "2022-11-29 14:46:49,590 epoch 40 - iter 4/25 - loss 0.21427571 - samples/sec: 58.81 - lr: 0.025000\n",
            "2022-11-29 14:46:50,823 epoch 40 - iter 6/25 - loss 0.20939188 - samples/sec: 51.96 - lr: 0.025000\n",
            "2022-11-29 14:46:51,965 epoch 40 - iter 8/25 - loss 0.19950670 - samples/sec: 56.12 - lr: 0.025000\n",
            "2022-11-29 14:46:53,050 epoch 40 - iter 10/25 - loss 0.20256127 - samples/sec: 59.03 - lr: 0.025000\n",
            "2022-11-29 14:46:54,299 epoch 40 - iter 12/25 - loss 0.20632952 - samples/sec: 51.28 - lr: 0.025000\n",
            "2022-11-29 14:46:55,797 epoch 40 - iter 14/25 - loss 0.20627340 - samples/sec: 42.76 - lr: 0.025000\n",
            "2022-11-29 14:46:56,832 epoch 40 - iter 16/25 - loss 0.20502216 - samples/sec: 61.92 - lr: 0.025000\n",
            "2022-11-29 14:46:57,841 epoch 40 - iter 18/25 - loss 0.20692068 - samples/sec: 63.50 - lr: 0.025000\n",
            "2022-11-29 14:46:58,975 epoch 40 - iter 20/25 - loss 0.20367433 - samples/sec: 56.47 - lr: 0.025000\n",
            "2022-11-29 14:46:59,960 epoch 40 - iter 22/25 - loss 0.20594138 - samples/sec: 65.06 - lr: 0.025000\n",
            "2022-11-29 14:47:02,815 epoch 40 - iter 24/25 - loss 0.20600355 - samples/sec: 22.42 - lr: 0.025000\n",
            "2022-11-29 14:47:02,927 ----------------------------------------------------------------------------------------------------\n",
            "2022-11-29 14:47:02,928 EPOCH 40 done: loss 0.2068 - lr 0.025000\n"
          ]
        },
        {
          "name": "stderr",
          "output_type": "stream",
          "text": [
            "100%|██████████| 4/4 [00:00<00:00,  5.29it/s]"
          ]
        },
        {
          "name": "stdout",
          "output_type": "stream",
          "text": [
            "2022-11-29 14:47:03,687 Evaluating as a multi-label problem: False\n",
            "2022-11-29 14:47:03,695 DEV : loss 0.2884712517261505 - f1-score (micro avg)  0.692\n",
            "2022-11-29 14:47:03,706 BAD EPOCHS (no improvement): 3\n",
            "2022-11-29 14:47:03,707 ----------------------------------------------------------------------------------------------------\n"
          ]
        },
        {
          "name": "stderr",
          "output_type": "stream",
          "text": [
            "\n"
          ]
        },
        {
          "name": "stdout",
          "output_type": "stream",
          "text": [
            "2022-11-29 14:47:04,914 epoch 41 - iter 2/25 - loss 0.21096492 - samples/sec: 53.08 - lr: 0.025000\n",
            "2022-11-29 14:47:06,749 epoch 41 - iter 4/25 - loss 0.19674300 - samples/sec: 34.91 - lr: 0.025000\n",
            "2022-11-29 14:47:08,021 epoch 41 - iter 6/25 - loss 0.18775043 - samples/sec: 50.37 - lr: 0.025000\n",
            "2022-11-29 14:47:09,300 epoch 41 - iter 8/25 - loss 0.19678853 - samples/sec: 50.11 - lr: 0.025000\n",
            "2022-11-29 14:47:10,562 epoch 41 - iter 10/25 - loss 0.19436894 - samples/sec: 50.77 - lr: 0.025000\n",
            "2022-11-29 14:47:13,655 epoch 41 - iter 12/25 - loss 0.19415963 - samples/sec: 20.70 - lr: 0.025000\n",
            "2022-11-29 14:47:15,083 epoch 41 - iter 14/25 - loss 0.19630888 - samples/sec: 44.88 - lr: 0.025000\n",
            "2022-11-29 14:47:16,186 epoch 41 - iter 16/25 - loss 0.19479743 - samples/sec: 58.08 - lr: 0.025000\n",
            "2022-11-29 14:47:17,116 epoch 41 - iter 18/25 - loss 0.19721688 - samples/sec: 68.89 - lr: 0.025000\n",
            "2022-11-29 14:47:18,346 epoch 41 - iter 20/25 - loss 0.19950094 - samples/sec: 52.12 - lr: 0.025000\n",
            "2022-11-29 14:47:20,026 epoch 41 - iter 22/25 - loss 0.20213182 - samples/sec: 38.11 - lr: 0.025000\n",
            "2022-11-29 14:47:21,595 epoch 41 - iter 24/25 - loss 0.20382451 - samples/sec: 40.83 - lr: 0.025000\n",
            "2022-11-29 14:47:21,699 ----------------------------------------------------------------------------------------------------\n",
            "2022-11-29 14:47:21,700 EPOCH 41 done: loss 0.2039 - lr 0.025000\n"
          ]
        },
        {
          "name": "stderr",
          "output_type": "stream",
          "text": [
            "100%|██████████| 4/4 [00:00<00:00,  5.30it/s]"
          ]
        },
        {
          "name": "stdout",
          "output_type": "stream",
          "text": [
            "2022-11-29 14:47:22,459 Evaluating as a multi-label problem: False\n",
            "2022-11-29 14:47:22,467 DEV : loss 0.2798924744129181 - f1-score (micro avg)  0.6881\n",
            "2022-11-29 14:47:22,479 Epoch    41: reducing learning rate of group 0 to 1.2500e-02.\n",
            "2022-11-29 14:47:22,480 BAD EPOCHS (no improvement): 4\n",
            "2022-11-29 14:47:22,480 ----------------------------------------------------------------------------------------------------\n"
          ]
        },
        {
          "name": "stderr",
          "output_type": "stream",
          "text": [
            "\n"
          ]
        },
        {
          "name": "stdout",
          "output_type": "stream",
          "text": [
            "2022-11-29 14:47:23,706 epoch 42 - iter 2/25 - loss 0.19239343 - samples/sec: 52.27 - lr: 0.012500\n",
            "2022-11-29 14:47:24,884 epoch 42 - iter 4/25 - loss 0.19776295 - samples/sec: 54.41 - lr: 0.012500\n",
            "2022-11-29 14:47:26,204 epoch 42 - iter 6/25 - loss 0.21719857 - samples/sec: 48.53 - lr: 0.012500\n",
            "2022-11-29 14:47:27,414 epoch 42 - iter 8/25 - loss 0.20892705 - samples/sec: 52.92 - lr: 0.012500\n",
            "2022-11-29 14:47:29,024 epoch 42 - iter 10/25 - loss 0.20895314 - samples/sec: 39.81 - lr: 0.012500\n",
            "2022-11-29 14:47:30,595 epoch 42 - iter 12/25 - loss 0.21774587 - samples/sec: 40.76 - lr: 0.012500\n",
            "2022-11-29 14:47:31,744 epoch 42 - iter 14/25 - loss 0.21350579 - samples/sec: 55.77 - lr: 0.012500\n",
            "2022-11-29 14:47:32,885 epoch 42 - iter 16/25 - loss 0.20922716 - samples/sec: 56.17 - lr: 0.012500\n",
            "2022-11-29 14:47:34,489 epoch 42 - iter 18/25 - loss 0.20858291 - samples/sec: 39.94 - lr: 0.012500\n",
            "2022-11-29 14:47:35,796 epoch 42 - iter 20/25 - loss 0.20381856 - samples/sec: 49.01 - lr: 0.012500\n",
            "2022-11-29 14:47:37,260 epoch 42 - iter 22/25 - loss 0.20574326 - samples/sec: 43.75 - lr: 0.012500\n",
            "2022-11-29 14:47:40,354 epoch 42 - iter 24/25 - loss 0.20543022 - samples/sec: 20.70 - lr: 0.012500\n",
            "2022-11-29 14:47:40,502 ----------------------------------------------------------------------------------------------------\n",
            "2022-11-29 14:47:40,503 EPOCH 42 done: loss 0.2087 - lr 0.012500\n"
          ]
        },
        {
          "name": "stderr",
          "output_type": "stream",
          "text": [
            "100%|██████████| 4/4 [00:00<00:00,  5.42it/s]"
          ]
        },
        {
          "name": "stdout",
          "output_type": "stream",
          "text": [
            "2022-11-29 14:47:41,245 Evaluating as a multi-label problem: False\n",
            "2022-11-29 14:47:41,252 DEV : loss 0.29521867632865906 - f1-score (micro avg)  0.6964\n",
            "2022-11-29 14:47:41,263 BAD EPOCHS (no improvement): 1\n",
            "2022-11-29 14:47:41,264 ----------------------------------------------------------------------------------------------------\n"
          ]
        },
        {
          "name": "stderr",
          "output_type": "stream",
          "text": [
            "\n"
          ]
        },
        {
          "name": "stdout",
          "output_type": "stream",
          "text": [
            "2022-11-29 14:47:42,563 epoch 43 - iter 2/25 - loss 0.18755880 - samples/sec: 49.33 - lr: 0.012500\n",
            "2022-11-29 14:47:44,026 epoch 43 - iter 4/25 - loss 0.19296182 - samples/sec: 43.78 - lr: 0.012500\n",
            "2022-11-29 14:47:45,271 epoch 43 - iter 6/25 - loss 0.19175531 - samples/sec: 51.45 - lr: 0.012500\n",
            "2022-11-29 14:47:46,825 epoch 43 - iter 8/25 - loss 0.20150278 - samples/sec: 41.23 - lr: 0.012500\n",
            "2022-11-29 14:47:49,548 epoch 43 - iter 10/25 - loss 0.19805741 - samples/sec: 23.51 - lr: 0.012500\n",
            "2022-11-29 14:47:50,617 epoch 43 - iter 12/25 - loss 0.20135006 - samples/sec: 60.01 - lr: 0.012500\n",
            "2022-11-29 14:47:51,741 epoch 43 - iter 14/25 - loss 0.20196608 - samples/sec: 57.02 - lr: 0.012500\n",
            "2022-11-29 14:47:53,209 epoch 43 - iter 16/25 - loss 0.19909837 - samples/sec: 43.64 - lr: 0.012500\n",
            "2022-11-29 14:47:54,494 epoch 43 - iter 18/25 - loss 0.20232944 - samples/sec: 49.86 - lr: 0.012500\n",
            "2022-11-29 14:47:55,789 epoch 43 - iter 20/25 - loss 0.20060313 - samples/sec: 49.45 - lr: 0.012500\n",
            "2022-11-29 14:47:56,775 epoch 43 - iter 22/25 - loss 0.19871779 - samples/sec: 65.05 - lr: 0.012500\n",
            "2022-11-29 14:47:58,147 epoch 43 - iter 24/25 - loss 0.20048726 - samples/sec: 46.67 - lr: 0.012500\n",
            "2022-11-29 14:47:58,243 ----------------------------------------------------------------------------------------------------\n",
            "2022-11-29 14:47:58,244 EPOCH 43 done: loss 0.2008 - lr 0.012500\n"
          ]
        },
        {
          "name": "stderr",
          "output_type": "stream",
          "text": [
            "100%|██████████| 4/4 [00:00<00:00,  5.50it/s]"
          ]
        },
        {
          "name": "stdout",
          "output_type": "stream",
          "text": [
            "2022-11-29 14:47:58,975 Evaluating as a multi-label problem: False\n",
            "2022-11-29 14:47:58,983 DEV : loss 0.2905198633670807 - f1-score (micro avg)  0.6899\n",
            "2022-11-29 14:47:58,995 BAD EPOCHS (no improvement): 2\n",
            "2022-11-29 14:47:58,996 ----------------------------------------------------------------------------------------------------\n"
          ]
        },
        {
          "name": "stderr",
          "output_type": "stream",
          "text": [
            "\n"
          ]
        },
        {
          "name": "stdout",
          "output_type": "stream",
          "text": [
            "2022-11-29 14:48:00,010 epoch 44 - iter 2/25 - loss 0.18733589 - samples/sec: 63.22 - lr: 0.012500\n",
            "2022-11-29 14:48:01,332 epoch 44 - iter 4/25 - loss 0.20241096 - samples/sec: 48.42 - lr: 0.012500\n",
            "2022-11-29 14:48:04,281 epoch 44 - iter 6/25 - loss 0.19994019 - samples/sec: 21.72 - lr: 0.012500\n",
            "2022-11-29 14:48:05,794 epoch 44 - iter 8/25 - loss 0.20331968 - samples/sec: 42.31 - lr: 0.012500\n",
            "2022-11-29 14:48:06,810 epoch 44 - iter 10/25 - loss 0.20447265 - samples/sec: 63.11 - lr: 0.012500\n",
            "2022-11-29 14:48:08,486 epoch 44 - iter 12/25 - loss 0.20638096 - samples/sec: 38.21 - lr: 0.012500\n",
            "2022-11-29 14:48:09,743 epoch 44 - iter 14/25 - loss 0.20386163 - samples/sec: 50.94 - lr: 0.012500\n",
            "2022-11-29 14:48:11,174 epoch 44 - iter 16/25 - loss 0.19931053 - samples/sec: 44.79 - lr: 0.012500\n",
            "2022-11-29 14:48:12,482 epoch 44 - iter 18/25 - loss 0.19899910 - samples/sec: 48.95 - lr: 0.012500\n",
            "2022-11-29 14:48:13,762 epoch 44 - iter 20/25 - loss 0.19910678 - samples/sec: 50.05 - lr: 0.012500\n",
            "2022-11-29 14:48:14,990 epoch 44 - iter 22/25 - loss 0.20309454 - samples/sec: 52.21 - lr: 0.012500\n",
            "2022-11-29 14:48:16,105 epoch 44 - iter 24/25 - loss 0.20073070 - samples/sec: 57.47 - lr: 0.012500\n",
            "2022-11-29 14:48:16,199 ----------------------------------------------------------------------------------------------------\n",
            "2022-11-29 14:48:16,200 EPOCH 44 done: loss 0.2006 - lr 0.012500\n"
          ]
        },
        {
          "name": "stderr",
          "output_type": "stream",
          "text": [
            "100%|██████████| 4/4 [00:00<00:00,  5.45it/s]"
          ]
        },
        {
          "name": "stdout",
          "output_type": "stream",
          "text": [
            "2022-11-29 14:48:16,938 Evaluating as a multi-label problem: False\n",
            "2022-11-29 14:48:16,946 DEV : loss 0.27080249786376953 - f1-score (micro avg)  0.6986\n",
            "2022-11-29 14:48:16,959 BAD EPOCHS (no improvement): 3\n",
            "2022-11-29 14:48:16,960 ----------------------------------------------------------------------------------------------------\n"
          ]
        },
        {
          "name": "stderr",
          "output_type": "stream",
          "text": [
            "\n"
          ]
        },
        {
          "name": "stdout",
          "output_type": "stream",
          "text": [
            "2022-11-29 14:48:18,039 epoch 45 - iter 2/25 - loss 0.17635672 - samples/sec: 59.37 - lr: 0.012500\n",
            "2022-11-29 14:48:19,712 epoch 45 - iter 4/25 - loss 0.18746919 - samples/sec: 38.29 - lr: 0.012500\n",
            "2022-11-29 14:48:21,301 epoch 45 - iter 6/25 - loss 0.18948048 - samples/sec: 40.29 - lr: 0.012500\n",
            "2022-11-29 14:48:22,972 epoch 45 - iter 8/25 - loss 0.19280122 - samples/sec: 38.35 - lr: 0.012500\n",
            "2022-11-29 14:48:24,313 epoch 45 - iter 10/25 - loss 0.20764455 - samples/sec: 47.75 - lr: 0.012500\n",
            "2022-11-29 14:48:25,480 epoch 45 - iter 12/25 - loss 0.20705425 - samples/sec: 54.92 - lr: 0.012500\n",
            "2022-11-29 14:48:27,023 epoch 45 - iter 14/25 - loss 0.20474790 - samples/sec: 41.52 - lr: 0.012500\n",
            "2022-11-29 14:48:28,182 epoch 45 - iter 16/25 - loss 0.20448813 - samples/sec: 55.28 - lr: 0.012500\n",
            "2022-11-29 14:48:30,976 epoch 45 - iter 18/25 - loss 0.20479087 - samples/sec: 22.92 - lr: 0.012500\n",
            "2022-11-29 14:48:32,074 epoch 45 - iter 20/25 - loss 0.20442312 - samples/sec: 58.36 - lr: 0.012500\n",
            "2022-11-29 14:48:33,028 epoch 45 - iter 22/25 - loss 0.20454598 - samples/sec: 67.15 - lr: 0.012500\n",
            "2022-11-29 14:48:34,245 epoch 45 - iter 24/25 - loss 0.20236810 - samples/sec: 52.66 - lr: 0.012500\n",
            "2022-11-29 14:48:34,379 ----------------------------------------------------------------------------------------------------\n",
            "2022-11-29 14:48:34,380 EPOCH 45 done: loss 0.2034 - lr 0.012500\n"
          ]
        },
        {
          "name": "stderr",
          "output_type": "stream",
          "text": [
            "100%|██████████| 4/4 [00:00<00:00,  5.54it/s]"
          ]
        },
        {
          "name": "stdout",
          "output_type": "stream",
          "text": [
            "2022-11-29 14:48:35,106 Evaluating as a multi-label problem: False\n",
            "2022-11-29 14:48:35,116 DEV : loss 0.2782122790813446 - f1-score (micro avg)  0.7079\n",
            "2022-11-29 14:48:35,135 Epoch    45: reducing learning rate of group 0 to 6.2500e-03.\n",
            "2022-11-29 14:48:35,136 BAD EPOCHS (no improvement): 4\n",
            "2022-11-29 14:48:35,137 ----------------------------------------------------------------------------------------------------\n"
          ]
        },
        {
          "name": "stderr",
          "output_type": "stream",
          "text": [
            "\n"
          ]
        },
        {
          "name": "stdout",
          "output_type": "stream",
          "text": [
            "2022-11-29 14:48:36,633 epoch 46 - iter 2/25 - loss 0.19427578 - samples/sec: 42.83 - lr: 0.006250\n",
            "2022-11-29 14:48:38,292 epoch 46 - iter 4/25 - loss 0.19365199 - samples/sec: 38.61 - lr: 0.006250\n",
            "2022-11-29 14:48:39,350 epoch 46 - iter 6/25 - loss 0.20182504 - samples/sec: 60.55 - lr: 0.006250\n",
            "2022-11-29 14:48:40,715 epoch 46 - iter 8/25 - loss 0.19720148 - samples/sec: 46.95 - lr: 0.006250\n",
            "2022-11-29 14:48:42,163 epoch 46 - iter 10/25 - loss 0.19911029 - samples/sec: 44.25 - lr: 0.006250\n",
            "2022-11-29 14:48:43,631 epoch 46 - iter 12/25 - loss 0.19839342 - samples/sec: 43.63 - lr: 0.006250\n",
            "2022-11-29 14:48:45,058 epoch 46 - iter 14/25 - loss 0.19626017 - samples/sec: 44.86 - lr: 0.006250\n",
            "2022-11-29 14:48:46,367 epoch 46 - iter 16/25 - loss 0.19632889 - samples/sec: 48.97 - lr: 0.006250\n",
            "2022-11-29 14:48:47,363 epoch 46 - iter 18/25 - loss 0.19585301 - samples/sec: 64.29 - lr: 0.006250\n",
            "2022-11-29 14:48:50,223 epoch 46 - iter 20/25 - loss 0.19188313 - samples/sec: 22.39 - lr: 0.006250\n",
            "2022-11-29 14:48:51,330 epoch 46 - iter 22/25 - loss 0.19590363 - samples/sec: 57.85 - lr: 0.006250\n",
            "2022-11-29 14:48:52,799 epoch 46 - iter 24/25 - loss 0.19612236 - samples/sec: 43.62 - lr: 0.006250\n",
            "2022-11-29 14:48:52,896 ----------------------------------------------------------------------------------------------------\n",
            "2022-11-29 14:48:52,897 EPOCH 46 done: loss 0.1957 - lr 0.006250\n"
          ]
        },
        {
          "name": "stderr",
          "output_type": "stream",
          "text": [
            "100%|██████████| 4/4 [00:00<00:00,  5.58it/s]"
          ]
        },
        {
          "name": "stdout",
          "output_type": "stream",
          "text": [
            "2022-11-29 14:48:53,617 Evaluating as a multi-label problem: False\n",
            "2022-11-29 14:48:53,624 DEV : loss 0.2782062888145447 - f1-score (micro avg)  0.7147\n",
            "2022-11-29 14:48:53,636 BAD EPOCHS (no improvement): 0\n",
            "2022-11-29 14:48:53,637 saving best model\n"
          ]
        },
        {
          "name": "stderr",
          "output_type": "stream",
          "text": [
            "\n"
          ]
        },
        {
          "name": "stdout",
          "output_type": "stream",
          "text": [
            "2022-11-29 14:48:54,314 ----------------------------------------------------------------------------------------------------\n",
            "2022-11-29 14:48:55,257 epoch 47 - iter 2/25 - loss 0.17702180 - samples/sec: 67.94 - lr: 0.006250\n",
            "2022-11-29 14:48:57,979 epoch 47 - iter 4/25 - loss 0.18129881 - samples/sec: 23.52 - lr: 0.006250\n",
            "2022-11-29 14:48:58,887 epoch 47 - iter 6/25 - loss 0.18353073 - samples/sec: 70.60 - lr: 0.006250\n",
            "2022-11-29 14:49:00,214 epoch 47 - iter 8/25 - loss 0.17976291 - samples/sec: 48.28 - lr: 0.006250\n",
            "2022-11-29 14:49:01,888 epoch 47 - iter 10/25 - loss 0.18111078 - samples/sec: 38.27 - lr: 0.006250\n",
            "2022-11-29 14:49:03,034 epoch 47 - iter 12/25 - loss 0.18582020 - samples/sec: 55.88 - lr: 0.006250\n",
            "2022-11-29 14:49:04,241 epoch 47 - iter 14/25 - loss 0.18482553 - samples/sec: 53.09 - lr: 0.006250\n",
            "2022-11-29 14:49:05,390 epoch 47 - iter 16/25 - loss 0.19606506 - samples/sec: 55.74 - lr: 0.006250\n",
            "2022-11-29 14:49:06,523 epoch 47 - iter 18/25 - loss 0.19464582 - samples/sec: 56.58 - lr: 0.006250\n",
            "2022-11-29 14:49:07,526 epoch 47 - iter 20/25 - loss 0.19064824 - samples/sec: 63.88 - lr: 0.006250\n",
            "2022-11-29 14:49:08,832 epoch 47 - iter 22/25 - loss 0.19082051 - samples/sec: 49.05 - lr: 0.006250\n",
            "2022-11-29 14:49:10,308 epoch 47 - iter 24/25 - loss 0.19274920 - samples/sec: 43.40 - lr: 0.006250\n",
            "2022-11-29 14:49:10,406 ----------------------------------------------------------------------------------------------------\n",
            "2022-11-29 14:49:10,407 EPOCH 47 done: loss 0.1931 - lr 0.006250\n"
          ]
        },
        {
          "name": "stderr",
          "output_type": "stream",
          "text": [
            "100%|██████████| 4/4 [00:00<00:00,  5.57it/s]"
          ]
        },
        {
          "name": "stdout",
          "output_type": "stream",
          "text": [
            "2022-11-29 14:49:11,129 Evaluating as a multi-label problem: False\n",
            "2022-11-29 14:49:11,137 DEV : loss 0.28149256110191345 - f1-score (micro avg)  0.7047\n",
            "2022-11-29 14:49:11,149 BAD EPOCHS (no improvement): 1\n",
            "2022-11-29 14:49:11,150 ----------------------------------------------------------------------------------------------------\n"
          ]
        },
        {
          "name": "stderr",
          "output_type": "stream",
          "text": [
            "\n"
          ]
        },
        {
          "name": "stdout",
          "output_type": "stream",
          "text": [
            "2022-11-29 14:49:12,166 epoch 48 - iter 2/25 - loss 0.15847832 - samples/sec: 63.07 - lr: 0.006250\n",
            "2022-11-29 14:49:15,066 epoch 48 - iter 4/25 - loss 0.19531221 - samples/sec: 22.07 - lr: 0.006250\n",
            "2022-11-29 14:49:16,968 epoch 48 - iter 6/25 - loss 0.19157333 - samples/sec: 33.68 - lr: 0.006250\n",
            "2022-11-29 14:49:18,758 epoch 48 - iter 8/25 - loss 0.18529681 - samples/sec: 35.78 - lr: 0.006250\n",
            "2022-11-29 14:49:19,996 epoch 48 - iter 10/25 - loss 0.19908531 - samples/sec: 51.74 - lr: 0.006250\n",
            "2022-11-29 14:49:21,278 epoch 48 - iter 12/25 - loss 0.19280328 - samples/sec: 49.96 - lr: 0.006250\n",
            "2022-11-29 14:49:22,335 epoch 48 - iter 14/25 - loss 0.19167883 - samples/sec: 60.63 - lr: 0.006250\n",
            "2022-11-29 14:49:23,694 epoch 48 - iter 16/25 - loss 0.18610210 - samples/sec: 47.14 - lr: 0.006250\n",
            "2022-11-29 14:49:24,633 epoch 48 - iter 18/25 - loss 0.19080686 - samples/sec: 68.24 - lr: 0.006250\n",
            "2022-11-29 14:49:25,731 epoch 48 - iter 20/25 - loss 0.19287329 - samples/sec: 58.38 - lr: 0.006250\n",
            "2022-11-29 14:49:26,720 epoch 48 - iter 22/25 - loss 0.19120834 - samples/sec: 64.76 - lr: 0.006250\n",
            "2022-11-29 14:49:27,850 epoch 48 - iter 24/25 - loss 0.19265792 - samples/sec: 56.71 - lr: 0.006250\n",
            "2022-11-29 14:49:27,955 ----------------------------------------------------------------------------------------------------\n",
            "2022-11-29 14:49:27,955 EPOCH 48 done: loss 0.1923 - lr 0.006250\n"
          ]
        },
        {
          "name": "stderr",
          "output_type": "stream",
          "text": [
            "100%|██████████| 4/4 [00:00<00:00,  5.22it/s]"
          ]
        },
        {
          "name": "stdout",
          "output_type": "stream",
          "text": [
            "2022-11-29 14:49:28,726 Evaluating as a multi-label problem: False\n",
            "2022-11-29 14:49:28,734 DEV : loss 0.2791893184185028 - f1-score (micro avg)  0.7096\n",
            "2022-11-29 14:49:28,750 BAD EPOCHS (no improvement): 2\n",
            "2022-11-29 14:49:28,751 ----------------------------------------------------------------------------------------------------\n"
          ]
        },
        {
          "name": "stderr",
          "output_type": "stream",
          "text": [
            "\n"
          ]
        },
        {
          "name": "stdout",
          "output_type": "stream",
          "text": [
            "2022-11-29 14:49:30,044 epoch 49 - iter 2/25 - loss 0.19448114 - samples/sec: 49.56 - lr: 0.006250\n",
            "2022-11-29 14:49:31,376 epoch 49 - iter 4/25 - loss 0.17768569 - samples/sec: 48.12 - lr: 0.006250\n",
            "2022-11-29 14:49:34,532 epoch 49 - iter 6/25 - loss 0.17693528 - samples/sec: 20.28 - lr: 0.006250\n",
            "2022-11-29 14:49:35,741 epoch 49 - iter 8/25 - loss 0.17257983 - samples/sec: 53.00 - lr: 0.006250\n",
            "2022-11-29 14:49:37,175 epoch 49 - iter 10/25 - loss 0.18439265 - samples/sec: 44.67 - lr: 0.006250\n",
            "2022-11-29 14:49:38,185 epoch 49 - iter 12/25 - loss 0.19124204 - samples/sec: 63.47 - lr: 0.006250\n",
            "2022-11-29 14:49:39,344 epoch 49 - iter 14/25 - loss 0.19595810 - samples/sec: 55.29 - lr: 0.006250\n",
            "2022-11-29 14:49:40,458 epoch 49 - iter 16/25 - loss 0.19805603 - samples/sec: 57.53 - lr: 0.006250\n",
            "2022-11-29 14:49:41,996 epoch 49 - iter 18/25 - loss 0.19915533 - samples/sec: 41.63 - lr: 0.006250\n",
            "2022-11-29 14:49:42,916 epoch 49 - iter 20/25 - loss 0.20119405 - samples/sec: 69.72 - lr: 0.006250\n",
            "2022-11-29 14:49:44,289 epoch 49 - iter 22/25 - loss 0.20055493 - samples/sec: 46.64 - lr: 0.006250\n",
            "2022-11-29 14:49:45,702 epoch 49 - iter 24/25 - loss 0.19817923 - samples/sec: 45.35 - lr: 0.006250\n",
            "2022-11-29 14:49:45,838 ----------------------------------------------------------------------------------------------------\n",
            "2022-11-29 14:49:45,838 EPOCH 49 done: loss 0.1978 - lr 0.006250\n"
          ]
        },
        {
          "name": "stderr",
          "output_type": "stream",
          "text": [
            "100%|██████████| 4/4 [00:00<00:00,  4.58it/s]"
          ]
        },
        {
          "name": "stdout",
          "output_type": "stream",
          "text": [
            "2022-11-29 14:49:46,715 Evaluating as a multi-label problem: False\n",
            "2022-11-29 14:49:46,724 DEV : loss 0.28210175037384033 - f1-score (micro avg)  0.7057\n",
            "2022-11-29 14:49:46,737 BAD EPOCHS (no improvement): 3\n",
            "2022-11-29 14:49:46,738 ----------------------------------------------------------------------------------------------------\n"
          ]
        },
        {
          "name": "stderr",
          "output_type": "stream",
          "text": [
            "\n"
          ]
        },
        {
          "name": "stdout",
          "output_type": "stream",
          "text": [
            "2022-11-29 14:49:47,653 epoch 50 - iter 2/25 - loss 0.20276021 - samples/sec: 70.07 - lr: 0.006250\n",
            "2022-11-29 14:49:48,982 epoch 50 - iter 4/25 - loss 0.17494021 - samples/sec: 48.18 - lr: 0.006250\n",
            "2022-11-29 14:49:49,974 epoch 50 - iter 6/25 - loss 0.19533167 - samples/sec: 64.61 - lr: 0.006250\n",
            "2022-11-29 14:49:51,226 epoch 50 - iter 8/25 - loss 0.19258865 - samples/sec: 51.19 - lr: 0.006250\n",
            "2022-11-29 14:49:52,744 epoch 50 - iter 10/25 - loss 0.20393112 - samples/sec: 42.19 - lr: 0.006250\n",
            "2022-11-29 14:49:54,016 epoch 50 - iter 12/25 - loss 0.20130930 - samples/sec: 50.36 - lr: 0.006250\n",
            "2022-11-29 14:49:57,154 epoch 50 - iter 14/25 - loss 0.19575397 - samples/sec: 20.41 - lr: 0.006250\n",
            "2022-11-29 14:49:58,244 epoch 50 - iter 16/25 - loss 0.19351383 - samples/sec: 58.77 - lr: 0.006250\n",
            "2022-11-29 14:49:59,479 epoch 50 - iter 18/25 - loss 0.19330744 - samples/sec: 51.87 - lr: 0.006250\n",
            "2022-11-29 14:50:00,609 epoch 50 - iter 20/25 - loss 0.19176143 - samples/sec: 56.68 - lr: 0.006250\n",
            "2022-11-29 14:50:01,549 epoch 50 - iter 22/25 - loss 0.19173933 - samples/sec: 68.18 - lr: 0.006250\n",
            "2022-11-29 14:50:02,638 epoch 50 - iter 24/25 - loss 0.19295758 - samples/sec: 58.82 - lr: 0.006250\n",
            "2022-11-29 14:50:02,739 ----------------------------------------------------------------------------------------------------\n",
            "2022-11-29 14:50:02,739 EPOCH 50 done: loss 0.1928 - lr 0.006250\n"
          ]
        },
        {
          "name": "stderr",
          "output_type": "stream",
          "text": [
            "100%|██████████| 4/4 [00:00<00:00,  6.78it/s]"
          ]
        },
        {
          "name": "stdout",
          "output_type": "stream",
          "text": [
            "2022-11-29 14:50:03,332 Evaluating as a multi-label problem: False\n"
          ]
        },
        {
          "name": "stderr",
          "output_type": "stream",
          "text": [
            "\n"
          ]
        },
        {
          "name": "stdout",
          "output_type": "stream",
          "text": [
            "2022-11-29 14:50:03,338 DEV : loss 0.2772569954395294 - f1-score (micro avg)  0.7079\n",
            "2022-11-29 14:50:03,347 Epoch    50: reducing learning rate of group 0 to 3.1250e-03.\n",
            "2022-11-29 14:50:03,347 BAD EPOCHS (no improvement): 4\n",
            "2022-11-29 14:50:03,348 ----------------------------------------------------------------------------------------------------\n",
            "2022-11-29 14:50:04,249 epoch 51 - iter 2/25 - loss 0.14985091 - samples/sec: 71.12 - lr: 0.003125\n",
            "2022-11-29 14:50:05,592 epoch 51 - iter 4/25 - loss 0.16325140 - samples/sec: 47.69 - lr: 0.003125\n",
            "2022-11-29 14:50:08,031 epoch 51 - iter 6/25 - loss 0.16952236 - samples/sec: 26.24 - lr: 0.003125\n",
            "2022-11-29 14:50:09,507 epoch 51 - iter 8/25 - loss 0.18323535 - samples/sec: 43.40 - lr: 0.003125\n",
            "2022-11-29 14:50:10,618 epoch 51 - iter 10/25 - loss 0.19406134 - samples/sec: 57.73 - lr: 0.003125\n",
            "2022-11-29 14:50:11,747 epoch 51 - iter 12/25 - loss 0.19896760 - samples/sec: 56.72 - lr: 0.003125\n",
            "2022-11-29 14:50:12,878 epoch 51 - iter 14/25 - loss 0.19630793 - samples/sec: 56.65 - lr: 0.003125\n",
            "2022-11-29 14:50:14,465 epoch 51 - iter 16/25 - loss 0.18999539 - samples/sec: 40.38 - lr: 0.003125\n",
            "2022-11-29 14:50:16,019 epoch 51 - iter 18/25 - loss 0.18866653 - samples/sec: 41.20 - lr: 0.003125\n",
            "2022-11-29 14:50:16,980 epoch 51 - iter 20/25 - loss 0.18709471 - samples/sec: 66.68 - lr: 0.003125\n",
            "2022-11-29 14:50:18,452 epoch 51 - iter 22/25 - loss 0.18968455 - samples/sec: 43.52 - lr: 0.003125\n",
            "2022-11-29 14:50:19,794 epoch 51 - iter 24/25 - loss 0.18968689 - samples/sec: 47.73 - lr: 0.003125\n",
            "2022-11-29 14:50:19,905 ----------------------------------------------------------------------------------------------------\n",
            "2022-11-29 14:50:19,906 EPOCH 51 done: loss 0.1894 - lr 0.003125\n"
          ]
        },
        {
          "name": "stderr",
          "output_type": "stream",
          "text": [
            "100%|██████████| 4/4 [00:00<00:00,  5.30it/s]"
          ]
        },
        {
          "name": "stdout",
          "output_type": "stream",
          "text": [
            "2022-11-29 14:50:20,666 Evaluating as a multi-label problem: False\n",
            "2022-11-29 14:50:20,673 DEV : loss 0.2749207019805908 - f1-score (micro avg)  0.7153\n",
            "2022-11-29 14:50:20,684 BAD EPOCHS (no improvement): 0\n",
            "2022-11-29 14:50:20,685 saving best model\n"
          ]
        },
        {
          "name": "stderr",
          "output_type": "stream",
          "text": [
            "\n"
          ]
        },
        {
          "name": "stdout",
          "output_type": "stream",
          "text": [
            "2022-11-29 14:50:21,361 ----------------------------------------------------------------------------------------------------\n",
            "2022-11-29 14:50:22,550 epoch 52 - iter 2/25 - loss 0.22208606 - samples/sec: 53.86 - lr: 0.003125\n",
            "2022-11-29 14:50:24,131 epoch 52 - iter 4/25 - loss 0.18433724 - samples/sec: 40.52 - lr: 0.003125\n",
            "2022-11-29 14:50:25,147 epoch 52 - iter 6/25 - loss 0.17989060 - samples/sec: 63.08 - lr: 0.003125\n",
            "2022-11-29 14:50:26,453 epoch 52 - iter 8/25 - loss 0.18447925 - samples/sec: 49.04 - lr: 0.003125\n",
            "2022-11-29 14:50:28,044 epoch 52 - iter 10/25 - loss 0.18794899 - samples/sec: 40.26 - lr: 0.003125\n",
            "2022-11-29 14:50:29,336 epoch 52 - iter 12/25 - loss 0.18446824 - samples/sec: 49.59 - lr: 0.003125\n",
            "2022-11-29 14:50:30,795 epoch 52 - iter 14/25 - loss 0.19081401 - samples/sec: 43.92 - lr: 0.003125\n",
            "2022-11-29 14:50:31,891 epoch 52 - iter 16/25 - loss 0.19381841 - samples/sec: 58.46 - lr: 0.003125\n",
            "2022-11-29 14:50:33,170 epoch 52 - iter 18/25 - loss 0.19791770 - samples/sec: 50.10 - lr: 0.003125\n",
            "2022-11-29 14:50:35,927 epoch 52 - iter 20/25 - loss 0.19433987 - samples/sec: 23.22 - lr: 0.003125\n",
            "2022-11-29 14:50:36,863 epoch 52 - iter 22/25 - loss 0.19500872 - samples/sec: 68.41 - lr: 0.003125\n",
            "2022-11-29 14:50:38,528 epoch 52 - iter 24/25 - loss 0.19815029 - samples/sec: 38.49 - lr: 0.003125\n",
            "2022-11-29 14:50:38,640 ----------------------------------------------------------------------------------------------------\n",
            "2022-11-29 14:50:38,641 EPOCH 52 done: loss 0.1981 - lr 0.003125\n"
          ]
        },
        {
          "name": "stderr",
          "output_type": "stream",
          "text": [
            "100%|██████████| 4/4 [00:00<00:00,  5.27it/s]"
          ]
        },
        {
          "name": "stdout",
          "output_type": "stream",
          "text": [
            "2022-11-29 14:50:39,405 Evaluating as a multi-label problem: False\n",
            "2022-11-29 14:50:39,413 DEV : loss 0.279236376285553 - f1-score (micro avg)  0.709\n",
            "2022-11-29 14:50:39,430 BAD EPOCHS (no improvement): 1\n",
            "2022-11-29 14:50:39,431 ----------------------------------------------------------------------------------------------------\n"
          ]
        },
        {
          "name": "stderr",
          "output_type": "stream",
          "text": [
            "\n"
          ]
        },
        {
          "name": "stdout",
          "output_type": "stream",
          "text": [
            "2022-11-29 14:50:40,482 epoch 53 - iter 2/25 - loss 0.19234330 - samples/sec: 60.98 - lr: 0.003125\n",
            "2022-11-29 14:50:41,904 epoch 53 - iter 4/25 - loss 0.17660381 - samples/sec: 45.07 - lr: 0.003125\n",
            "2022-11-29 14:50:43,125 epoch 53 - iter 6/25 - loss 0.17096707 - samples/sec: 52.48 - lr: 0.003125\n",
            "2022-11-29 14:50:44,053 epoch 53 - iter 8/25 - loss 0.17922188 - samples/sec: 69.02 - lr: 0.003125\n",
            "2022-11-29 14:50:45,498 epoch 53 - iter 10/25 - loss 0.18916532 - samples/sec: 44.33 - lr: 0.003125\n",
            "2022-11-29 14:50:47,143 epoch 53 - iter 12/25 - loss 0.19051547 - samples/sec: 38.94 - lr: 0.003125\n",
            "2022-11-29 14:50:48,872 epoch 53 - iter 14/25 - loss 0.19037456 - samples/sec: 37.05 - lr: 0.003125\n",
            "2022-11-29 14:50:50,099 epoch 53 - iter 16/25 - loss 0.18847020 - samples/sec: 52.19 - lr: 0.003125\n",
            "2022-11-29 14:50:51,317 epoch 53 - iter 18/25 - loss 0.18590198 - samples/sec: 52.59 - lr: 0.003125\n",
            "2022-11-29 14:50:52,611 epoch 53 - iter 20/25 - loss 0.18729194 - samples/sec: 49.53 - lr: 0.003125\n",
            "2022-11-29 14:50:55,592 epoch 53 - iter 22/25 - loss 0.18662430 - samples/sec: 21.48 - lr: 0.003125\n",
            "2022-11-29 14:50:56,885 epoch 53 - iter 24/25 - loss 0.18751067 - samples/sec: 49.54 - lr: 0.003125\n",
            "2022-11-29 14:50:56,997 ----------------------------------------------------------------------------------------------------\n",
            "2022-11-29 14:50:56,998 EPOCH 53 done: loss 0.1872 - lr 0.003125\n"
          ]
        },
        {
          "name": "stderr",
          "output_type": "stream",
          "text": [
            "100%|██████████| 4/4 [00:00<00:00,  5.56it/s]"
          ]
        },
        {
          "name": "stdout",
          "output_type": "stream",
          "text": [
            "2022-11-29 14:50:57,721 Evaluating as a multi-label problem: False\n",
            "2022-11-29 14:50:57,729 DEV : loss 0.2786193788051605 - f1-score (micro avg)  0.708\n",
            "2022-11-29 14:50:57,740 BAD EPOCHS (no improvement): 2\n",
            "2022-11-29 14:50:57,741 ----------------------------------------------------------------------------------------------------\n"
          ]
        },
        {
          "name": "stderr",
          "output_type": "stream",
          "text": [
            "\n"
          ]
        },
        {
          "name": "stdout",
          "output_type": "stream",
          "text": [
            "2022-11-29 14:50:58,680 epoch 54 - iter 2/25 - loss 0.20256729 - samples/sec: 68.27 - lr: 0.003125\n",
            "2022-11-29 14:50:59,971 epoch 54 - iter 4/25 - loss 0.21901408 - samples/sec: 49.64 - lr: 0.003125\n",
            "2022-11-29 14:51:01,097 epoch 54 - iter 6/25 - loss 0.21813035 - samples/sec: 56.86 - lr: 0.003125\n",
            "2022-11-29 14:51:02,382 epoch 54 - iter 8/25 - loss 0.21146973 - samples/sec: 49.88 - lr: 0.003125\n",
            "2022-11-29 14:51:03,449 epoch 54 - iter 10/25 - loss 0.20038466 - samples/sec: 60.03 - lr: 0.003125\n",
            "2022-11-29 14:51:04,670 epoch 54 - iter 12/25 - loss 0.19819898 - samples/sec: 52.49 - lr: 0.003125\n",
            "2022-11-29 14:51:07,810 epoch 54 - iter 14/25 - loss 0.19344721 - samples/sec: 20.39 - lr: 0.003125\n",
            "2022-11-29 14:51:09,059 epoch 54 - iter 16/25 - loss 0.19468759 - samples/sec: 51.28 - lr: 0.003125\n",
            "2022-11-29 14:51:10,045 epoch 54 - iter 18/25 - loss 0.19249136 - samples/sec: 65.02 - lr: 0.003125\n",
            "2022-11-29 14:51:11,431 epoch 54 - iter 20/25 - loss 0.18993500 - samples/sec: 46.21 - lr: 0.003125\n",
            "2022-11-29 14:51:12,636 epoch 54 - iter 22/25 - loss 0.19338819 - samples/sec: 53.18 - lr: 0.003125\n",
            "2022-11-29 14:51:14,223 epoch 54 - iter 24/25 - loss 0.19020556 - samples/sec: 40.36 - lr: 0.003125\n",
            "2022-11-29 14:51:14,324 ----------------------------------------------------------------------------------------------------\n",
            "2022-11-29 14:51:14,325 EPOCH 54 done: loss 0.1899 - lr 0.003125\n"
          ]
        },
        {
          "name": "stderr",
          "output_type": "stream",
          "text": [
            "100%|██████████| 4/4 [00:00<00:00,  5.58it/s]"
          ]
        },
        {
          "name": "stdout",
          "output_type": "stream",
          "text": [
            "2022-11-29 14:51:15,046 Evaluating as a multi-label problem: False\n",
            "2022-11-29 14:51:15,054 DEV : loss 0.27725186944007874 - f1-score (micro avg)  0.7092\n",
            "2022-11-29 14:51:15,069 BAD EPOCHS (no improvement): 3\n",
            "2022-11-29 14:51:15,070 ----------------------------------------------------------------------------------------------------\n"
          ]
        },
        {
          "name": "stderr",
          "output_type": "stream",
          "text": [
            "\n"
          ]
        },
        {
          "name": "stdout",
          "output_type": "stream",
          "text": [
            "2022-11-29 14:51:16,098 epoch 55 - iter 2/25 - loss 0.20126130 - samples/sec: 62.36 - lr: 0.003125\n",
            "2022-11-29 14:51:17,767 epoch 55 - iter 4/25 - loss 0.20787150 - samples/sec: 38.36 - lr: 0.003125\n",
            "2022-11-29 14:51:19,154 epoch 55 - iter 6/25 - loss 0.21783345 - samples/sec: 46.18 - lr: 0.003125\n",
            "2022-11-29 14:51:20,573 epoch 55 - iter 8/25 - loss 0.20095074 - samples/sec: 45.16 - lr: 0.003125\n",
            "2022-11-29 14:51:21,777 epoch 55 - iter 10/25 - loss 0.19639490 - samples/sec: 53.21 - lr: 0.003125\n",
            "2022-11-29 14:51:22,797 epoch 55 - iter 12/25 - loss 0.19525130 - samples/sec: 62.83 - lr: 0.003125\n",
            "2022-11-29 14:51:23,810 epoch 55 - iter 14/25 - loss 0.19326573 - samples/sec: 63.22 - lr: 0.003125\n",
            "2022-11-29 14:51:24,667 epoch 55 - iter 16/25 - loss 0.18868561 - samples/sec: 74.86 - lr: 0.003125\n",
            "2022-11-29 14:51:25,837 epoch 55 - iter 18/25 - loss 0.19077403 - samples/sec: 54.73 - lr: 0.003125\n",
            "2022-11-29 14:51:28,667 epoch 55 - iter 20/25 - loss 0.18742977 - samples/sec: 22.63 - lr: 0.003125\n",
            "2022-11-29 14:51:29,867 epoch 55 - iter 22/25 - loss 0.18729619 - samples/sec: 53.37 - lr: 0.003125\n",
            "2022-11-29 14:51:31,445 epoch 55 - iter 24/25 - loss 0.18981500 - samples/sec: 40.61 - lr: 0.003125\n",
            "2022-11-29 14:51:31,538 ----------------------------------------------------------------------------------------------------\n",
            "2022-11-29 14:51:31,539 EPOCH 55 done: loss 0.1899 - lr 0.003125\n"
          ]
        },
        {
          "name": "stderr",
          "output_type": "stream",
          "text": [
            "100%|██████████| 4/4 [00:00<00:00,  5.54it/s]"
          ]
        },
        {
          "name": "stdout",
          "output_type": "stream",
          "text": [
            "2022-11-29 14:51:32,265 Evaluating as a multi-label problem: False\n",
            "2022-11-29 14:51:32,273 DEV : loss 0.27417632937431335 - f1-score (micro avg)  0.7059\n",
            "2022-11-29 14:51:32,284 Epoch    55: reducing learning rate of group 0 to 1.5625e-03.\n",
            "2022-11-29 14:51:32,285 BAD EPOCHS (no improvement): 4\n",
            "2022-11-29 14:51:32,285 ----------------------------------------------------------------------------------------------------\n"
          ]
        },
        {
          "name": "stderr",
          "output_type": "stream",
          "text": [
            "\n"
          ]
        },
        {
          "name": "stdout",
          "output_type": "stream",
          "text": [
            "2022-11-29 14:51:33,866 epoch 56 - iter 2/25 - loss 0.17861340 - samples/sec: 40.50 - lr: 0.001563\n",
            "2022-11-29 14:51:34,986 epoch 56 - iter 4/25 - loss 0.19060332 - samples/sec: 57.23 - lr: 0.001563\n",
            "2022-11-29 14:51:38,015 epoch 56 - iter 6/25 - loss 0.19134445 - samples/sec: 21.14 - lr: 0.001563\n",
            "2022-11-29 14:51:39,682 epoch 56 - iter 8/25 - loss 0.19654892 - samples/sec: 38.43 - lr: 0.001563\n",
            "2022-11-29 14:51:41,037 epoch 56 - iter 10/25 - loss 0.20029598 - samples/sec: 47.28 - lr: 0.001563\n",
            "2022-11-29 14:51:42,369 epoch 56 - iter 12/25 - loss 0.19601127 - samples/sec: 48.09 - lr: 0.001563\n",
            "2022-11-29 14:51:43,312 epoch 56 - iter 14/25 - loss 0.19298300 - samples/sec: 67.95 - lr: 0.001563\n",
            "2022-11-29 14:51:44,471 epoch 56 - iter 16/25 - loss 0.19339786 - samples/sec: 55.27 - lr: 0.001563\n",
            "2022-11-29 14:51:45,357 epoch 56 - iter 18/25 - loss 0.19427814 - samples/sec: 72.36 - lr: 0.001563\n",
            "2022-11-29 14:51:46,482 epoch 56 - iter 20/25 - loss 0.19242141 - samples/sec: 56.94 - lr: 0.001563\n",
            "2022-11-29 14:51:47,460 epoch 56 - iter 22/25 - loss 0.19128715 - samples/sec: 65.58 - lr: 0.001563\n",
            "2022-11-29 14:51:48,719 epoch 56 - iter 24/25 - loss 0.18975214 - samples/sec: 50.88 - lr: 0.001563\n",
            "2022-11-29 14:51:48,849 ----------------------------------------------------------------------------------------------------\n",
            "2022-11-29 14:51:48,850 EPOCH 56 done: loss 0.1904 - lr 0.001563\n"
          ]
        },
        {
          "name": "stderr",
          "output_type": "stream",
          "text": [
            "100%|██████████| 4/4 [00:00<00:00,  5.58it/s]"
          ]
        },
        {
          "name": "stdout",
          "output_type": "stream",
          "text": [
            "2022-11-29 14:51:49,571 Evaluating as a multi-label problem: False\n",
            "2022-11-29 14:51:49,579 DEV : loss 0.2760467529296875 - f1-score (micro avg)  0.7116\n",
            "2022-11-29 14:51:49,592 BAD EPOCHS (no improvement): 1\n",
            "2022-11-29 14:51:49,593 ----------------------------------------------------------------------------------------------------\n"
          ]
        },
        {
          "name": "stderr",
          "output_type": "stream",
          "text": [
            "\n"
          ]
        },
        {
          "name": "stdout",
          "output_type": "stream",
          "text": [
            "2022-11-29 14:51:50,874 epoch 57 - iter 2/25 - loss 0.16483140 - samples/sec: 50.03 - lr: 0.001563\n",
            "2022-11-29 14:51:52,126 epoch 57 - iter 4/25 - loss 0.16946558 - samples/sec: 51.19 - lr: 0.001563\n",
            "2022-11-29 14:51:53,188 epoch 57 - iter 6/25 - loss 0.17515031 - samples/sec: 60.33 - lr: 0.001563\n",
            "2022-11-29 14:51:54,309 epoch 57 - iter 8/25 - loss 0.18152790 - samples/sec: 57.12 - lr: 0.001563\n",
            "2022-11-29 14:51:57,455 epoch 57 - iter 10/25 - loss 0.18870747 - samples/sec: 20.35 - lr: 0.001563\n",
            "2022-11-29 14:51:58,580 epoch 57 - iter 12/25 - loss 0.18243056 - samples/sec: 56.97 - lr: 0.001563\n",
            "2022-11-29 14:51:59,969 epoch 57 - iter 14/25 - loss 0.18069228 - samples/sec: 46.12 - lr: 0.001563\n",
            "2022-11-29 14:52:01,567 epoch 57 - iter 16/25 - loss 0.18291931 - samples/sec: 40.09 - lr: 0.001563\n",
            "2022-11-29 14:52:02,812 epoch 57 - iter 18/25 - loss 0.18307829 - samples/sec: 51.45 - lr: 0.001563\n",
            "2022-11-29 14:52:03,949 epoch 57 - iter 20/25 - loss 0.18651790 - samples/sec: 56.35 - lr: 0.001563\n",
            "2022-11-29 14:52:05,183 epoch 57 - iter 22/25 - loss 0.18500354 - samples/sec: 51.93 - lr: 0.001563\n",
            "2022-11-29 14:52:06,568 epoch 57 - iter 24/25 - loss 0.18641013 - samples/sec: 46.26 - lr: 0.001563\n",
            "2022-11-29 14:52:06,682 ----------------------------------------------------------------------------------------------------\n",
            "2022-11-29 14:52:06,683 EPOCH 57 done: loss 0.1858 - lr 0.001563\n"
          ]
        },
        {
          "name": "stderr",
          "output_type": "stream",
          "text": [
            "100%|██████████| 4/4 [00:00<00:00,  5.58it/s]"
          ]
        },
        {
          "name": "stdout",
          "output_type": "stream",
          "text": [
            "2022-11-29 14:52:07,404 Evaluating as a multi-label problem: False\n",
            "2022-11-29 14:52:07,414 DEV : loss 0.2757022976875305 - f1-score (micro avg)  0.7145\n",
            "2022-11-29 14:52:07,425 BAD EPOCHS (no improvement): 2\n",
            "2022-11-29 14:52:07,426 ----------------------------------------------------------------------------------------------------\n"
          ]
        },
        {
          "name": "stderr",
          "output_type": "stream",
          "text": [
            "\n"
          ]
        },
        {
          "name": "stdout",
          "output_type": "stream",
          "text": [
            "2022-11-29 14:52:08,580 epoch 58 - iter 2/25 - loss 0.20813607 - samples/sec: 55.50 - lr: 0.001563\n",
            "2022-11-29 14:52:10,082 epoch 58 - iter 4/25 - loss 0.19185957 - samples/sec: 42.65 - lr: 0.001563\n",
            "2022-11-29 14:52:11,488 epoch 58 - iter 6/25 - loss 0.19536877 - samples/sec: 45.58 - lr: 0.001563\n",
            "2022-11-29 14:52:12,706 epoch 58 - iter 8/25 - loss 0.18867865 - samples/sec: 52.58 - lr: 0.001563\n",
            "2022-11-29 14:52:13,915 epoch 58 - iter 10/25 - loss 0.18734437 - samples/sec: 52.99 - lr: 0.001563\n",
            "2022-11-29 14:52:15,466 epoch 58 - iter 12/25 - loss 0.18243912 - samples/sec: 41.32 - lr: 0.001563\n",
            "2022-11-29 14:52:16,530 epoch 58 - iter 14/25 - loss 0.19120268 - samples/sec: 60.17 - lr: 0.001563\n",
            "2022-11-29 14:52:19,289 epoch 58 - iter 16/25 - loss 0.19064877 - samples/sec: 23.21 - lr: 0.001563\n",
            "2022-11-29 14:52:20,471 epoch 58 - iter 18/25 - loss 0.19058274 - samples/sec: 54.20 - lr: 0.001563\n",
            "2022-11-29 14:52:21,903 epoch 58 - iter 20/25 - loss 0.19269806 - samples/sec: 44.76 - lr: 0.001563\n",
            "2022-11-29 14:52:23,292 epoch 58 - iter 22/25 - loss 0.19020455 - samples/sec: 46.12 - lr: 0.001563\n",
            "2022-11-29 14:52:24,641 epoch 58 - iter 24/25 - loss 0.18918964 - samples/sec: 47.49 - lr: 0.001563\n",
            "2022-11-29 14:52:24,760 ----------------------------------------------------------------------------------------------------\n",
            "2022-11-29 14:52:24,761 EPOCH 58 done: loss 0.1887 - lr 0.001563\n"
          ]
        },
        {
          "name": "stderr",
          "output_type": "stream",
          "text": [
            "100%|██████████| 4/4 [00:00<00:00,  6.54it/s]"
          ]
        },
        {
          "name": "stdout",
          "output_type": "stream",
          "text": [
            "2022-11-29 14:52:25,376 Evaluating as a multi-label problem: False\n",
            "2022-11-29 14:52:25,384 DEV : loss 0.27811911702156067 - f1-score (micro avg)  0.7074\n",
            "2022-11-29 14:52:25,396 BAD EPOCHS (no improvement): 3\n",
            "2022-11-29 14:52:25,397 ----------------------------------------------------------------------------------------------------\n"
          ]
        },
        {
          "name": "stderr",
          "output_type": "stream",
          "text": [
            "\n"
          ]
        },
        {
          "name": "stdout",
          "output_type": "stream",
          "text": [
            "2022-11-29 14:52:26,652 epoch 59 - iter 2/25 - loss 0.23638046 - samples/sec: 51.03 - lr: 0.001563\n",
            "2022-11-29 14:52:27,553 epoch 59 - iter 4/25 - loss 0.23741395 - samples/sec: 71.17 - lr: 0.001563\n",
            "2022-11-29 14:52:28,694 epoch 59 - iter 6/25 - loss 0.22466693 - samples/sec: 56.15 - lr: 0.001563\n",
            "2022-11-29 14:52:30,009 epoch 59 - iter 8/25 - loss 0.21811146 - samples/sec: 48.70 - lr: 0.001563\n",
            "2022-11-29 14:52:31,062 epoch 59 - iter 10/25 - loss 0.20428870 - samples/sec: 60.88 - lr: 0.001563\n",
            "2022-11-29 14:52:31,790 epoch 59 - iter 12/25 - loss 0.20339236 - samples/sec: 88.01 - lr: 0.001563\n",
            "2022-11-29 14:52:33,193 epoch 59 - iter 14/25 - loss 0.20447006 - samples/sec: 45.65 - lr: 0.001563\n",
            "2022-11-29 14:52:34,553 epoch 59 - iter 16/25 - loss 0.21033640 - samples/sec: 47.08 - lr: 0.001563\n",
            "2022-11-29 14:52:35,881 epoch 59 - iter 18/25 - loss 0.20332167 - samples/sec: 48.26 - lr: 0.001563\n",
            "2022-11-29 14:52:37,234 epoch 59 - iter 20/25 - loss 0.19843398 - samples/sec: 47.34 - lr: 0.001563\n",
            "2022-11-29 14:52:38,576 epoch 59 - iter 22/25 - loss 0.19639770 - samples/sec: 47.71 - lr: 0.001563\n",
            "2022-11-29 14:52:41,157 epoch 59 - iter 24/25 - loss 0.19385323 - samples/sec: 24.81 - lr: 0.001563\n",
            "2022-11-29 14:52:41,249 ----------------------------------------------------------------------------------------------------\n",
            "2022-11-29 14:52:41,250 EPOCH 59 done: loss 0.1937 - lr 0.001563\n"
          ]
        },
        {
          "name": "stderr",
          "output_type": "stream",
          "text": [
            "100%|██████████| 4/4 [00:00<00:00,  6.08it/s]"
          ]
        },
        {
          "name": "stdout",
          "output_type": "stream",
          "text": [
            "2022-11-29 14:52:41,911 Evaluating as a multi-label problem: False\n",
            "2022-11-29 14:52:41,918 DEV : loss 0.2799461781978607 - f1-score (micro avg)  0.709\n",
            "2022-11-29 14:52:41,928 Epoch    59: reducing learning rate of group 0 to 7.8125e-04.\n",
            "2022-11-29 14:52:41,929 BAD EPOCHS (no improvement): 4\n",
            "2022-11-29 14:52:41,929 ----------------------------------------------------------------------------------------------------\n"
          ]
        },
        {
          "name": "stderr",
          "output_type": "stream",
          "text": [
            "\n"
          ]
        },
        {
          "name": "stdout",
          "output_type": "stream",
          "text": [
            "2022-11-29 14:52:43,104 epoch 60 - iter 2/25 - loss 0.20268625 - samples/sec: 54.51 - lr: 0.000781\n",
            "2022-11-29 14:52:44,229 epoch 60 - iter 4/25 - loss 0.18375656 - samples/sec: 56.94 - lr: 0.000781\n",
            "2022-11-29 14:52:47,064 epoch 60 - iter 6/25 - loss 0.18988627 - samples/sec: 22.59 - lr: 0.000781\n",
            "2022-11-29 14:52:49,153 epoch 60 - iter 8/25 - loss 0.19105071 - samples/sec: 30.66 - lr: 0.000781\n",
            "2022-11-29 14:52:50,788 epoch 60 - iter 10/25 - loss 0.18285884 - samples/sec: 39.17 - lr: 0.000781\n",
            "2022-11-29 14:52:51,908 epoch 60 - iter 12/25 - loss 0.18843667 - samples/sec: 57.21 - lr: 0.000781\n",
            "2022-11-29 14:52:53,282 epoch 60 - iter 14/25 - loss 0.19259112 - samples/sec: 46.62 - lr: 0.000781\n",
            "2022-11-29 14:52:54,613 epoch 60 - iter 16/25 - loss 0.19052571 - samples/sec: 48.17 - lr: 0.000781\n",
            "2022-11-29 14:52:55,566 epoch 60 - iter 18/25 - loss 0.18791972 - samples/sec: 67.22 - lr: 0.000781\n",
            "2022-11-29 14:52:57,018 epoch 60 - iter 20/25 - loss 0.18716769 - samples/sec: 44.13 - lr: 0.000781\n",
            "2022-11-29 14:52:58,040 epoch 60 - iter 22/25 - loss 0.18452793 - samples/sec: 62.72 - lr: 0.000781\n",
            "2022-11-29 14:52:59,608 epoch 60 - iter 24/25 - loss 0.18345497 - samples/sec: 40.83 - lr: 0.000781\n",
            "2022-11-29 14:52:59,736 ----------------------------------------------------------------------------------------------------\n",
            "2022-11-29 14:52:59,737 EPOCH 60 done: loss 0.1835 - lr 0.000781\n"
          ]
        },
        {
          "name": "stderr",
          "output_type": "stream",
          "text": [
            "100%|██████████| 4/4 [00:00<00:00,  5.46it/s]"
          ]
        },
        {
          "name": "stdout",
          "output_type": "stream",
          "text": [
            "2022-11-29 14:53:00,473 Evaluating as a multi-label problem: False\n",
            "2022-11-29 14:53:00,482 DEV : loss 0.27929309010505676 - f1-score (micro avg)  0.7121\n",
            "2022-11-29 14:53:00,493 BAD EPOCHS (no improvement): 1\n",
            "2022-11-29 14:53:00,494 ----------------------------------------------------------------------------------------------------\n"
          ]
        },
        {
          "name": "stderr",
          "output_type": "stream",
          "text": [
            "\n"
          ]
        },
        {
          "name": "stdout",
          "output_type": "stream",
          "text": [
            "2022-11-29 14:53:02,033 epoch 61 - iter 2/25 - loss 0.22398362 - samples/sec: 41.63 - lr: 0.000781\n",
            "2022-11-29 14:53:03,220 epoch 61 - iter 4/25 - loss 0.19911256 - samples/sec: 53.97 - lr: 0.000781\n",
            "2022-11-29 14:53:04,439 epoch 61 - iter 6/25 - loss 0.18931606 - samples/sec: 52.57 - lr: 0.000781\n",
            "2022-11-29 14:53:06,013 epoch 61 - iter 8/25 - loss 0.18271840 - samples/sec: 40.71 - lr: 0.000781\n",
            "2022-11-29 14:53:07,288 epoch 61 - iter 10/25 - loss 0.18332191 - samples/sec: 50.23 - lr: 0.000781\n",
            "2022-11-29 14:53:08,248 epoch 61 - iter 12/25 - loss 0.18367421 - samples/sec: 66.78 - lr: 0.000781\n",
            "2022-11-29 14:53:09,465 epoch 61 - iter 14/25 - loss 0.17565636 - samples/sec: 52.65 - lr: 0.000781\n",
            "2022-11-29 14:53:10,527 epoch 61 - iter 16/25 - loss 0.18014655 - samples/sec: 60.33 - lr: 0.000781\n",
            "2022-11-29 14:53:11,929 epoch 61 - iter 18/25 - loss 0.18397831 - samples/sec: 45.70 - lr: 0.000781\n",
            "2022-11-29 14:53:13,137 epoch 61 - iter 20/25 - loss 0.18652726 - samples/sec: 53.05 - lr: 0.000781\n",
            "2022-11-29 14:53:16,059 epoch 61 - iter 22/25 - loss 0.18446416 - samples/sec: 21.91 - lr: 0.000781\n",
            "2022-11-29 14:53:17,729 epoch 61 - iter 24/25 - loss 0.18170748 - samples/sec: 38.35 - lr: 0.000781\n",
            "2022-11-29 14:53:17,873 ----------------------------------------------------------------------------------------------------\n",
            "2022-11-29 14:53:17,874 EPOCH 61 done: loss 0.1813 - lr 0.000781\n"
          ]
        },
        {
          "name": "stderr",
          "output_type": "stream",
          "text": [
            "100%|██████████| 4/4 [00:00<00:00,  5.49it/s]"
          ]
        },
        {
          "name": "stdout",
          "output_type": "stream",
          "text": [
            "2022-11-29 14:53:18,607 Evaluating as a multi-label problem: False\n",
            "2022-11-29 14:53:18,615 DEV : loss 0.2785537838935852 - f1-score (micro avg)  0.7121\n",
            "2022-11-29 14:53:18,627 BAD EPOCHS (no improvement): 2\n",
            "2022-11-29 14:53:18,628 ----------------------------------------------------------------------------------------------------\n"
          ]
        },
        {
          "name": "stderr",
          "output_type": "stream",
          "text": [
            "\n"
          ]
        },
        {
          "name": "stdout",
          "output_type": "stream",
          "text": [
            "2022-11-29 14:53:20,245 epoch 62 - iter 2/25 - loss 0.22825842 - samples/sec: 39.60 - lr: 0.000781\n",
            "2022-11-29 14:53:21,505 epoch 62 - iter 4/25 - loss 0.19993410 - samples/sec: 50.85 - lr: 0.000781\n",
            "2022-11-29 14:53:23,061 epoch 62 - iter 6/25 - loss 0.19613366 - samples/sec: 41.19 - lr: 0.000781\n",
            "2022-11-29 14:53:24,277 epoch 62 - iter 8/25 - loss 0.19917049 - samples/sec: 52.68 - lr: 0.000781\n",
            "2022-11-29 14:53:25,455 epoch 62 - iter 10/25 - loss 0.19133768 - samples/sec: 54.40 - lr: 0.000781\n",
            "2022-11-29 14:53:26,449 epoch 62 - iter 12/25 - loss 0.19508831 - samples/sec: 64.43 - lr: 0.000781\n",
            "2022-11-29 14:53:27,941 epoch 62 - iter 14/25 - loss 0.19094768 - samples/sec: 42.95 - lr: 0.000781\n",
            "2022-11-29 14:53:29,584 epoch 62 - iter 16/25 - loss 0.18947992 - samples/sec: 39.00 - lr: 0.000781\n",
            "2022-11-29 14:53:33,093 epoch 62 - iter 18/25 - loss 0.18597954 - samples/sec: 18.24 - lr: 0.000781\n",
            "2022-11-29 14:53:34,367 epoch 62 - iter 20/25 - loss 0.18269367 - samples/sec: 50.31 - lr: 0.000781\n",
            "2022-11-29 14:53:35,392 epoch 62 - iter 22/25 - loss 0.18383504 - samples/sec: 62.53 - lr: 0.000781\n",
            "2022-11-29 14:53:36,660 epoch 62 - iter 24/25 - loss 0.18431400 - samples/sec: 50.53 - lr: 0.000781\n",
            "2022-11-29 14:53:36,793 ----------------------------------------------------------------------------------------------------\n",
            "2022-11-29 14:53:36,794 EPOCH 62 done: loss 0.1844 - lr 0.000781\n"
          ]
        },
        {
          "name": "stderr",
          "output_type": "stream",
          "text": [
            "100%|██████████| 4/4 [00:00<00:00,  5.55it/s]"
          ]
        },
        {
          "name": "stdout",
          "output_type": "stream",
          "text": [
            "2022-11-29 14:53:37,519 Evaluating as a multi-label problem: False\n",
            "2022-11-29 14:53:37,527 DEV : loss 0.2779005467891693 - f1-score (micro avg)  0.7161\n",
            "2022-11-29 14:53:37,539 BAD EPOCHS (no improvement): 0\n",
            "2022-11-29 14:53:37,540 saving best model\n"
          ]
        },
        {
          "name": "stderr",
          "output_type": "stream",
          "text": [
            "\n"
          ]
        },
        {
          "name": "stdout",
          "output_type": "stream",
          "text": [
            "2022-11-29 14:53:38,244 ----------------------------------------------------------------------------------------------------\n",
            "2022-11-29 14:53:39,563 epoch 63 - iter 2/25 - loss 0.13009475 - samples/sec: 48.59 - lr: 0.000781\n",
            "2022-11-29 14:53:41,145 epoch 63 - iter 4/25 - loss 0.17144084 - samples/sec: 40.49 - lr: 0.000781\n",
            "2022-11-29 14:53:44,280 epoch 63 - iter 6/25 - loss 0.16950991 - samples/sec: 20.42 - lr: 0.000781\n",
            "2022-11-29 14:53:46,093 epoch 63 - iter 8/25 - loss 0.16936721 - samples/sec: 35.33 - lr: 0.000781\n",
            "2022-11-29 14:53:47,338 epoch 63 - iter 10/25 - loss 0.17556068 - samples/sec: 51.45 - lr: 0.000781\n",
            "2022-11-29 14:53:48,441 epoch 63 - iter 12/25 - loss 0.18008671 - samples/sec: 58.08 - lr: 0.000781\n",
            "2022-11-29 14:53:49,336 epoch 63 - iter 14/25 - loss 0.18065505 - samples/sec: 71.67 - lr: 0.000781\n",
            "2022-11-29 14:53:50,612 epoch 63 - iter 16/25 - loss 0.18105627 - samples/sec: 50.19 - lr: 0.000781\n",
            "2022-11-29 14:53:51,769 epoch 63 - iter 18/25 - loss 0.18088088 - samples/sec: 55.38 - lr: 0.000781\n",
            "2022-11-29 14:53:52,886 epoch 63 - iter 20/25 - loss 0.17874490 - samples/sec: 57.37 - lr: 0.000781\n",
            "2022-11-29 14:53:54,368 epoch 63 - iter 22/25 - loss 0.18156196 - samples/sec: 43.24 - lr: 0.000781\n",
            "2022-11-29 14:53:55,475 epoch 63 - iter 24/25 - loss 0.18534690 - samples/sec: 57.86 - lr: 0.000781\n",
            "2022-11-29 14:53:55,641 ----------------------------------------------------------------------------------------------------\n",
            "2022-11-29 14:53:55,642 EPOCH 63 done: loss 0.1857 - lr 0.000781\n"
          ]
        },
        {
          "name": "stderr",
          "output_type": "stream",
          "text": [
            "100%|██████████| 4/4 [00:00<00:00,  5.29it/s]"
          ]
        },
        {
          "name": "stdout",
          "output_type": "stream",
          "text": [
            "2022-11-29 14:53:56,402 Evaluating as a multi-label problem: False\n",
            "2022-11-29 14:53:56,410 DEV : loss 0.2772482931613922 - f1-score (micro avg)  0.7141\n",
            "2022-11-29 14:53:56,421 BAD EPOCHS (no improvement): 1\n",
            "2022-11-29 14:53:56,422 ----------------------------------------------------------------------------------------------------\n"
          ]
        },
        {
          "name": "stderr",
          "output_type": "stream",
          "text": [
            "\n"
          ]
        },
        {
          "name": "stdout",
          "output_type": "stream",
          "text": [
            "2022-11-29 14:53:57,323 epoch 64 - iter 2/25 - loss 0.13422224 - samples/sec: 71.15 - lr: 0.000781\n",
            "2022-11-29 14:53:58,911 epoch 64 - iter 4/25 - loss 0.17698701 - samples/sec: 40.34 - lr: 0.000781\n",
            "2022-11-29 14:54:00,617 epoch 64 - iter 6/25 - loss 0.17961961 - samples/sec: 37.55 - lr: 0.000781\n",
            "2022-11-29 14:54:03,356 epoch 64 - iter 8/25 - loss 0.18517185 - samples/sec: 23.38 - lr: 0.000781\n",
            "2022-11-29 14:54:04,422 epoch 64 - iter 10/25 - loss 0.19082867 - samples/sec: 60.08 - lr: 0.000781\n",
            "2022-11-29 14:54:05,767 epoch 64 - iter 12/25 - loss 0.18880998 - samples/sec: 47.66 - lr: 0.000781\n",
            "2022-11-29 14:54:07,051 epoch 64 - iter 14/25 - loss 0.18958154 - samples/sec: 49.89 - lr: 0.000781\n",
            "2022-11-29 14:54:08,553 epoch 64 - iter 16/25 - loss 0.18738812 - samples/sec: 42.64 - lr: 0.000781\n",
            "2022-11-29 14:54:09,535 epoch 64 - iter 18/25 - loss 0.18544318 - samples/sec: 65.22 - lr: 0.000781\n",
            "2022-11-29 14:54:10,699 epoch 64 - iter 20/25 - loss 0.18502200 - samples/sec: 55.07 - lr: 0.000781\n",
            "2022-11-29 14:54:12,072 epoch 64 - iter 22/25 - loss 0.18793742 - samples/sec: 46.65 - lr: 0.000781\n",
            "2022-11-29 14:54:13,177 epoch 64 - iter 24/25 - loss 0.18996193 - samples/sec: 57.98 - lr: 0.000781\n",
            "2022-11-29 14:54:13,313 ----------------------------------------------------------------------------------------------------\n",
            "2022-11-29 14:54:13,314 EPOCH 64 done: loss 0.1895 - lr 0.000781\n"
          ]
        },
        {
          "name": "stderr",
          "output_type": "stream",
          "text": [
            "100%|██████████| 4/4 [00:00<00:00,  5.35it/s]"
          ]
        },
        {
          "name": "stdout",
          "output_type": "stream",
          "text": [
            "2022-11-29 14:54:14,065 Evaluating as a multi-label problem: False\n",
            "2022-11-29 14:54:14,075 DEV : loss 0.27744975686073303 - f1-score (micro avg)  0.7151\n",
            "2022-11-29 14:54:14,086 BAD EPOCHS (no improvement): 2\n",
            "2022-11-29 14:54:14,087 ----------------------------------------------------------------------------------------------------\n"
          ]
        },
        {
          "name": "stderr",
          "output_type": "stream",
          "text": [
            "\n"
          ]
        },
        {
          "name": "stdout",
          "output_type": "stream",
          "text": [
            "2022-11-29 14:54:15,393 epoch 65 - iter 2/25 - loss 0.15917969 - samples/sec: 49.04 - lr: 0.000781\n",
            "2022-11-29 14:54:16,654 epoch 65 - iter 4/25 - loss 0.16726233 - samples/sec: 50.80 - lr: 0.000781\n",
            "2022-11-29 14:54:17,755 epoch 65 - iter 6/25 - loss 0.17338502 - samples/sec: 58.21 - lr: 0.000781\n",
            "2022-11-29 14:54:19,196 epoch 65 - iter 8/25 - loss 0.18343343 - samples/sec: 44.47 - lr: 0.000781\n",
            "2022-11-29 14:54:20,706 epoch 65 - iter 10/25 - loss 0.18863231 - samples/sec: 42.40 - lr: 0.000781\n",
            "2022-11-29 14:54:21,927 epoch 65 - iter 12/25 - loss 0.18649474 - samples/sec: 52.50 - lr: 0.000781\n",
            "2022-11-29 14:54:23,177 epoch 65 - iter 14/25 - loss 0.18610232 - samples/sec: 51.24 - lr: 0.000781\n",
            "2022-11-29 14:54:24,364 epoch 65 - iter 16/25 - loss 0.18750168 - samples/sec: 53.98 - lr: 0.000781\n",
            "2022-11-29 14:54:25,754 epoch 65 - iter 18/25 - loss 0.18814108 - samples/sec: 46.07 - lr: 0.000781\n",
            "2022-11-29 14:54:27,181 epoch 65 - iter 20/25 - loss 0.18816177 - samples/sec: 44.91 - lr: 0.000781\n",
            "2022-11-29 14:54:28,349 epoch 65 - iter 22/25 - loss 0.19175271 - samples/sec: 54.83 - lr: 0.000781\n",
            "2022-11-29 14:54:31,101 epoch 65 - iter 24/25 - loss 0.18804050 - samples/sec: 23.27 - lr: 0.000781\n",
            "2022-11-29 14:54:31,224 ----------------------------------------------------------------------------------------------------\n",
            "2022-11-29 14:54:31,224 EPOCH 65 done: loss 0.1885 - lr 0.000781\n"
          ]
        },
        {
          "name": "stderr",
          "output_type": "stream",
          "text": [
            "100%|██████████| 4/4 [00:00<00:00,  4.91it/s]"
          ]
        },
        {
          "name": "stdout",
          "output_type": "stream",
          "text": [
            "2022-11-29 14:54:32,044 Evaluating as a multi-label problem: False\n",
            "2022-11-29 14:54:32,053 DEV : loss 0.2779826819896698 - f1-score (micro avg)  0.7141\n",
            "2022-11-29 14:54:32,064 BAD EPOCHS (no improvement): 3\n",
            "2022-11-29 14:54:32,065 ----------------------------------------------------------------------------------------------------\n"
          ]
        },
        {
          "name": "stderr",
          "output_type": "stream",
          "text": [
            "\n"
          ]
        },
        {
          "name": "stdout",
          "output_type": "stream",
          "text": [
            "2022-11-29 14:54:33,200 epoch 66 - iter 2/25 - loss 0.26633922 - samples/sec: 56.44 - lr: 0.000781\n",
            "2022-11-29 14:54:34,375 epoch 66 - iter 4/25 - loss 0.23797541 - samples/sec: 54.54 - lr: 0.000781\n",
            "2022-11-29 14:54:35,672 epoch 66 - iter 6/25 - loss 0.21755185 - samples/sec: 49.38 - lr: 0.000781\n",
            "2022-11-29 14:54:36,889 epoch 66 - iter 8/25 - loss 0.21331086 - samples/sec: 52.65 - lr: 0.000781\n",
            "2022-11-29 14:54:38,333 epoch 66 - iter 10/25 - loss 0.20358154 - samples/sec: 44.36 - lr: 0.000781\n",
            "2022-11-29 14:54:39,410 epoch 66 - iter 12/25 - loss 0.20440254 - samples/sec: 59.50 - lr: 0.000781\n",
            "2022-11-29 14:54:42,681 epoch 66 - iter 14/25 - loss 0.19894472 - samples/sec: 19.58 - lr: 0.000781\n",
            "2022-11-29 14:54:43,614 epoch 66 - iter 16/25 - loss 0.19171891 - samples/sec: 68.69 - lr: 0.000781\n",
            "2022-11-29 14:54:44,784 epoch 66 - iter 18/25 - loss 0.19044548 - samples/sec: 54.77 - lr: 0.000781\n",
            "2022-11-29 14:54:46,085 epoch 66 - iter 20/25 - loss 0.18977418 - samples/sec: 49.22 - lr: 0.000781\n",
            "2022-11-29 14:54:47,381 epoch 66 - iter 22/25 - loss 0.18643921 - samples/sec: 49.44 - lr: 0.000781\n",
            "2022-11-29 14:54:48,443 epoch 66 - iter 24/25 - loss 0.18829079 - samples/sec: 60.31 - lr: 0.000781\n",
            "2022-11-29 14:54:48,579 ----------------------------------------------------------------------------------------------------\n",
            "2022-11-29 14:54:48,580 EPOCH 66 done: loss 0.1879 - lr 0.000781\n"
          ]
        },
        {
          "name": "stderr",
          "output_type": "stream",
          "text": [
            "100%|██████████| 4/4 [00:00<00:00,  5.57it/s]"
          ]
        },
        {
          "name": "stdout",
          "output_type": "stream",
          "text": [
            "2022-11-29 14:54:49,303 Evaluating as a multi-label problem: False\n",
            "2022-11-29 14:54:49,312 DEV : loss 0.27777716517448425 - f1-score (micro avg)  0.7161\n",
            "2022-11-29 14:54:49,323 BAD EPOCHS (no improvement): 0\n",
            "2022-11-29 14:54:49,324 ----------------------------------------------------------------------------------------------------\n"
          ]
        },
        {
          "name": "stderr",
          "output_type": "stream",
          "text": [
            "\n"
          ]
        },
        {
          "name": "stdout",
          "output_type": "stream",
          "text": [
            "2022-11-29 14:54:50,727 epoch 67 - iter 2/25 - loss 0.19198947 - samples/sec: 45.66 - lr: 0.000781\n",
            "2022-11-29 14:54:51,692 epoch 67 - iter 4/25 - loss 0.19701327 - samples/sec: 66.45 - lr: 0.000781\n",
            "2022-11-29 14:54:53,148 epoch 67 - iter 6/25 - loss 0.18069060 - samples/sec: 43.99 - lr: 0.000781\n",
            "2022-11-29 14:54:54,323 epoch 67 - iter 8/25 - loss 0.19116115 - samples/sec: 54.52 - lr: 0.000781\n",
            "2022-11-29 14:54:56,034 epoch 67 - iter 10/25 - loss 0.18588410 - samples/sec: 37.43 - lr: 0.000781\n",
            "2022-11-29 14:54:57,291 epoch 67 - iter 12/25 - loss 0.18337154 - samples/sec: 50.97 - lr: 0.000781\n",
            "2022-11-29 14:54:58,300 epoch 67 - iter 14/25 - loss 0.18549391 - samples/sec: 63.53 - lr: 0.000781\n",
            "2022-11-29 14:54:59,661 epoch 67 - iter 16/25 - loss 0.18577373 - samples/sec: 47.07 - lr: 0.000781\n",
            "2022-11-29 14:55:01,188 epoch 67 - iter 18/25 - loss 0.18852196 - samples/sec: 41.94 - lr: 0.000781\n",
            "2022-11-29 14:55:03,969 epoch 67 - iter 20/25 - loss 0.18618376 - samples/sec: 23.03 - lr: 0.000781\n",
            "2022-11-29 14:55:05,231 epoch 67 - iter 22/25 - loss 0.18886226 - samples/sec: 50.75 - lr: 0.000781\n",
            "2022-11-29 14:55:06,606 epoch 67 - iter 24/25 - loss 0.18732917 - samples/sec: 46.59 - lr: 0.000781\n",
            "2022-11-29 14:55:06,735 ----------------------------------------------------------------------------------------------------\n",
            "2022-11-29 14:55:06,736 EPOCH 67 done: loss 0.1877 - lr 0.000781\n"
          ]
        },
        {
          "name": "stderr",
          "output_type": "stream",
          "text": [
            "100%|██████████| 4/4 [00:00<00:00,  5.55it/s]"
          ]
        },
        {
          "name": "stdout",
          "output_type": "stream",
          "text": [
            "2022-11-29 14:55:07,461 Evaluating as a multi-label problem: False\n",
            "2022-11-29 14:55:07,470 DEV : loss 0.2771894633769989 - f1-score (micro avg)  0.7143\n",
            "2022-11-29 14:55:07,482 BAD EPOCHS (no improvement): 1\n",
            "2022-11-29 14:55:07,483 ----------------------------------------------------------------------------------------------------\n"
          ]
        },
        {
          "name": "stderr",
          "output_type": "stream",
          "text": [
            "\n"
          ]
        },
        {
          "name": "stdout",
          "output_type": "stream",
          "text": [
            "2022-11-29 14:55:08,921 epoch 68 - iter 2/25 - loss 0.19303875 - samples/sec: 44.55 - lr: 0.000781\n",
            "2022-11-29 14:55:09,933 epoch 68 - iter 4/25 - loss 0.19151079 - samples/sec: 63.35 - lr: 0.000781\n",
            "2022-11-29 14:55:11,075 epoch 68 - iter 6/25 - loss 0.18834706 - samples/sec: 56.10 - lr: 0.000781\n",
            "2022-11-29 14:55:13,844 epoch 68 - iter 8/25 - loss 0.18250747 - samples/sec: 23.12 - lr: 0.000781\n",
            "2022-11-29 14:55:15,107 epoch 68 - iter 10/25 - loss 0.18624257 - samples/sec: 50.71 - lr: 0.000781\n",
            "2022-11-29 14:55:16,538 epoch 68 - iter 12/25 - loss 0.18341718 - samples/sec: 44.76 - lr: 0.000781\n",
            "2022-11-29 14:55:17,898 epoch 68 - iter 14/25 - loss 0.18850908 - samples/sec: 47.09 - lr: 0.000781\n",
            "2022-11-29 14:55:19,108 epoch 68 - iter 16/25 - loss 0.18702420 - samples/sec: 52.96 - lr: 0.000781\n",
            "2022-11-29 14:55:20,342 epoch 68 - iter 18/25 - loss 0.19063366 - samples/sec: 51.94 - lr: 0.000781\n",
            "2022-11-29 14:55:21,858 epoch 68 - iter 20/25 - loss 0.19055669 - samples/sec: 42.24 - lr: 0.000781\n",
            "2022-11-29 14:55:23,112 epoch 68 - iter 22/25 - loss 0.18854756 - samples/sec: 51.09 - lr: 0.000781\n",
            "2022-11-29 14:55:24,357 epoch 68 - iter 24/25 - loss 0.18667131 - samples/sec: 51.47 - lr: 0.000781\n",
            "2022-11-29 14:55:24,479 ----------------------------------------------------------------------------------------------------\n",
            "2022-11-29 14:55:24,480 EPOCH 68 done: loss 0.1872 - lr 0.000781\n"
          ]
        },
        {
          "name": "stderr",
          "output_type": "stream",
          "text": [
            "100%|██████████| 4/4 [00:00<00:00,  5.58it/s]"
          ]
        },
        {
          "name": "stdout",
          "output_type": "stream",
          "text": [
            "2022-11-29 14:55:25,201 Evaluating as a multi-label problem: False\n",
            "2022-11-29 14:55:25,211 DEV : loss 0.27739477157592773 - f1-score (micro avg)  0.7171\n",
            "2022-11-29 14:55:25,222 BAD EPOCHS (no improvement): 0\n",
            "2022-11-29 14:55:25,223 saving best model\n"
          ]
        },
        {
          "name": "stderr",
          "output_type": "stream",
          "text": [
            "\n"
          ]
        },
        {
          "name": "stdout",
          "output_type": "stream",
          "text": [
            "2022-11-29 14:55:25,908 ----------------------------------------------------------------------------------------------------\n",
            "2022-11-29 14:55:27,113 epoch 69 - iter 2/25 - loss 0.20986031 - samples/sec: 53.15 - lr: 0.000781\n",
            "2022-11-29 14:55:28,352 epoch 69 - iter 4/25 - loss 0.19191738 - samples/sec: 51.75 - lr: 0.000781\n",
            "2022-11-29 14:55:29,925 epoch 69 - iter 6/25 - loss 0.19150843 - samples/sec: 40.71 - lr: 0.000781\n",
            "2022-11-29 14:55:31,078 epoch 69 - iter 8/25 - loss 0.19273657 - samples/sec: 55.56 - lr: 0.000781\n",
            "2022-11-29 14:55:34,329 epoch 69 - iter 10/25 - loss 0.19882784 - samples/sec: 19.70 - lr: 0.000781\n",
            "2022-11-29 14:55:35,856 epoch 69 - iter 12/25 - loss 0.19606441 - samples/sec: 41.95 - lr: 0.000781\n",
            "2022-11-29 14:55:36,823 epoch 69 - iter 14/25 - loss 0.19383998 - samples/sec: 66.30 - lr: 0.000781\n",
            "2022-11-29 14:55:38,115 epoch 69 - iter 16/25 - loss 0.18759692 - samples/sec: 49.59 - lr: 0.000781\n",
            "2022-11-29 14:55:39,483 epoch 69 - iter 18/25 - loss 0.18581908 - samples/sec: 46.82 - lr: 0.000781\n",
            "2022-11-29 14:55:40,766 epoch 69 - iter 20/25 - loss 0.19236738 - samples/sec: 49.91 - lr: 0.000781\n",
            "2022-11-29 14:55:42,232 epoch 69 - iter 22/25 - loss 0.19105846 - samples/sec: 43.71 - lr: 0.000781\n",
            "2022-11-29 14:55:43,437 epoch 69 - iter 24/25 - loss 0.18913341 - samples/sec: 53.19 - lr: 0.000781\n",
            "2022-11-29 14:55:43,551 ----------------------------------------------------------------------------------------------------\n",
            "2022-11-29 14:55:43,552 EPOCH 69 done: loss 0.1886 - lr 0.000781\n"
          ]
        },
        {
          "name": "stderr",
          "output_type": "stream",
          "text": [
            "100%|██████████| 4/4 [00:00<00:00,  4.64it/s]"
          ]
        },
        {
          "name": "stdout",
          "output_type": "stream",
          "text": [
            "2022-11-29 14:55:44,417 Evaluating as a multi-label problem: False\n",
            "2022-11-29 14:55:44,427 DEV : loss 0.27675318717956543 - f1-score (micro avg)  0.7114\n",
            "2022-11-29 14:55:44,442 BAD EPOCHS (no improvement): 1\n",
            "2022-11-29 14:55:44,443 ----------------------------------------------------------------------------------------------------\n"
          ]
        },
        {
          "name": "stderr",
          "output_type": "stream",
          "text": [
            "\n"
          ]
        },
        {
          "name": "stdout",
          "output_type": "stream",
          "text": [
            "2022-11-29 14:55:45,532 epoch 70 - iter 2/25 - loss 0.21063418 - samples/sec: 58.86 - lr: 0.000781\n",
            "2022-11-29 14:55:46,792 epoch 70 - iter 4/25 - loss 0.20463222 - samples/sec: 50.84 - lr: 0.000781\n",
            "2022-11-29 14:55:47,893 epoch 70 - iter 6/25 - loss 0.20598931 - samples/sec: 58.19 - lr: 0.000781\n",
            "2022-11-29 14:55:50,978 epoch 70 - iter 8/25 - loss 0.21300369 - samples/sec: 20.76 - lr: 0.000781\n",
            "2022-11-29 14:55:52,205 epoch 70 - iter 10/25 - loss 0.20620625 - samples/sec: 52.24 - lr: 0.000781\n",
            "2022-11-29 14:55:53,317 epoch 70 - iter 12/25 - loss 0.19954528 - samples/sec: 57.61 - lr: 0.000781\n",
            "2022-11-29 14:55:54,274 epoch 70 - iter 14/25 - loss 0.19702741 - samples/sec: 66.94 - lr: 0.000781\n",
            "2022-11-29 14:55:55,213 epoch 70 - iter 16/25 - loss 0.19157598 - samples/sec: 68.25 - lr: 0.000781\n",
            "2022-11-29 14:55:56,130 epoch 70 - iter 18/25 - loss 0.19250838 - samples/sec: 69.92 - lr: 0.000781\n",
            "2022-11-29 14:55:57,790 epoch 70 - iter 20/25 - loss 0.19211051 - samples/sec: 38.57 - lr: 0.000781\n",
            "2022-11-29 14:55:59,007 epoch 70 - iter 22/25 - loss 0.18907332 - samples/sec: 52.66 - lr: 0.000781\n",
            "2022-11-29 14:56:00,385 epoch 70 - iter 24/25 - loss 0.18755170 - samples/sec: 46.49 - lr: 0.000781\n",
            "2022-11-29 14:56:00,514 ----------------------------------------------------------------------------------------------------\n",
            "2022-11-29 14:56:00,515 EPOCH 70 done: loss 0.1877 - lr 0.000781\n"
          ]
        },
        {
          "name": "stderr",
          "output_type": "stream",
          "text": [
            "100%|██████████| 4/4 [00:00<00:00,  4.66it/s]"
          ]
        },
        {
          "name": "stdout",
          "output_type": "stream",
          "text": [
            "2022-11-29 14:56:01,377 Evaluating as a multi-label problem: False\n",
            "2022-11-29 14:56:01,385 DEV : loss 0.2782723307609558 - f1-score (micro avg)  0.7104\n",
            "2022-11-29 14:56:01,398 BAD EPOCHS (no improvement): 2\n",
            "2022-11-29 14:56:01,399 ----------------------------------------------------------------------------------------------------\n"
          ]
        },
        {
          "name": "stderr",
          "output_type": "stream",
          "text": [
            "\n"
          ]
        },
        {
          "name": "stdout",
          "output_type": "stream",
          "text": [
            "2022-11-29 14:56:02,987 epoch 71 - iter 2/25 - loss 0.21279802 - samples/sec: 40.35 - lr: 0.000781\n",
            "2022-11-29 14:56:04,293 epoch 71 - iter 4/25 - loss 0.20114321 - samples/sec: 49.03 - lr: 0.000781\n",
            "2022-11-29 14:56:05,379 epoch 71 - iter 6/25 - loss 0.19553031 - samples/sec: 59.03 - lr: 0.000781\n",
            "2022-11-29 14:56:06,863 epoch 71 - iter 8/25 - loss 0.18918100 - samples/sec: 43.15 - lr: 0.000781\n",
            "2022-11-29 14:56:09,726 epoch 71 - iter 10/25 - loss 0.19041318 - samples/sec: 22.37 - lr: 0.000781\n",
            "2022-11-29 14:56:10,853 epoch 71 - iter 12/25 - loss 0.18791645 - samples/sec: 56.85 - lr: 0.000781\n",
            "2022-11-29 14:56:11,915 epoch 71 - iter 14/25 - loss 0.18764488 - samples/sec: 60.32 - lr: 0.000781\n",
            "2022-11-29 14:56:13,258 epoch 71 - iter 16/25 - loss 0.18626282 - samples/sec: 47.73 - lr: 0.000781\n",
            "2022-11-29 14:56:14,476 epoch 71 - iter 18/25 - loss 0.18672080 - samples/sec: 52.57 - lr: 0.000781\n",
            "2022-11-29 14:56:15,593 epoch 71 - iter 20/25 - loss 0.18532771 - samples/sec: 57.37 - lr: 0.000781\n",
            "2022-11-29 14:56:16,817 epoch 71 - iter 22/25 - loss 0.18725126 - samples/sec: 52.37 - lr: 0.000781\n",
            "2022-11-29 14:56:18,054 epoch 71 - iter 24/25 - loss 0.18734023 - samples/sec: 51.78 - lr: 0.000781\n",
            "2022-11-29 14:56:18,178 ----------------------------------------------------------------------------------------------------\n",
            "2022-11-29 14:56:18,179 EPOCH 71 done: loss 0.1873 - lr 0.000781\n"
          ]
        },
        {
          "name": "stderr",
          "output_type": "stream",
          "text": [
            "100%|██████████| 4/4 [00:00<00:00,  5.53it/s]"
          ]
        },
        {
          "name": "stdout",
          "output_type": "stream",
          "text": [
            "2022-11-29 14:56:18,907 Evaluating as a multi-label problem: False\n",
            "2022-11-29 14:56:18,917 DEV : loss 0.27870944142341614 - f1-score (micro avg)  0.7084\n",
            "2022-11-29 14:56:18,930 BAD EPOCHS (no improvement): 3\n",
            "2022-11-29 14:56:18,931 ----------------------------------------------------------------------------------------------------\n"
          ]
        },
        {
          "name": "stderr",
          "output_type": "stream",
          "text": [
            "\n"
          ]
        },
        {
          "name": "stdout",
          "output_type": "stream",
          "text": [
            "2022-11-29 14:56:20,069 epoch 72 - iter 2/25 - loss 0.21686263 - samples/sec: 56.32 - lr: 0.000781\n",
            "2022-11-29 14:56:21,020 epoch 72 - iter 4/25 - loss 0.20780704 - samples/sec: 67.40 - lr: 0.000781\n",
            "2022-11-29 14:56:22,226 epoch 72 - iter 6/25 - loss 0.19715790 - samples/sec: 53.12 - lr: 0.000781\n",
            "2022-11-29 14:56:23,499 epoch 72 - iter 8/25 - loss 0.19213492 - samples/sec: 50.32 - lr: 0.000781\n",
            "2022-11-29 14:56:26,377 epoch 72 - iter 10/25 - loss 0.18755095 - samples/sec: 22.25 - lr: 0.000781\n",
            "2022-11-29 14:56:27,315 epoch 72 - iter 12/25 - loss 0.18523487 - samples/sec: 68.33 - lr: 0.000781\n",
            "2022-11-29 14:56:28,921 epoch 72 - iter 14/25 - loss 0.18507917 - samples/sec: 39.88 - lr: 0.000781\n",
            "2022-11-29 14:56:30,032 epoch 72 - iter 16/25 - loss 0.18812387 - samples/sec: 57.68 - lr: 0.000781\n",
            "2022-11-29 14:56:31,324 epoch 72 - iter 18/25 - loss 0.18733056 - samples/sec: 49.61 - lr: 0.000781\n",
            "2022-11-29 14:56:32,517 epoch 72 - iter 20/25 - loss 0.18402675 - samples/sec: 53.68 - lr: 0.000781\n",
            "2022-11-29 14:56:34,012 epoch 72 - iter 22/25 - loss 0.18274210 - samples/sec: 42.87 - lr: 0.000781\n",
            "2022-11-29 14:56:35,339 epoch 72 - iter 24/25 - loss 0.18595370 - samples/sec: 48.27 - lr: 0.000781\n",
            "2022-11-29 14:56:35,466 ----------------------------------------------------------------------------------------------------\n",
            "2022-11-29 14:56:35,467 EPOCH 72 done: loss 0.1856 - lr 0.000781\n"
          ]
        },
        {
          "name": "stderr",
          "output_type": "stream",
          "text": [
            "100%|██████████| 4/4 [00:00<00:00,  5.08it/s]"
          ]
        },
        {
          "name": "stdout",
          "output_type": "stream",
          "text": [
            "2022-11-29 14:56:36,259 Evaluating as a multi-label problem: False\n",
            "2022-11-29 14:56:36,266 DEV : loss 0.27796652913093567 - f1-score (micro avg)  0.7055\n",
            "2022-11-29 14:56:36,278 Epoch    72: reducing learning rate of group 0 to 3.9063e-04.\n",
            "2022-11-29 14:56:36,279 BAD EPOCHS (no improvement): 4\n",
            "2022-11-29 14:56:36,280 ----------------------------------------------------------------------------------------------------\n"
          ]
        },
        {
          "name": "stderr",
          "output_type": "stream",
          "text": [
            "\n"
          ]
        },
        {
          "name": "stdout",
          "output_type": "stream",
          "text": [
            "2022-11-29 14:56:37,577 epoch 73 - iter 2/25 - loss 0.21797297 - samples/sec: 49.38 - lr: 0.000391\n",
            "2022-11-29 14:56:38,745 epoch 73 - iter 4/25 - loss 0.20155292 - samples/sec: 54.88 - lr: 0.000391\n",
            "2022-11-29 14:56:40,191 epoch 73 - iter 6/25 - loss 0.20730144 - samples/sec: 44.30 - lr: 0.000391\n",
            "2022-11-29 14:56:41,287 epoch 73 - iter 8/25 - loss 0.19636892 - samples/sec: 58.46 - lr: 0.000391\n",
            "2022-11-29 14:56:44,641 epoch 73 - iter 10/25 - loss 0.18579278 - samples/sec: 19.09 - lr: 0.000391\n",
            "2022-11-29 14:56:45,961 epoch 73 - iter 12/25 - loss 0.18152037 - samples/sec: 48.52 - lr: 0.000391\n",
            "2022-11-29 14:56:47,264 epoch 73 - iter 14/25 - loss 0.18944164 - samples/sec: 49.18 - lr: 0.000391\n",
            "2022-11-29 14:56:48,343 epoch 73 - iter 16/25 - loss 0.18677649 - samples/sec: 59.35 - lr: 0.000391\n",
            "2022-11-29 14:56:49,597 epoch 73 - iter 18/25 - loss 0.19611276 - samples/sec: 51.12 - lr: 0.000391\n",
            "2022-11-29 14:56:50,541 epoch 73 - iter 20/25 - loss 0.19459241 - samples/sec: 67.85 - lr: 0.000391\n",
            "2022-11-29 14:56:51,868 epoch 73 - iter 22/25 - loss 0.19251448 - samples/sec: 48.27 - lr: 0.000391\n",
            "2022-11-29 14:56:53,065 epoch 73 - iter 24/25 - loss 0.19282390 - samples/sec: 53.55 - lr: 0.000391\n",
            "2022-11-29 14:56:53,176 ----------------------------------------------------------------------------------------------------\n",
            "2022-11-29 14:56:53,177 EPOCH 73 done: loss 0.1926 - lr 0.000391\n"
          ]
        },
        {
          "name": "stderr",
          "output_type": "stream",
          "text": [
            "100%|██████████| 4/4 [00:00<00:00,  5.30it/s]"
          ]
        },
        {
          "name": "stdout",
          "output_type": "stream",
          "text": [
            "2022-11-29 14:56:53,936 Evaluating as a multi-label problem: False\n",
            "2022-11-29 14:56:53,944 DEV : loss 0.2779599726200104 - f1-score (micro avg)  0.7066\n",
            "2022-11-29 14:56:53,955 BAD EPOCHS (no improvement): 1\n",
            "2022-11-29 14:56:53,956 ----------------------------------------------------------------------------------------------------\n"
          ]
        },
        {
          "name": "stderr",
          "output_type": "stream",
          "text": [
            "\n"
          ]
        },
        {
          "name": "stdout",
          "output_type": "stream",
          "text": [
            "2022-11-29 14:56:55,211 epoch 74 - iter 2/25 - loss 0.17927918 - samples/sec: 51.07 - lr: 0.000391\n",
            "2022-11-29 14:56:58,163 epoch 74 - iter 4/25 - loss 0.15514345 - samples/sec: 21.69 - lr: 0.000391\n",
            "2022-11-29 14:56:59,484 epoch 74 - iter 6/25 - loss 0.16775178 - samples/sec: 48.50 - lr: 0.000391\n",
            "2022-11-29 14:57:00,703 epoch 74 - iter 8/25 - loss 0.16897926 - samples/sec: 52.55 - lr: 0.000391\n",
            "2022-11-29 14:57:02,242 epoch 74 - iter 10/25 - loss 0.17594615 - samples/sec: 41.63 - lr: 0.000391\n",
            "2022-11-29 14:57:03,431 epoch 74 - iter 12/25 - loss 0.17787619 - samples/sec: 53.88 - lr: 0.000391\n",
            "2022-11-29 14:57:04,704 epoch 74 - iter 14/25 - loss 0.18228973 - samples/sec: 50.30 - lr: 0.000391\n",
            "2022-11-29 14:57:06,082 epoch 74 - iter 16/25 - loss 0.18351245 - samples/sec: 46.49 - lr: 0.000391\n",
            "2022-11-29 14:57:07,081 epoch 74 - iter 18/25 - loss 0.17997325 - samples/sec: 64.17 - lr: 0.000391\n",
            "2022-11-29 14:57:08,098 epoch 74 - iter 20/25 - loss 0.18296125 - samples/sec: 62.99 - lr: 0.000391\n",
            "2022-11-29 14:57:08,984 epoch 74 - iter 22/25 - loss 0.18302627 - samples/sec: 72.38 - lr: 0.000391\n",
            "2022-11-29 14:57:10,352 epoch 74 - iter 24/25 - loss 0.18338808 - samples/sec: 46.84 - lr: 0.000391\n",
            "2022-11-29 14:57:10,468 ----------------------------------------------------------------------------------------------------\n",
            "2022-11-29 14:57:10,469 EPOCH 74 done: loss 0.1838 - lr 0.000391\n"
          ]
        },
        {
          "name": "stderr",
          "output_type": "stream",
          "text": [
            "100%|██████████| 4/4 [00:00<00:00,  5.03it/s]"
          ]
        },
        {
          "name": "stdout",
          "output_type": "stream",
          "text": [
            "2022-11-29 14:57:11,269 Evaluating as a multi-label problem: False\n",
            "2022-11-29 14:57:11,277 DEV : loss 0.27767637372016907 - f1-score (micro avg)  0.7055\n",
            "2022-11-29 14:57:11,288 BAD EPOCHS (no improvement): 2\n",
            "2022-11-29 14:57:11,289 ----------------------------------------------------------------------------------------------------\n"
          ]
        },
        {
          "name": "stderr",
          "output_type": "stream",
          "text": [
            "\n"
          ]
        },
        {
          "name": "stdout",
          "output_type": "stream",
          "text": [
            "2022-11-29 14:57:12,516 epoch 75 - iter 2/25 - loss 0.20881310 - samples/sec: 52.24 - lr: 0.000391\n",
            "2022-11-29 14:57:13,802 epoch 75 - iter 4/25 - loss 0.21027825 - samples/sec: 49.79 - lr: 0.000391\n",
            "2022-11-29 14:57:15,084 epoch 75 - iter 6/25 - loss 0.20646859 - samples/sec: 50.00 - lr: 0.000391\n",
            "2022-11-29 14:57:16,385 epoch 75 - iter 8/25 - loss 0.20123782 - samples/sec: 49.23 - lr: 0.000391\n",
            "2022-11-29 14:57:17,660 epoch 75 - iter 10/25 - loss 0.20030270 - samples/sec: 50.25 - lr: 0.000391\n",
            "2022-11-29 14:57:19,095 epoch 75 - iter 12/25 - loss 0.20451015 - samples/sec: 44.65 - lr: 0.000391\n",
            "2022-11-29 14:57:20,109 epoch 75 - iter 14/25 - loss 0.19647193 - samples/sec: 63.20 - lr: 0.000391\n",
            "2022-11-29 14:57:21,446 epoch 75 - iter 16/25 - loss 0.19339058 - samples/sec: 47.91 - lr: 0.000391\n",
            "2022-11-29 14:57:22,497 epoch 75 - iter 18/25 - loss 0.19607829 - samples/sec: 60.98 - lr: 0.000391\n",
            "2022-11-29 14:57:23,802 epoch 75 - iter 20/25 - loss 0.19462177 - samples/sec: 49.09 - lr: 0.000391\n",
            "2022-11-29 14:57:26,554 epoch 75 - iter 22/25 - loss 0.19238904 - samples/sec: 23.26 - lr: 0.000391\n",
            "2022-11-29 14:57:27,844 epoch 75 - iter 24/25 - loss 0.19065388 - samples/sec: 49.69 - lr: 0.000391\n",
            "2022-11-29 14:57:27,945 ----------------------------------------------------------------------------------------------------\n",
            "2022-11-29 14:57:27,946 EPOCH 75 done: loss 0.1905 - lr 0.000391\n"
          ]
        },
        {
          "name": "stderr",
          "output_type": "stream",
          "text": [
            "100%|██████████| 4/4 [00:00<00:00,  5.51it/s]"
          ]
        },
        {
          "name": "stdout",
          "output_type": "stream",
          "text": [
            "2022-11-29 14:57:28,676 Evaluating as a multi-label problem: False\n",
            "2022-11-29 14:57:28,685 DEV : loss 0.27846112847328186 - f1-score (micro avg)  0.7094\n",
            "2022-11-29 14:57:28,697 BAD EPOCHS (no improvement): 3\n",
            "2022-11-29 14:57:28,697 ----------------------------------------------------------------------------------------------------\n"
          ]
        },
        {
          "name": "stderr",
          "output_type": "stream",
          "text": [
            "\n"
          ]
        },
        {
          "name": "stdout",
          "output_type": "stream",
          "text": [
            "2022-11-29 14:57:29,960 epoch 76 - iter 2/25 - loss 0.16454321 - samples/sec: 50.74 - lr: 0.000391\n",
            "2022-11-29 14:57:31,459 epoch 76 - iter 4/25 - loss 0.17881117 - samples/sec: 42.73 - lr: 0.000391\n",
            "2022-11-29 14:57:32,444 epoch 76 - iter 6/25 - loss 0.17674463 - samples/sec: 65.08 - lr: 0.000391\n",
            "2022-11-29 14:57:33,375 epoch 76 - iter 8/25 - loss 0.17425395 - samples/sec: 68.82 - lr: 0.000391\n",
            "2022-11-29 14:57:34,985 epoch 76 - iter 10/25 - loss 0.18891838 - samples/sec: 39.80 - lr: 0.000391\n",
            "2022-11-29 14:57:36,160 epoch 76 - iter 12/25 - loss 0.18781561 - samples/sec: 54.53 - lr: 0.000391\n",
            "2022-11-29 14:57:38,850 epoch 76 - iter 14/25 - loss 0.18363014 - samples/sec: 23.80 - lr: 0.000391\n",
            "2022-11-29 14:57:40,409 epoch 76 - iter 16/25 - loss 0.18280199 - samples/sec: 41.07 - lr: 0.000391\n",
            "2022-11-29 14:57:41,621 epoch 76 - iter 18/25 - loss 0.18173656 - samples/sec: 52.90 - lr: 0.000391\n",
            "2022-11-29 14:57:42,853 epoch 76 - iter 20/25 - loss 0.18621278 - samples/sec: 51.98 - lr: 0.000391\n",
            "2022-11-29 14:57:44,068 epoch 76 - iter 22/25 - loss 0.18330414 - samples/sec: 52.74 - lr: 0.000391\n",
            "2022-11-29 14:57:45,290 epoch 76 - iter 24/25 - loss 0.18426021 - samples/sec: 52.41 - lr: 0.000391\n",
            "2022-11-29 14:57:45,389 ----------------------------------------------------------------------------------------------------\n",
            "2022-11-29 14:57:45,390 EPOCH 76 done: loss 0.1848 - lr 0.000391\n"
          ]
        },
        {
          "name": "stderr",
          "output_type": "stream",
          "text": [
            "100%|██████████| 4/4 [00:00<00:00,  5.65it/s]"
          ]
        },
        {
          "name": "stdout",
          "output_type": "stream",
          "text": [
            "2022-11-29 14:57:46,102 Evaluating as a multi-label problem: False\n",
            "2022-11-29 14:57:46,109 DEV : loss 0.2784552574157715 - f1-score (micro avg)  0.7094\n",
            "2022-11-29 14:57:46,120 Epoch    76: reducing learning rate of group 0 to 1.9531e-04.\n",
            "2022-11-29 14:57:46,121 BAD EPOCHS (no improvement): 4\n",
            "2022-11-29 14:57:46,122 ----------------------------------------------------------------------------------------------------\n"
          ]
        },
        {
          "name": "stderr",
          "output_type": "stream",
          "text": [
            "\n"
          ]
        },
        {
          "name": "stdout",
          "output_type": "stream",
          "text": [
            "2022-11-29 14:57:47,305 epoch 77 - iter 2/25 - loss 0.17478741 - samples/sec: 54.15 - lr: 0.000195\n",
            "2022-11-29 14:57:48,709 epoch 77 - iter 4/25 - loss 0.17437555 - samples/sec: 45.64 - lr: 0.000195\n",
            "2022-11-29 14:57:50,085 epoch 77 - iter 6/25 - loss 0.17982554 - samples/sec: 46.53 - lr: 0.000195\n",
            "2022-11-29 14:57:51,651 epoch 77 - iter 8/25 - loss 0.18162688 - samples/sec: 40.92 - lr: 0.000195\n",
            "2022-11-29 14:57:53,209 epoch 77 - iter 10/25 - loss 0.18486792 - samples/sec: 41.11 - lr: 0.000195\n",
            "2022-11-29 14:57:54,777 epoch 77 - iter 12/25 - loss 0.18016971 - samples/sec: 40.85 - lr: 0.000195\n",
            "2022-11-29 14:57:55,984 epoch 77 - iter 14/25 - loss 0.18229143 - samples/sec: 53.05 - lr: 0.000195\n",
            "2022-11-29 14:57:57,272 epoch 77 - iter 16/25 - loss 0.18757457 - samples/sec: 49.75 - lr: 0.000195\n",
            "2022-11-29 14:57:58,501 epoch 77 - iter 18/25 - loss 0.18610633 - samples/sec: 52.11 - lr: 0.000195\n",
            "2022-11-29 14:58:01,067 epoch 77 - iter 20/25 - loss 0.18510288 - samples/sec: 24.96 - lr: 0.000195\n",
            "2022-11-29 14:58:02,131 epoch 77 - iter 22/25 - loss 0.18438234 - samples/sec: 60.25 - lr: 0.000195\n",
            "2022-11-29 14:58:03,348 epoch 77 - iter 24/25 - loss 0.18586131 - samples/sec: 52.62 - lr: 0.000195\n",
            "2022-11-29 14:58:03,459 ----------------------------------------------------------------------------------------------------\n",
            "2022-11-29 14:58:03,460 EPOCH 77 done: loss 0.1857 - lr 0.000195\n"
          ]
        },
        {
          "name": "stderr",
          "output_type": "stream",
          "text": [
            "100%|██████████| 4/4 [00:00<00:00,  5.37it/s]"
          ]
        },
        {
          "name": "stdout",
          "output_type": "stream",
          "text": [
            "2022-11-29 14:58:04,209 Evaluating as a multi-label problem: False\n",
            "2022-11-29 14:58:04,217 DEV : loss 0.2786221206188202 - f1-score (micro avg)  0.7094\n",
            "2022-11-29 14:58:04,227 BAD EPOCHS (no improvement): 1\n",
            "2022-11-29 14:58:04,228 ----------------------------------------------------------------------------------------------------\n"
          ]
        },
        {
          "name": "stderr",
          "output_type": "stream",
          "text": [
            "\n"
          ]
        },
        {
          "name": "stdout",
          "output_type": "stream",
          "text": [
            "2022-11-29 14:58:05,403 epoch 78 - iter 2/25 - loss 0.23449476 - samples/sec: 54.57 - lr: 0.000195\n",
            "2022-11-29 14:58:06,422 epoch 78 - iter 4/25 - loss 0.20946949 - samples/sec: 62.88 - lr: 0.000195\n",
            "2022-11-29 14:58:07,698 epoch 78 - iter 6/25 - loss 0.20880827 - samples/sec: 50.19 - lr: 0.000195\n",
            "2022-11-29 14:58:08,986 epoch 78 - iter 8/25 - loss 0.20487264 - samples/sec: 49.75 - lr: 0.000195\n",
            "2022-11-29 14:58:10,139 epoch 78 - iter 10/25 - loss 0.20040276 - samples/sec: 55.61 - lr: 0.000195\n",
            "2022-11-29 14:58:11,445 epoch 78 - iter 12/25 - loss 0.20037003 - samples/sec: 49.02 - lr: 0.000195\n",
            "2022-11-29 14:58:12,797 epoch 78 - iter 14/25 - loss 0.19521057 - samples/sec: 47.41 - lr: 0.000195\n",
            "2022-11-29 14:58:14,276 epoch 78 - iter 16/25 - loss 0.19955530 - samples/sec: 43.29 - lr: 0.000195\n",
            "2022-11-29 14:58:16,800 epoch 78 - iter 18/25 - loss 0.19702936 - samples/sec: 25.38 - lr: 0.000195\n",
            "2022-11-29 14:58:17,928 epoch 78 - iter 20/25 - loss 0.19481073 - samples/sec: 56.81 - lr: 0.000195\n",
            "2022-11-29 14:58:18,824 epoch 78 - iter 22/25 - loss 0.19237210 - samples/sec: 71.48 - lr: 0.000195\n",
            "2022-11-29 14:58:20,099 epoch 78 - iter 24/25 - loss 0.19507554 - samples/sec: 50.25 - lr: 0.000195\n",
            "2022-11-29 14:58:20,197 ----------------------------------------------------------------------------------------------------\n",
            "2022-11-29 14:58:20,198 EPOCH 78 done: loss 0.1953 - lr 0.000195\n"
          ]
        },
        {
          "name": "stderr",
          "output_type": "stream",
          "text": [
            "100%|██████████| 4/4 [00:00<00:00,  5.65it/s]"
          ]
        },
        {
          "name": "stdout",
          "output_type": "stream",
          "text": [
            "2022-11-29 14:58:20,910 Evaluating as a multi-label problem: False\n",
            "2022-11-29 14:58:20,919 DEV : loss 0.2786603569984436 - f1-score (micro avg)  0.7094\n",
            "2022-11-29 14:58:20,934 BAD EPOCHS (no improvement): 2\n",
            "2022-11-29 14:58:20,936 ----------------------------------------------------------------------------------------------------\n"
          ]
        },
        {
          "name": "stderr",
          "output_type": "stream",
          "text": [
            "\n"
          ]
        },
        {
          "name": "stdout",
          "output_type": "stream",
          "text": [
            "2022-11-29 14:58:23,420 epoch 79 - iter 2/25 - loss 0.17216528 - samples/sec: 25.77 - lr: 0.000195\n",
            "2022-11-29 14:58:24,728 epoch 79 - iter 4/25 - loss 0.16821443 - samples/sec: 48.98 - lr: 0.000195\n",
            "2022-11-29 14:58:26,331 epoch 79 - iter 6/25 - loss 0.17933505 - samples/sec: 39.96 - lr: 0.000195\n",
            "2022-11-29 14:58:27,451 epoch 79 - iter 8/25 - loss 0.18235794 - samples/sec: 57.20 - lr: 0.000195\n",
            "2022-11-29 14:58:29,200 epoch 79 - iter 10/25 - loss 0.18621365 - samples/sec: 36.62 - lr: 0.000195\n",
            "2022-11-29 14:58:30,327 epoch 79 - iter 12/25 - loss 0.18491987 - samples/sec: 56.89 - lr: 0.000195\n",
            "2022-11-29 14:58:31,528 epoch 79 - iter 14/25 - loss 0.18473388 - samples/sec: 53.32 - lr: 0.000195\n",
            "2022-11-29 14:58:32,956 epoch 79 - iter 16/25 - loss 0.18137774 - samples/sec: 44.87 - lr: 0.000195\n",
            "2022-11-29 14:58:34,272 epoch 79 - iter 18/25 - loss 0.18365566 - samples/sec: 48.68 - lr: 0.000195\n",
            "2022-11-29 14:58:35,796 epoch 79 - iter 20/25 - loss 0.18525489 - samples/sec: 42.01 - lr: 0.000195\n",
            "2022-11-29 14:58:36,757 epoch 79 - iter 22/25 - loss 0.18717514 - samples/sec: 66.73 - lr: 0.000195\n",
            "2022-11-29 14:58:38,010 epoch 79 - iter 24/25 - loss 0.18695947 - samples/sec: 51.12 - lr: 0.000195\n",
            "2022-11-29 14:58:38,140 ----------------------------------------------------------------------------------------------------\n",
            "2022-11-29 14:58:38,141 EPOCH 79 done: loss 0.1869 - lr 0.000195\n"
          ]
        },
        {
          "name": "stderr",
          "output_type": "stream",
          "text": [
            "100%|██████████| 4/4 [00:00<00:00,  5.46it/s]"
          ]
        },
        {
          "name": "stdout",
          "output_type": "stream",
          "text": [
            "2022-11-29 14:58:38,877 Evaluating as a multi-label problem: False\n",
            "2022-11-29 14:58:38,886 DEV : loss 0.2788877785205841 - f1-score (micro avg)  0.7094\n",
            "2022-11-29 14:58:38,900 BAD EPOCHS (no improvement): 3\n",
            "2022-11-29 14:58:38,901 ----------------------------------------------------------------------------------------------------\n"
          ]
        },
        {
          "name": "stderr",
          "output_type": "stream",
          "text": [
            "\n"
          ]
        },
        {
          "name": "stdout",
          "output_type": "stream",
          "text": [
            "2022-11-29 14:58:40,457 epoch 80 - iter 2/25 - loss 0.18243829 - samples/sec: 41.18 - lr: 0.000195\n",
            "2022-11-29 14:58:41,565 epoch 80 - iter 4/25 - loss 0.19485146 - samples/sec: 57.80 - lr: 0.000195\n",
            "2022-11-29 14:58:44,899 epoch 80 - iter 6/25 - loss 0.18140388 - samples/sec: 19.21 - lr: 0.000195\n",
            "2022-11-29 14:58:46,379 epoch 80 - iter 8/25 - loss 0.17463647 - samples/sec: 43.26 - lr: 0.000195\n",
            "2022-11-29 14:58:47,565 epoch 80 - iter 10/25 - loss 0.17217655 - samples/sec: 54.02 - lr: 0.000195\n",
            "2022-11-29 14:58:48,717 epoch 80 - iter 12/25 - loss 0.17883174 - samples/sec: 55.62 - lr: 0.000195\n",
            "2022-11-29 14:58:49,748 epoch 80 - iter 14/25 - loss 0.18004058 - samples/sec: 62.15 - lr: 0.000195\n",
            "2022-11-29 14:58:51,118 epoch 80 - iter 16/25 - loss 0.18312789 - samples/sec: 46.78 - lr: 0.000195\n",
            "2022-11-29 14:58:52,289 epoch 80 - iter 18/25 - loss 0.18542246 - samples/sec: 54.70 - lr: 0.000195\n",
            "2022-11-29 14:58:53,238 epoch 80 - iter 20/25 - loss 0.18879713 - samples/sec: 67.52 - lr: 0.000195\n",
            "2022-11-29 14:58:54,232 epoch 80 - iter 22/25 - loss 0.18623037 - samples/sec: 64.45 - lr: 0.000195\n",
            "2022-11-29 14:58:55,435 epoch 80 - iter 24/25 - loss 0.18658000 - samples/sec: 53.24 - lr: 0.000195\n",
            "2022-11-29 14:58:55,543 ----------------------------------------------------------------------------------------------------\n",
            "2022-11-29 14:58:55,544 EPOCH 80 done: loss 0.1872 - lr 0.000195\n"
          ]
        },
        {
          "name": "stderr",
          "output_type": "stream",
          "text": [
            "100%|██████████| 4/4 [00:00<00:00,  7.07it/s]"
          ]
        },
        {
          "name": "stdout",
          "output_type": "stream",
          "text": [
            "2022-11-29 14:58:56,113 Evaluating as a multi-label problem: False\n",
            "2022-11-29 14:58:56,119 DEV : loss 0.27884408831596375 - f1-score (micro avg)  0.7094\n"
          ]
        },
        {
          "name": "stderr",
          "output_type": "stream",
          "text": [
            "\n"
          ]
        },
        {
          "name": "stdout",
          "output_type": "stream",
          "text": [
            "2022-11-29 14:58:56,128 Epoch    80: reducing learning rate of group 0 to 9.7656e-05.\n",
            "2022-11-29 14:58:56,128 BAD EPOCHS (no improvement): 4\n",
            "2022-11-29 14:58:56,129 ----------------------------------------------------------------------------------------------------\n",
            "2022-11-29 14:58:56,129 ----------------------------------------------------------------------------------------------------\n",
            "2022-11-29 14:58:56,130 learning rate too small - quitting training!\n",
            "2022-11-29 14:58:56,130 ----------------------------------------------------------------------------------------------------\n",
            "2022-11-29 14:58:56,716 ----------------------------------------------------------------------------------------------------\n",
            "2022-11-29 14:58:56,717 loading file resources/taggers/re3d-ner/best-model.pt\n",
            "2022-11-29 14:58:57,277 SequenceTagger predicts: Dictionary with 43 tags: O, S-Organisation, B-Organisation, E-Organisation, I-Organisation, S-Location, B-Location, E-Location, I-Location, S-Person, B-Person, E-Person, I-Person, S-Temporal, B-Temporal, E-Temporal, I-Temporal, S-Quantity, B-Quantity, E-Quantity, I-Quantity, S-Weapon, B-Weapon, E-Weapon, I-Weapon, S-DocumentReference, B-DocumentReference, E-DocumentReference, I-DocumentReference, S-MilitaryPlatform, B-MilitaryPlatform, E-MilitaryPlatform, I-MilitaryPlatform, S-Nationality, B-Nationality, E-Nationality, I-Nationality, S-Money, B-Money, E-Money, I-Money, <START>, <STOP>\n"
          ]
        },
        {
          "name": "stderr",
          "output_type": "stream",
          "text": [
            "100%|██████████| 3/3 [00:11<00:00,  3.71s/it]"
          ]
        },
        {
          "name": "stdout",
          "output_type": "stream",
          "text": [
            "2022-11-29 14:59:08,627 Evaluating as a multi-label problem: False\n",
            "2022-11-29 14:59:08,633 0.6751\t0.7492\t0.7103\t0.561\n",
            "2022-11-29 14:59:08,634 \n",
            "Results:\n",
            "- F-score (micro) 0.7103\n",
            "- F-score (macro) 0.4844\n",
            "- Accuracy 0.561\n",
            "\n",
            "By class:\n",
            "                   precision    recall  f1-score   support\n",
            "\n",
            "     Organisation     0.6605    0.7643    0.7086       140\n",
            "         Location     0.6538    0.7500    0.6986        68\n",
            "           Person     0.7879    0.8387    0.8125        62\n",
            "         Temporal     0.9048    1.0000    0.9500        19\n",
            "         Quantity     0.4118    0.4375    0.4242        16\n",
            "DocumentReference     0.2500    0.2500    0.2500         4\n",
            "           Weapon     0.0000    0.0000    0.0000         4\n",
            "      Nationality     0.5000    0.5000    0.5000         2\n",
            " MilitaryPlatform     1.0000    0.3333    0.5000         3\n",
            "            Money     0.0000    0.0000    0.0000         1\n",
            "\n",
            "        micro avg     0.6751    0.7492    0.7103       319\n",
            "        macro avg     0.5169    0.4874    0.4844       319\n",
            "     weighted avg     0.6726    0.7492    0.7067       319\n",
            "\n",
            "2022-11-29 14:59:08,634 ----------------------------------------------------------------------------------------------------\n"
          ]
        },
        {
          "name": "stderr",
          "output_type": "stream",
          "text": [
            "\n"
          ]
        },
        {
          "data": {
            "text/plain": [
              "{'test_score': 0.7102526002971769,\n",
              " 'dev_score_history': [0.0055710306406685246,\n",
              "  0.028,\n",
              "  0.2721311475409836,\n",
              "  0.33203125,\n",
              "  0.39528023598820056,\n",
              "  0.5331179321486268,\n",
              "  0.5800865800865801,\n",
              "  0.5830618892508144,\n",
              "  0.6053042121684867,\n",
              "  0.6116207951070336,\n",
              "  0.562111801242236,\n",
              "  0.593619972260749,\n",
              "  0.6295754026354319,\n",
              "  0.6461988304093567,\n",
              "  0.6463768115942029,\n",
              "  0.6287339971550497,\n",
              "  0.637329286798179,\n",
              "  0.6142208774583964,\n",
              "  0.6477272727272727,\n",
              "  0.6557377049180328,\n",
              "  0.6550218340611353,\n",
              "  0.6483180428134556,\n",
              "  0.6538461538461539,\n",
              "  0.6496453900709219,\n",
              "  0.6956521739130435,\n",
              "  0.6787709497206704,\n",
              "  0.7001434720229556,\n",
              "  0.6930091185410335,\n",
              "  0.692090395480226,\n",
              "  0.6960486322188449,\n",
              "  0.7073863636363638,\n",
              "  0.7063829787234042,\n",
              "  0.6870229007633588,\n",
              "  0.693069306930693,\n",
              "  0.6629680998613037,\n",
              "  0.691114245416079,\n",
              "  0.7080924855491331,\n",
              "  0.6991404011461319,\n",
              "  0.7020057306590258,\n",
              "  0.6919831223628691,\n",
              "  0.6881405563689604,\n",
              "  0.6963788300835654,\n",
              "  0.6899441340782123,\n",
              "  0.6985507246376811,\n",
              "  0.7079136690647483,\n",
              "  0.7146974063400576,\n",
              "  0.7047075606276747,\n",
              "  0.709585121602289,\n",
              "  0.7057142857142856,\n",
              "  0.7079136690647483,\n",
              "  0.7153075822603719,\n",
              "  0.7090395480225988,\n",
              "  0.7080394922425952,\n",
              "  0.7092198581560284,\n",
              "  0.7058823529411765,\n",
              "  0.7116212338593975,\n",
              "  0.7144906743185079,\n",
              "  0.7073863636363638,\n",
              "  0.7090395480225988,\n",
              "  0.7120567375886524,\n",
              "  0.7120567375886524,\n",
              "  0.716119828815977,\n",
              "  0.7140825035561877,\n",
              "  0.7150997150997149,\n",
              "  0.7140825035561877,\n",
              "  0.716119828815977,\n",
              "  0.7142857142857143,\n",
              "  0.7171428571428572,\n",
              "  0.7114285714285714,\n",
              "  0.7104136947218259,\n",
              "  0.7083926031294453,\n",
              "  0.7055476529160739,\n",
              "  0.7065527065527065,\n",
              "  0.7055476529160739,\n",
              "  0.7094017094017095,\n",
              "  0.7094017094017095,\n",
              "  0.7094017094017095,\n",
              "  0.7094017094017095,\n",
              "  0.7094017094017095,\n",
              "  0.7094017094017095],\n",
              " 'train_loss_history': [2.021247461427859,\n",
              "  1.5412850912593647,\n",
              "  1.2547519721958442,\n",
              "  1.0478935147341415,\n",
              "  0.8929220282431112,\n",
              "  0.770345024908286,\n",
              "  0.7021749482683721,\n",
              "  0.6412778925893332,\n",
              "  0.5895780746597346,\n",
              "  0.5555697952803441,\n",
              "  0.5181629833486769,\n",
              "  0.48978872837977394,\n",
              "  0.46785977262529216,\n",
              "  0.44629825370488896,\n",
              "  0.42104336806618403,\n",
              "  0.4035958554018873,\n",
              "  0.3827954250119425,\n",
              "  0.3637728586835702,\n",
              "  0.3625784942183094,\n",
              "  0.34778742999224704,\n",
              "  0.3424544326391208,\n",
              "  0.33436034781838236,\n",
              "  0.32463458710305587,\n",
              "  0.3054615117751775,\n",
              "  0.2800042928120285,\n",
              "  0.2639927187057469,\n",
              "  0.26539479413536876,\n",
              "  0.2616384235796122,\n",
              "  0.2507877261157181,\n",
              "  0.2496312497053017,\n",
              "  0.2521307169535965,\n",
              "  0.24084145347902444,\n",
              "  0.24314684559780658,\n",
              "  0.23237170684322284,\n",
              "  0.23372078942087243,\n",
              "  0.22472580196100939,\n",
              "  0.21669449149954859,\n",
              "  0.21294791905807084,\n",
              "  0.21525096808388525,\n",
              "  0.20683948173005867,\n",
              "  0.20388606135541115,\n",
              "  0.20870095133439387,\n",
              "  0.20078952208440004,\n",
              "  0.20060443132747183,\n",
              "  0.2033566702977361,\n",
              "  0.19570117262382353,\n",
              "  0.19306714963851632,\n",
              "  0.19228963530168602,\n",
              "  0.19783400017276084,\n",
              "  0.19283447386402988,\n",
              "  0.18942284595840136,\n",
              "  0.19807875676549977,\n",
              "  0.18716511283369508,\n",
              "  0.18993598029888784,\n",
              "  0.18985046344446455,\n",
              "  0.19035459076649383,\n",
              "  0.18576148540692713,\n",
              "  0.18868085242785013,\n",
              "  0.1937333549815799,\n",
              "  0.18349428328795947,\n",
              "  0.1812541444966592,\n",
              "  0.18443896643801944,\n",
              "  0.185702479320876,\n",
              "  0.1895051229432958,\n",
              "  0.1884877646583896,\n",
              "  0.18788453295828386,\n",
              "  0.18774332537358082,\n",
              "  0.1872163196811693,\n",
              "  0.18855455790521886,\n",
              "  0.18771938113745423,\n",
              "  0.18734147889071312,\n",
              "  0.1856234301277116,\n",
              "  0.19264873543514086,\n",
              "  0.18378425915941612,\n",
              "  0.19048397720561863,\n",
              "  0.1848115212393406,\n",
              "  0.18570562558746415,\n",
              "  0.1953490051468815,\n",
              "  0.1869257036863761,\n",
              "  0.18715924906237633],\n",
              " 'dev_loss_history': [1.4280058145523071,\n",
              "  1.1497913599014282,\n",
              "  0.9072167277336121,\n",
              "  0.7861899733543396,\n",
              "  0.7203287482261658,\n",
              "  0.6077463626861572,\n",
              "  0.5552776455879211,\n",
              "  0.5207133889198303,\n",
              "  0.4631645381450653,\n",
              "  0.44399240612983704,\n",
              "  0.46987926959991455,\n",
              "  0.45975542068481445,\n",
              "  0.40226444602012634,\n",
              "  0.38676440715789795,\n",
              "  0.36473923921585083,\n",
              "  0.4086073338985443,\n",
              "  0.3364291191101074,\n",
              "  0.37573888897895813,\n",
              "  0.3406948745250702,\n",
              "  0.3607356548309326,\n",
              "  0.32204529643058777,\n",
              "  0.3162772059440613,\n",
              "  0.3486844003200531,\n",
              "  0.3387260437011719,\n",
              "  0.2928802967071533,\n",
              "  0.29827409982681274,\n",
              "  0.28877121210098267,\n",
              "  0.28223636746406555,\n",
              "  0.30731895565986633,\n",
              "  0.27522963285446167,\n",
              "  0.2862958610057831,\n",
              "  0.30172014236450195,\n",
              "  0.2757229208946228,\n",
              "  0.30342915654182434,\n",
              "  0.2989812195301056,\n",
              "  0.2821022570133209,\n",
              "  0.27540674805641174,\n",
              "  0.28456756472587585,\n",
              "  0.2784941792488098,\n",
              "  0.2884712517261505,\n",
              "  0.2798924744129181,\n",
              "  0.29521867632865906,\n",
              "  0.2905198633670807,\n",
              "  0.27080249786376953,\n",
              "  0.2782122790813446,\n",
              "  0.2782062888145447,\n",
              "  0.28149256110191345,\n",
              "  0.2791893184185028,\n",
              "  0.28210175037384033,\n",
              "  0.2772569954395294,\n",
              "  0.2749207019805908,\n",
              "  0.279236376285553,\n",
              "  0.2786193788051605,\n",
              "  0.27725186944007874,\n",
              "  0.27417632937431335,\n",
              "  0.2760467529296875,\n",
              "  0.2757022976875305,\n",
              "  0.27811911702156067,\n",
              "  0.2799461781978607,\n",
              "  0.27929309010505676,\n",
              "  0.2785537838935852,\n",
              "  0.2779005467891693,\n",
              "  0.2772482931613922,\n",
              "  0.27744975686073303,\n",
              "  0.2779826819896698,\n",
              "  0.27777716517448425,\n",
              "  0.2771894633769989,\n",
              "  0.27739477157592773,\n",
              "  0.27675318717956543,\n",
              "  0.2782723307609558,\n",
              "  0.27870944142341614,\n",
              "  0.27796652913093567,\n",
              "  0.2779599726200104,\n",
              "  0.27767637372016907,\n",
              "  0.27846112847328186,\n",
              "  0.2784552574157715,\n",
              "  0.2786221206188202,\n",
              "  0.2786603569984436,\n",
              "  0.2788877785205841,\n",
              "  0.27884408831596375]}"
            ]
          },
          "execution_count": 9,
          "metadata": {},
          "output_type": "execute_result"
        }
      ],
      "source": [
        "from flair.models import SequenceTagger\n",
        "\n",
        "# initialize a BiLSTM-CRF sequence tagger\n",
        "tagger = SequenceTagger(hidden_size=256,\n",
        "                                       embeddings=embeddings,\n",
        "                                       tag_dictionary=tag_dictionary,\n",
        "                                       tag_type=tag_type,\n",
        "                                       use_crf=True)\n",
        "print(tagger)\n",
        "\n",
        "from flair.trainers import ModelTrainer\n",
        "\n",
        "# initialize trainer\n",
        "trainer = ModelTrainer(tagger, corpus)\n",
        "\n",
        "# start training\n",
        "trainer.train('resources/taggers/re3d-ner',\n",
        "              learning_rate=0.1,\n",
        "              mini_batch_size=32,\n",
        "              max_epochs=150)"
      ]
    },
    {
      "cell_type": "markdown",
      "metadata": {},
      "source": [
        "## On general (docred) data"
      ]
    },
    {
      "cell_type": "code",
      "execution_count": null,
      "metadata": {},
      "outputs": [],
      "source": []
    },
    {
      "cell_type": "markdown",
      "metadata": {},
      "source": [
        "# Transformer model for domain-specific dataset"
      ]
    },
    {
      "cell_type": "markdown",
      "metadata": {},
      "source": [
        "## On domain-specific (re3d) data"
      ]
    },
    {
      "cell_type": "code",
      "execution_count": 8,
      "metadata": {},
      "outputs": [
        {
          "name": "stdout",
          "output_type": "stream",
          "text": [
            "2022-11-30 10:57:44,994 SequenceTagger predicts: Dictionary with 41 tags: O, S-Organisation, B-Organisation, E-Organisation, I-Organisation, S-Location, B-Location, E-Location, I-Location, S-Person, B-Person, E-Person, I-Person, S-Temporal, B-Temporal, E-Temporal, I-Temporal, S-Quantity, B-Quantity, E-Quantity, I-Quantity, S-Weapon, B-Weapon, E-Weapon, I-Weapon, S-DocumentReference, B-DocumentReference, E-DocumentReference, I-DocumentReference, S-MilitaryPlatform, B-MilitaryPlatform, E-MilitaryPlatform, I-MilitaryPlatform, S-Nationality, B-Nationality, E-Nationality, I-Nationality, S-Money, B-Money, E-Money, I-Money\n",
            "2022-11-30 10:57:44,999 ----------------------------------------------------------------------------------------------------\n",
            "2022-11-30 10:57:45,000 Model: \"SequenceTagger(\n",
            "  (embeddings): TransformerWordEmbeddings(\n",
            "    (model): XLMRobertaModel(\n",
            "      (embeddings): XLMRobertaEmbeddings(\n",
            "        (word_embeddings): Embedding(250002, 1024, padding_idx=1)\n",
            "        (position_embeddings): Embedding(514, 1024, padding_idx=1)\n",
            "        (token_type_embeddings): Embedding(1, 1024)\n",
            "        (LayerNorm): LayerNorm((1024,), eps=1e-05, elementwise_affine=True)\n",
            "        (dropout): Dropout(p=0.1, inplace=False)\n",
            "      )\n",
            "      (encoder): XLMRobertaEncoder(\n",
            "        (layer): ModuleList(\n",
            "          (0): XLMRobertaLayer(\n",
            "            (attention): XLMRobertaAttention(\n",
            "              (self): XLMRobertaSelfAttention(\n",
            "                (query): Linear(in_features=1024, out_features=1024, bias=True)\n",
            "                (key): Linear(in_features=1024, out_features=1024, bias=True)\n",
            "                (value): Linear(in_features=1024, out_features=1024, bias=True)\n",
            "                (dropout): Dropout(p=0.1, inplace=False)\n",
            "              )\n",
            "              (output): XLMRobertaSelfOutput(\n",
            "                (dense): Linear(in_features=1024, out_features=1024, bias=True)\n",
            "                (LayerNorm): LayerNorm((1024,), eps=1e-05, elementwise_affine=True)\n",
            "                (dropout): Dropout(p=0.1, inplace=False)\n",
            "              )\n",
            "            )\n",
            "            (intermediate): XLMRobertaIntermediate(\n",
            "              (dense): Linear(in_features=1024, out_features=4096, bias=True)\n",
            "              (intermediate_act_fn): GELUActivation()\n",
            "            )\n",
            "            (output): XLMRobertaOutput(\n",
            "              (dense): Linear(in_features=4096, out_features=1024, bias=True)\n",
            "              (LayerNorm): LayerNorm((1024,), eps=1e-05, elementwise_affine=True)\n",
            "              (dropout): Dropout(p=0.1, inplace=False)\n",
            "            )\n",
            "          )\n",
            "          (1): XLMRobertaLayer(\n",
            "            (attention): XLMRobertaAttention(\n",
            "              (self): XLMRobertaSelfAttention(\n",
            "                (query): Linear(in_features=1024, out_features=1024, bias=True)\n",
            "                (key): Linear(in_features=1024, out_features=1024, bias=True)\n",
            "                (value): Linear(in_features=1024, out_features=1024, bias=True)\n",
            "                (dropout): Dropout(p=0.1, inplace=False)\n",
            "              )\n",
            "              (output): XLMRobertaSelfOutput(\n",
            "                (dense): Linear(in_features=1024, out_features=1024, bias=True)\n",
            "                (LayerNorm): LayerNorm((1024,), eps=1e-05, elementwise_affine=True)\n",
            "                (dropout): Dropout(p=0.1, inplace=False)\n",
            "              )\n",
            "            )\n",
            "            (intermediate): XLMRobertaIntermediate(\n",
            "              (dense): Linear(in_features=1024, out_features=4096, bias=True)\n",
            "              (intermediate_act_fn): GELUActivation()\n",
            "            )\n",
            "            (output): XLMRobertaOutput(\n",
            "              (dense): Linear(in_features=4096, out_features=1024, bias=True)\n",
            "              (LayerNorm): LayerNorm((1024,), eps=1e-05, elementwise_affine=True)\n",
            "              (dropout): Dropout(p=0.1, inplace=False)\n",
            "            )\n",
            "          )\n",
            "          (2): XLMRobertaLayer(\n",
            "            (attention): XLMRobertaAttention(\n",
            "              (self): XLMRobertaSelfAttention(\n",
            "                (query): Linear(in_features=1024, out_features=1024, bias=True)\n",
            "                (key): Linear(in_features=1024, out_features=1024, bias=True)\n",
            "                (value): Linear(in_features=1024, out_features=1024, bias=True)\n",
            "                (dropout): Dropout(p=0.1, inplace=False)\n",
            "              )\n",
            "              (output): XLMRobertaSelfOutput(\n",
            "                (dense): Linear(in_features=1024, out_features=1024, bias=True)\n",
            "                (LayerNorm): LayerNorm((1024,), eps=1e-05, elementwise_affine=True)\n",
            "                (dropout): Dropout(p=0.1, inplace=False)\n",
            "              )\n",
            "            )\n",
            "            (intermediate): XLMRobertaIntermediate(\n",
            "              (dense): Linear(in_features=1024, out_features=4096, bias=True)\n",
            "              (intermediate_act_fn): GELUActivation()\n",
            "            )\n",
            "            (output): XLMRobertaOutput(\n",
            "              (dense): Linear(in_features=4096, out_features=1024, bias=True)\n",
            "              (LayerNorm): LayerNorm((1024,), eps=1e-05, elementwise_affine=True)\n",
            "              (dropout): Dropout(p=0.1, inplace=False)\n",
            "            )\n",
            "          )\n",
            "          (3): XLMRobertaLayer(\n",
            "            (attention): XLMRobertaAttention(\n",
            "              (self): XLMRobertaSelfAttention(\n",
            "                (query): Linear(in_features=1024, out_features=1024, bias=True)\n",
            "                (key): Linear(in_features=1024, out_features=1024, bias=True)\n",
            "                (value): Linear(in_features=1024, out_features=1024, bias=True)\n",
            "                (dropout): Dropout(p=0.1, inplace=False)\n",
            "              )\n",
            "              (output): XLMRobertaSelfOutput(\n",
            "                (dense): Linear(in_features=1024, out_features=1024, bias=True)\n",
            "                (LayerNorm): LayerNorm((1024,), eps=1e-05, elementwise_affine=True)\n",
            "                (dropout): Dropout(p=0.1, inplace=False)\n",
            "              )\n",
            "            )\n",
            "            (intermediate): XLMRobertaIntermediate(\n",
            "              (dense): Linear(in_features=1024, out_features=4096, bias=True)\n",
            "              (intermediate_act_fn): GELUActivation()\n",
            "            )\n",
            "            (output): XLMRobertaOutput(\n",
            "              (dense): Linear(in_features=4096, out_features=1024, bias=True)\n",
            "              (LayerNorm): LayerNorm((1024,), eps=1e-05, elementwise_affine=True)\n",
            "              (dropout): Dropout(p=0.1, inplace=False)\n",
            "            )\n",
            "          )\n",
            "          (4): XLMRobertaLayer(\n",
            "            (attention): XLMRobertaAttention(\n",
            "              (self): XLMRobertaSelfAttention(\n",
            "                (query): Linear(in_features=1024, out_features=1024, bias=True)\n",
            "                (key): Linear(in_features=1024, out_features=1024, bias=True)\n",
            "                (value): Linear(in_features=1024, out_features=1024, bias=True)\n",
            "                (dropout): Dropout(p=0.1, inplace=False)\n",
            "              )\n",
            "              (output): XLMRobertaSelfOutput(\n",
            "                (dense): Linear(in_features=1024, out_features=1024, bias=True)\n",
            "                (LayerNorm): LayerNorm((1024,), eps=1e-05, elementwise_affine=True)\n",
            "                (dropout): Dropout(p=0.1, inplace=False)\n",
            "              )\n",
            "            )\n",
            "            (intermediate): XLMRobertaIntermediate(\n",
            "              (dense): Linear(in_features=1024, out_features=4096, bias=True)\n",
            "              (intermediate_act_fn): GELUActivation()\n",
            "            )\n",
            "            (output): XLMRobertaOutput(\n",
            "              (dense): Linear(in_features=4096, out_features=1024, bias=True)\n",
            "              (LayerNorm): LayerNorm((1024,), eps=1e-05, elementwise_affine=True)\n",
            "              (dropout): Dropout(p=0.1, inplace=False)\n",
            "            )\n",
            "          )\n",
            "          (5): XLMRobertaLayer(\n",
            "            (attention): XLMRobertaAttention(\n",
            "              (self): XLMRobertaSelfAttention(\n",
            "                (query): Linear(in_features=1024, out_features=1024, bias=True)\n",
            "                (key): Linear(in_features=1024, out_features=1024, bias=True)\n",
            "                (value): Linear(in_features=1024, out_features=1024, bias=True)\n",
            "                (dropout): Dropout(p=0.1, inplace=False)\n",
            "              )\n",
            "              (output): XLMRobertaSelfOutput(\n",
            "                (dense): Linear(in_features=1024, out_features=1024, bias=True)\n",
            "                (LayerNorm): LayerNorm((1024,), eps=1e-05, elementwise_affine=True)\n",
            "                (dropout): Dropout(p=0.1, inplace=False)\n",
            "              )\n",
            "            )\n",
            "            (intermediate): XLMRobertaIntermediate(\n",
            "              (dense): Linear(in_features=1024, out_features=4096, bias=True)\n",
            "              (intermediate_act_fn): GELUActivation()\n",
            "            )\n",
            "            (output): XLMRobertaOutput(\n",
            "              (dense): Linear(in_features=4096, out_features=1024, bias=True)\n",
            "              (LayerNorm): LayerNorm((1024,), eps=1e-05, elementwise_affine=True)\n",
            "              (dropout): Dropout(p=0.1, inplace=False)\n",
            "            )\n",
            "          )\n",
            "          (6): XLMRobertaLayer(\n",
            "            (attention): XLMRobertaAttention(\n",
            "              (self): XLMRobertaSelfAttention(\n",
            "                (query): Linear(in_features=1024, out_features=1024, bias=True)\n",
            "                (key): Linear(in_features=1024, out_features=1024, bias=True)\n",
            "                (value): Linear(in_features=1024, out_features=1024, bias=True)\n",
            "                (dropout): Dropout(p=0.1, inplace=False)\n",
            "              )\n",
            "              (output): XLMRobertaSelfOutput(\n",
            "                (dense): Linear(in_features=1024, out_features=1024, bias=True)\n",
            "                (LayerNorm): LayerNorm((1024,), eps=1e-05, elementwise_affine=True)\n",
            "                (dropout): Dropout(p=0.1, inplace=False)\n",
            "              )\n",
            "            )\n",
            "            (intermediate): XLMRobertaIntermediate(\n",
            "              (dense): Linear(in_features=1024, out_features=4096, bias=True)\n",
            "              (intermediate_act_fn): GELUActivation()\n",
            "            )\n",
            "            (output): XLMRobertaOutput(\n",
            "              (dense): Linear(in_features=4096, out_features=1024, bias=True)\n",
            "              (LayerNorm): LayerNorm((1024,), eps=1e-05, elementwise_affine=True)\n",
            "              (dropout): Dropout(p=0.1, inplace=False)\n",
            "            )\n",
            "          )\n",
            "          (7): XLMRobertaLayer(\n",
            "            (attention): XLMRobertaAttention(\n",
            "              (self): XLMRobertaSelfAttention(\n",
            "                (query): Linear(in_features=1024, out_features=1024, bias=True)\n",
            "                (key): Linear(in_features=1024, out_features=1024, bias=True)\n",
            "                (value): Linear(in_features=1024, out_features=1024, bias=True)\n",
            "                (dropout): Dropout(p=0.1, inplace=False)\n",
            "              )\n",
            "              (output): XLMRobertaSelfOutput(\n",
            "                (dense): Linear(in_features=1024, out_features=1024, bias=True)\n",
            "                (LayerNorm): LayerNorm((1024,), eps=1e-05, elementwise_affine=True)\n",
            "                (dropout): Dropout(p=0.1, inplace=False)\n",
            "              )\n",
            "            )\n",
            "            (intermediate): XLMRobertaIntermediate(\n",
            "              (dense): Linear(in_features=1024, out_features=4096, bias=True)\n",
            "              (intermediate_act_fn): GELUActivation()\n",
            "            )\n",
            "            (output): XLMRobertaOutput(\n",
            "              (dense): Linear(in_features=4096, out_features=1024, bias=True)\n",
            "              (LayerNorm): LayerNorm((1024,), eps=1e-05, elementwise_affine=True)\n",
            "              (dropout): Dropout(p=0.1, inplace=False)\n",
            "            )\n",
            "          )\n",
            "          (8): XLMRobertaLayer(\n",
            "            (attention): XLMRobertaAttention(\n",
            "              (self): XLMRobertaSelfAttention(\n",
            "                (query): Linear(in_features=1024, out_features=1024, bias=True)\n",
            "                (key): Linear(in_features=1024, out_features=1024, bias=True)\n",
            "                (value): Linear(in_features=1024, out_features=1024, bias=True)\n",
            "                (dropout): Dropout(p=0.1, inplace=False)\n",
            "              )\n",
            "              (output): XLMRobertaSelfOutput(\n",
            "                (dense): Linear(in_features=1024, out_features=1024, bias=True)\n",
            "                (LayerNorm): LayerNorm((1024,), eps=1e-05, elementwise_affine=True)\n",
            "                (dropout): Dropout(p=0.1, inplace=False)\n",
            "              )\n",
            "            )\n",
            "            (intermediate): XLMRobertaIntermediate(\n",
            "              (dense): Linear(in_features=1024, out_features=4096, bias=True)\n",
            "              (intermediate_act_fn): GELUActivation()\n",
            "            )\n",
            "            (output): XLMRobertaOutput(\n",
            "              (dense): Linear(in_features=4096, out_features=1024, bias=True)\n",
            "              (LayerNorm): LayerNorm((1024,), eps=1e-05, elementwise_affine=True)\n",
            "              (dropout): Dropout(p=0.1, inplace=False)\n",
            "            )\n",
            "          )\n",
            "          (9): XLMRobertaLayer(\n",
            "            (attention): XLMRobertaAttention(\n",
            "              (self): XLMRobertaSelfAttention(\n",
            "                (query): Linear(in_features=1024, out_features=1024, bias=True)\n",
            "                (key): Linear(in_features=1024, out_features=1024, bias=True)\n",
            "                (value): Linear(in_features=1024, out_features=1024, bias=True)\n",
            "                (dropout): Dropout(p=0.1, inplace=False)\n",
            "              )\n",
            "              (output): XLMRobertaSelfOutput(\n",
            "                (dense): Linear(in_features=1024, out_features=1024, bias=True)\n",
            "                (LayerNorm): LayerNorm((1024,), eps=1e-05, elementwise_affine=True)\n",
            "                (dropout): Dropout(p=0.1, inplace=False)\n",
            "              )\n",
            "            )\n",
            "            (intermediate): XLMRobertaIntermediate(\n",
            "              (dense): Linear(in_features=1024, out_features=4096, bias=True)\n",
            "              (intermediate_act_fn): GELUActivation()\n",
            "            )\n",
            "            (output): XLMRobertaOutput(\n",
            "              (dense): Linear(in_features=4096, out_features=1024, bias=True)\n",
            "              (LayerNorm): LayerNorm((1024,), eps=1e-05, elementwise_affine=True)\n",
            "              (dropout): Dropout(p=0.1, inplace=False)\n",
            "            )\n",
            "          )\n",
            "          (10): XLMRobertaLayer(\n",
            "            (attention): XLMRobertaAttention(\n",
            "              (self): XLMRobertaSelfAttention(\n",
            "                (query): Linear(in_features=1024, out_features=1024, bias=True)\n",
            "                (key): Linear(in_features=1024, out_features=1024, bias=True)\n",
            "                (value): Linear(in_features=1024, out_features=1024, bias=True)\n",
            "                (dropout): Dropout(p=0.1, inplace=False)\n",
            "              )\n",
            "              (output): XLMRobertaSelfOutput(\n",
            "                (dense): Linear(in_features=1024, out_features=1024, bias=True)\n",
            "                (LayerNorm): LayerNorm((1024,), eps=1e-05, elementwise_affine=True)\n",
            "                (dropout): Dropout(p=0.1, inplace=False)\n",
            "              )\n",
            "            )\n",
            "            (intermediate): XLMRobertaIntermediate(\n",
            "              (dense): Linear(in_features=1024, out_features=4096, bias=True)\n",
            "              (intermediate_act_fn): GELUActivation()\n",
            "            )\n",
            "            (output): XLMRobertaOutput(\n",
            "              (dense): Linear(in_features=4096, out_features=1024, bias=True)\n",
            "              (LayerNorm): LayerNorm((1024,), eps=1e-05, elementwise_affine=True)\n",
            "              (dropout): Dropout(p=0.1, inplace=False)\n",
            "            )\n",
            "          )\n",
            "          (11): XLMRobertaLayer(\n",
            "            (attention): XLMRobertaAttention(\n",
            "              (self): XLMRobertaSelfAttention(\n",
            "                (query): Linear(in_features=1024, out_features=1024, bias=True)\n",
            "                (key): Linear(in_features=1024, out_features=1024, bias=True)\n",
            "                (value): Linear(in_features=1024, out_features=1024, bias=True)\n",
            "                (dropout): Dropout(p=0.1, inplace=False)\n",
            "              )\n",
            "              (output): XLMRobertaSelfOutput(\n",
            "                (dense): Linear(in_features=1024, out_features=1024, bias=True)\n",
            "                (LayerNorm): LayerNorm((1024,), eps=1e-05, elementwise_affine=True)\n",
            "                (dropout): Dropout(p=0.1, inplace=False)\n",
            "              )\n",
            "            )\n",
            "            (intermediate): XLMRobertaIntermediate(\n",
            "              (dense): Linear(in_features=1024, out_features=4096, bias=True)\n",
            "              (intermediate_act_fn): GELUActivation()\n",
            "            )\n",
            "            (output): XLMRobertaOutput(\n",
            "              (dense): Linear(in_features=4096, out_features=1024, bias=True)\n",
            "              (LayerNorm): LayerNorm((1024,), eps=1e-05, elementwise_affine=True)\n",
            "              (dropout): Dropout(p=0.1, inplace=False)\n",
            "            )\n",
            "          )\n",
            "          (12): XLMRobertaLayer(\n",
            "            (attention): XLMRobertaAttention(\n",
            "              (self): XLMRobertaSelfAttention(\n",
            "                (query): Linear(in_features=1024, out_features=1024, bias=True)\n",
            "                (key): Linear(in_features=1024, out_features=1024, bias=True)\n",
            "                (value): Linear(in_features=1024, out_features=1024, bias=True)\n",
            "                (dropout): Dropout(p=0.1, inplace=False)\n",
            "              )\n",
            "              (output): XLMRobertaSelfOutput(\n",
            "                (dense): Linear(in_features=1024, out_features=1024, bias=True)\n",
            "                (LayerNorm): LayerNorm((1024,), eps=1e-05, elementwise_affine=True)\n",
            "                (dropout): Dropout(p=0.1, inplace=False)\n",
            "              )\n",
            "            )\n",
            "            (intermediate): XLMRobertaIntermediate(\n",
            "              (dense): Linear(in_features=1024, out_features=4096, bias=True)\n",
            "              (intermediate_act_fn): GELUActivation()\n",
            "            )\n",
            "            (output): XLMRobertaOutput(\n",
            "              (dense): Linear(in_features=4096, out_features=1024, bias=True)\n",
            "              (LayerNorm): LayerNorm((1024,), eps=1e-05, elementwise_affine=True)\n",
            "              (dropout): Dropout(p=0.1, inplace=False)\n",
            "            )\n",
            "          )\n",
            "          (13): XLMRobertaLayer(\n",
            "            (attention): XLMRobertaAttention(\n",
            "              (self): XLMRobertaSelfAttention(\n",
            "                (query): Linear(in_features=1024, out_features=1024, bias=True)\n",
            "                (key): Linear(in_features=1024, out_features=1024, bias=True)\n",
            "                (value): Linear(in_features=1024, out_features=1024, bias=True)\n",
            "                (dropout): Dropout(p=0.1, inplace=False)\n",
            "              )\n",
            "              (output): XLMRobertaSelfOutput(\n",
            "                (dense): Linear(in_features=1024, out_features=1024, bias=True)\n",
            "                (LayerNorm): LayerNorm((1024,), eps=1e-05, elementwise_affine=True)\n",
            "                (dropout): Dropout(p=0.1, inplace=False)\n",
            "              )\n",
            "            )\n",
            "            (intermediate): XLMRobertaIntermediate(\n",
            "              (dense): Linear(in_features=1024, out_features=4096, bias=True)\n",
            "              (intermediate_act_fn): GELUActivation()\n",
            "            )\n",
            "            (output): XLMRobertaOutput(\n",
            "              (dense): Linear(in_features=4096, out_features=1024, bias=True)\n",
            "              (LayerNorm): LayerNorm((1024,), eps=1e-05, elementwise_affine=True)\n",
            "              (dropout): Dropout(p=0.1, inplace=False)\n",
            "            )\n",
            "          )\n",
            "          (14): XLMRobertaLayer(\n",
            "            (attention): XLMRobertaAttention(\n",
            "              (self): XLMRobertaSelfAttention(\n",
            "                (query): Linear(in_features=1024, out_features=1024, bias=True)\n",
            "                (key): Linear(in_features=1024, out_features=1024, bias=True)\n",
            "                (value): Linear(in_features=1024, out_features=1024, bias=True)\n",
            "                (dropout): Dropout(p=0.1, inplace=False)\n",
            "              )\n",
            "              (output): XLMRobertaSelfOutput(\n",
            "                (dense): Linear(in_features=1024, out_features=1024, bias=True)\n",
            "                (LayerNorm): LayerNorm((1024,), eps=1e-05, elementwise_affine=True)\n",
            "                (dropout): Dropout(p=0.1, inplace=False)\n",
            "              )\n",
            "            )\n",
            "            (intermediate): XLMRobertaIntermediate(\n",
            "              (dense): Linear(in_features=1024, out_features=4096, bias=True)\n",
            "              (intermediate_act_fn): GELUActivation()\n",
            "            )\n",
            "            (output): XLMRobertaOutput(\n",
            "              (dense): Linear(in_features=4096, out_features=1024, bias=True)\n",
            "              (LayerNorm): LayerNorm((1024,), eps=1e-05, elementwise_affine=True)\n",
            "              (dropout): Dropout(p=0.1, inplace=False)\n",
            "            )\n",
            "          )\n",
            "          (15): XLMRobertaLayer(\n",
            "            (attention): XLMRobertaAttention(\n",
            "              (self): XLMRobertaSelfAttention(\n",
            "                (query): Linear(in_features=1024, out_features=1024, bias=True)\n",
            "                (key): Linear(in_features=1024, out_features=1024, bias=True)\n",
            "                (value): Linear(in_features=1024, out_features=1024, bias=True)\n",
            "                (dropout): Dropout(p=0.1, inplace=False)\n",
            "              )\n",
            "              (output): XLMRobertaSelfOutput(\n",
            "                (dense): Linear(in_features=1024, out_features=1024, bias=True)\n",
            "                (LayerNorm): LayerNorm((1024,), eps=1e-05, elementwise_affine=True)\n",
            "                (dropout): Dropout(p=0.1, inplace=False)\n",
            "              )\n",
            "            )\n",
            "            (intermediate): XLMRobertaIntermediate(\n",
            "              (dense): Linear(in_features=1024, out_features=4096, bias=True)\n",
            "              (intermediate_act_fn): GELUActivation()\n",
            "            )\n",
            "            (output): XLMRobertaOutput(\n",
            "              (dense): Linear(in_features=4096, out_features=1024, bias=True)\n",
            "              (LayerNorm): LayerNorm((1024,), eps=1e-05, elementwise_affine=True)\n",
            "              (dropout): Dropout(p=0.1, inplace=False)\n",
            "            )\n",
            "          )\n",
            "          (16): XLMRobertaLayer(\n",
            "            (attention): XLMRobertaAttention(\n",
            "              (self): XLMRobertaSelfAttention(\n",
            "                (query): Linear(in_features=1024, out_features=1024, bias=True)\n",
            "                (key): Linear(in_features=1024, out_features=1024, bias=True)\n",
            "                (value): Linear(in_features=1024, out_features=1024, bias=True)\n",
            "                (dropout): Dropout(p=0.1, inplace=False)\n",
            "              )\n",
            "              (output): XLMRobertaSelfOutput(\n",
            "                (dense): Linear(in_features=1024, out_features=1024, bias=True)\n",
            "                (LayerNorm): LayerNorm((1024,), eps=1e-05, elementwise_affine=True)\n",
            "                (dropout): Dropout(p=0.1, inplace=False)\n",
            "              )\n",
            "            )\n",
            "            (intermediate): XLMRobertaIntermediate(\n",
            "              (dense): Linear(in_features=1024, out_features=4096, bias=True)\n",
            "              (intermediate_act_fn): GELUActivation()\n",
            "            )\n",
            "            (output): XLMRobertaOutput(\n",
            "              (dense): Linear(in_features=4096, out_features=1024, bias=True)\n",
            "              (LayerNorm): LayerNorm((1024,), eps=1e-05, elementwise_affine=True)\n",
            "              (dropout): Dropout(p=0.1, inplace=False)\n",
            "            )\n",
            "          )\n",
            "          (17): XLMRobertaLayer(\n",
            "            (attention): XLMRobertaAttention(\n",
            "              (self): XLMRobertaSelfAttention(\n",
            "                (query): Linear(in_features=1024, out_features=1024, bias=True)\n",
            "                (key): Linear(in_features=1024, out_features=1024, bias=True)\n",
            "                (value): Linear(in_features=1024, out_features=1024, bias=True)\n",
            "                (dropout): Dropout(p=0.1, inplace=False)\n",
            "              )\n",
            "              (output): XLMRobertaSelfOutput(\n",
            "                (dense): Linear(in_features=1024, out_features=1024, bias=True)\n",
            "                (LayerNorm): LayerNorm((1024,), eps=1e-05, elementwise_affine=True)\n",
            "                (dropout): Dropout(p=0.1, inplace=False)\n",
            "              )\n",
            "            )\n",
            "            (intermediate): XLMRobertaIntermediate(\n",
            "              (dense): Linear(in_features=1024, out_features=4096, bias=True)\n",
            "              (intermediate_act_fn): GELUActivation()\n",
            "            )\n",
            "            (output): XLMRobertaOutput(\n",
            "              (dense): Linear(in_features=4096, out_features=1024, bias=True)\n",
            "              (LayerNorm): LayerNorm((1024,), eps=1e-05, elementwise_affine=True)\n",
            "              (dropout): Dropout(p=0.1, inplace=False)\n",
            "            )\n",
            "          )\n",
            "          (18): XLMRobertaLayer(\n",
            "            (attention): XLMRobertaAttention(\n",
            "              (self): XLMRobertaSelfAttention(\n",
            "                (query): Linear(in_features=1024, out_features=1024, bias=True)\n",
            "                (key): Linear(in_features=1024, out_features=1024, bias=True)\n",
            "                (value): Linear(in_features=1024, out_features=1024, bias=True)\n",
            "                (dropout): Dropout(p=0.1, inplace=False)\n",
            "              )\n",
            "              (output): XLMRobertaSelfOutput(\n",
            "                (dense): Linear(in_features=1024, out_features=1024, bias=True)\n",
            "                (LayerNorm): LayerNorm((1024,), eps=1e-05, elementwise_affine=True)\n",
            "                (dropout): Dropout(p=0.1, inplace=False)\n",
            "              )\n",
            "            )\n",
            "            (intermediate): XLMRobertaIntermediate(\n",
            "              (dense): Linear(in_features=1024, out_features=4096, bias=True)\n",
            "              (intermediate_act_fn): GELUActivation()\n",
            "            )\n",
            "            (output): XLMRobertaOutput(\n",
            "              (dense): Linear(in_features=4096, out_features=1024, bias=True)\n",
            "              (LayerNorm): LayerNorm((1024,), eps=1e-05, elementwise_affine=True)\n",
            "              (dropout): Dropout(p=0.1, inplace=False)\n",
            "            )\n",
            "          )\n",
            "          (19): XLMRobertaLayer(\n",
            "            (attention): XLMRobertaAttention(\n",
            "              (self): XLMRobertaSelfAttention(\n",
            "                (query): Linear(in_features=1024, out_features=1024, bias=True)\n",
            "                (key): Linear(in_features=1024, out_features=1024, bias=True)\n",
            "                (value): Linear(in_features=1024, out_features=1024, bias=True)\n",
            "                (dropout): Dropout(p=0.1, inplace=False)\n",
            "              )\n",
            "              (output): XLMRobertaSelfOutput(\n",
            "                (dense): Linear(in_features=1024, out_features=1024, bias=True)\n",
            "                (LayerNorm): LayerNorm((1024,), eps=1e-05, elementwise_affine=True)\n",
            "                (dropout): Dropout(p=0.1, inplace=False)\n",
            "              )\n",
            "            )\n",
            "            (intermediate): XLMRobertaIntermediate(\n",
            "              (dense): Linear(in_features=1024, out_features=4096, bias=True)\n",
            "              (intermediate_act_fn): GELUActivation()\n",
            "            )\n",
            "            (output): XLMRobertaOutput(\n",
            "              (dense): Linear(in_features=4096, out_features=1024, bias=True)\n",
            "              (LayerNorm): LayerNorm((1024,), eps=1e-05, elementwise_affine=True)\n",
            "              (dropout): Dropout(p=0.1, inplace=False)\n",
            "            )\n",
            "          )\n",
            "          (20): XLMRobertaLayer(\n",
            "            (attention): XLMRobertaAttention(\n",
            "              (self): XLMRobertaSelfAttention(\n",
            "                (query): Linear(in_features=1024, out_features=1024, bias=True)\n",
            "                (key): Linear(in_features=1024, out_features=1024, bias=True)\n",
            "                (value): Linear(in_features=1024, out_features=1024, bias=True)\n",
            "                (dropout): Dropout(p=0.1, inplace=False)\n",
            "              )\n",
            "              (output): XLMRobertaSelfOutput(\n",
            "                (dense): Linear(in_features=1024, out_features=1024, bias=True)\n",
            "                (LayerNorm): LayerNorm((1024,), eps=1e-05, elementwise_affine=True)\n",
            "                (dropout): Dropout(p=0.1, inplace=False)\n",
            "              )\n",
            "            )\n",
            "            (intermediate): XLMRobertaIntermediate(\n",
            "              (dense): Linear(in_features=1024, out_features=4096, bias=True)\n",
            "              (intermediate_act_fn): GELUActivation()\n",
            "            )\n",
            "            (output): XLMRobertaOutput(\n",
            "              (dense): Linear(in_features=4096, out_features=1024, bias=True)\n",
            "              (LayerNorm): LayerNorm((1024,), eps=1e-05, elementwise_affine=True)\n",
            "              (dropout): Dropout(p=0.1, inplace=False)\n",
            "            )\n",
            "          )\n",
            "          (21): XLMRobertaLayer(\n",
            "            (attention): XLMRobertaAttention(\n",
            "              (self): XLMRobertaSelfAttention(\n",
            "                (query): Linear(in_features=1024, out_features=1024, bias=True)\n",
            "                (key): Linear(in_features=1024, out_features=1024, bias=True)\n",
            "                (value): Linear(in_features=1024, out_features=1024, bias=True)\n",
            "                (dropout): Dropout(p=0.1, inplace=False)\n",
            "              )\n",
            "              (output): XLMRobertaSelfOutput(\n",
            "                (dense): Linear(in_features=1024, out_features=1024, bias=True)\n",
            "                (LayerNorm): LayerNorm((1024,), eps=1e-05, elementwise_affine=True)\n",
            "                (dropout): Dropout(p=0.1, inplace=False)\n",
            "              )\n",
            "            )\n",
            "            (intermediate): XLMRobertaIntermediate(\n",
            "              (dense): Linear(in_features=1024, out_features=4096, bias=True)\n",
            "              (intermediate_act_fn): GELUActivation()\n",
            "            )\n",
            "            (output): XLMRobertaOutput(\n",
            "              (dense): Linear(in_features=4096, out_features=1024, bias=True)\n",
            "              (LayerNorm): LayerNorm((1024,), eps=1e-05, elementwise_affine=True)\n",
            "              (dropout): Dropout(p=0.1, inplace=False)\n",
            "            )\n",
            "          )\n",
            "          (22): XLMRobertaLayer(\n",
            "            (attention): XLMRobertaAttention(\n",
            "              (self): XLMRobertaSelfAttention(\n",
            "                (query): Linear(in_features=1024, out_features=1024, bias=True)\n",
            "                (key): Linear(in_features=1024, out_features=1024, bias=True)\n",
            "                (value): Linear(in_features=1024, out_features=1024, bias=True)\n",
            "                (dropout): Dropout(p=0.1, inplace=False)\n",
            "              )\n",
            "              (output): XLMRobertaSelfOutput(\n",
            "                (dense): Linear(in_features=1024, out_features=1024, bias=True)\n",
            "                (LayerNorm): LayerNorm((1024,), eps=1e-05, elementwise_affine=True)\n",
            "                (dropout): Dropout(p=0.1, inplace=False)\n",
            "              )\n",
            "            )\n",
            "            (intermediate): XLMRobertaIntermediate(\n",
            "              (dense): Linear(in_features=1024, out_features=4096, bias=True)\n",
            "              (intermediate_act_fn): GELUActivation()\n",
            "            )\n",
            "            (output): XLMRobertaOutput(\n",
            "              (dense): Linear(in_features=4096, out_features=1024, bias=True)\n",
            "              (LayerNorm): LayerNorm((1024,), eps=1e-05, elementwise_affine=True)\n",
            "              (dropout): Dropout(p=0.1, inplace=False)\n",
            "            )\n",
            "          )\n",
            "          (23): XLMRobertaLayer(\n",
            "            (attention): XLMRobertaAttention(\n",
            "              (self): XLMRobertaSelfAttention(\n",
            "                (query): Linear(in_features=1024, out_features=1024, bias=True)\n",
            "                (key): Linear(in_features=1024, out_features=1024, bias=True)\n",
            "                (value): Linear(in_features=1024, out_features=1024, bias=True)\n",
            "                (dropout): Dropout(p=0.1, inplace=False)\n",
            "              )\n",
            "              (output): XLMRobertaSelfOutput(\n",
            "                (dense): Linear(in_features=1024, out_features=1024, bias=True)\n",
            "                (LayerNorm): LayerNorm((1024,), eps=1e-05, elementwise_affine=True)\n",
            "                (dropout): Dropout(p=0.1, inplace=False)\n",
            "              )\n",
            "            )\n",
            "            (intermediate): XLMRobertaIntermediate(\n",
            "              (dense): Linear(in_features=1024, out_features=4096, bias=True)\n",
            "              (intermediate_act_fn): GELUActivation()\n",
            "            )\n",
            "            (output): XLMRobertaOutput(\n",
            "              (dense): Linear(in_features=4096, out_features=1024, bias=True)\n",
            "              (LayerNorm): LayerNorm((1024,), eps=1e-05, elementwise_affine=True)\n",
            "              (dropout): Dropout(p=0.1, inplace=False)\n",
            "            )\n",
            "          )\n",
            "        )\n",
            "      )\n",
            "      (pooler): XLMRobertaPooler(\n",
            "        (dense): Linear(in_features=1024, out_features=1024, bias=True)\n",
            "        (activation): Tanh()\n",
            "      )\n",
            "    )\n",
            "  )\n",
            "  (word_dropout): WordDropout(p=0.05)\n",
            "  (locked_dropout): LockedDropout(p=0.5)\n",
            "  (linear): Linear(in_features=1024, out_features=41, bias=True)\n",
            "  (loss_function): CrossEntropyLoss()\n",
            ")\"\n",
            "2022-11-30 10:57:45,001 ----------------------------------------------------------------------------------------------------\n",
            "2022-11-30 10:57:45,001 Corpus: \"Corpus: 771 train + 98 dev + 96 test sentences\"\n",
            "2022-11-30 10:57:45,002 ----------------------------------------------------------------------------------------------------\n",
            "2022-11-30 10:57:45,002 Parameters:\n",
            "2022-11-30 10:57:45,002  - learning_rate: \"0.000005\"\n",
            "2022-11-30 10:57:45,003  - mini_batch_size: \"4\"\n",
            "2022-11-30 10:57:45,003  - patience: \"3\"\n",
            "2022-11-30 10:57:45,003  - anneal_factor: \"0.5\"\n",
            "2022-11-30 10:57:45,004  - max_epochs: \"10\"\n",
            "2022-11-30 10:57:45,004  - shuffle: \"True\"\n",
            "2022-11-30 10:57:45,004  - train_with_dev: \"False\"\n",
            "2022-11-30 10:57:45,005  - batch_growth_annealing: \"False\"\n",
            "2022-11-30 10:57:45,005 ----------------------------------------------------------------------------------------------------\n",
            "2022-11-30 10:57:45,005 Model training base path: \"resources/taggers/sota-ner-flert\"\n",
            "2022-11-30 10:57:45,006 ----------------------------------------------------------------------------------------------------\n",
            "2022-11-30 10:57:45,006 Device: cpu\n",
            "2022-11-30 10:57:45,006 ----------------------------------------------------------------------------------------------------\n",
            "2022-11-30 10:57:45,007 Embeddings storage mode: none\n",
            "2022-11-30 10:57:45,007 ----------------------------------------------------------------------------------------------------\n",
            "2022-11-30 10:59:15,363 epoch 1 - iter 19/193 - loss 4.54514738 - samples/sec: 0.84 - lr: 0.000000\n",
            "2022-11-30 11:00:48,207 epoch 1 - iter 38/193 - loss 4.43272621 - samples/sec: 0.82 - lr: 0.000001\n",
            "2022-11-30 11:02:23,672 epoch 1 - iter 57/193 - loss 4.36420443 - samples/sec: 0.80 - lr: 0.000001\n",
            "2022-11-30 11:04:02,863 epoch 1 - iter 76/193 - loss 4.23338053 - samples/sec: 0.77 - lr: 0.000002\n",
            "2022-11-30 11:05:40,397 epoch 1 - iter 95/193 - loss 4.07733612 - samples/sec: 0.78 - lr: 0.000002\n",
            "2022-11-30 11:07:24,554 epoch 1 - iter 114/193 - loss 3.79461002 - samples/sec: 0.73 - lr: 0.000003\n",
            "2022-11-30 11:09:04,787 epoch 1 - iter 133/193 - loss 3.51177080 - samples/sec: 0.76 - lr: 0.000003\n",
            "2022-11-30 11:10:43,154 epoch 1 - iter 152/193 - loss 3.30658618 - samples/sec: 0.77 - lr: 0.000004\n",
            "2022-11-30 11:12:23,546 epoch 1 - iter 171/193 - loss 3.13841904 - samples/sec: 0.76 - lr: 0.000004\n",
            "2022-11-30 11:14:05,709 epoch 1 - iter 190/193 - loss 2.99444204 - samples/sec: 0.74 - lr: 0.000005\n",
            "2022-11-30 11:14:19,530 ----------------------------------------------------------------------------------------------------\n",
            "2022-11-30 11:14:19,531 EPOCH 1 done: loss 2.9750 - lr 0.000005\n"
          ]
        },
        {
          "name": "stderr",
          "output_type": "stream",
          "text": [
            "100%|██████████| 25/25 [00:26<00:00,  1.06s/it]"
          ]
        },
        {
          "name": "stdout",
          "output_type": "stream",
          "text": [
            "2022-11-30 11:14:46,124 Evaluating as a multi-label problem: False\n",
            "2022-11-30 11:14:46,130 DEV : loss 1.2281770706176758 - f1-score (micro avg)  0.0106\n",
            "2022-11-30 11:14:46,132 BAD EPOCHS (no improvement): 4\n",
            "2022-11-30 11:14:46,133 ----------------------------------------------------------------------------------------------------\n"
          ]
        },
        {
          "name": "stderr",
          "output_type": "stream",
          "text": [
            "\n"
          ]
        },
        {
          "name": "stdout",
          "output_type": "stream",
          "text": [
            "2022-11-30 11:16:25,474 epoch 2 - iter 19/193 - loss 1.70634697 - samples/sec: 0.77 - lr: 0.000005\n",
            "2022-11-30 11:18:08,092 epoch 2 - iter 38/193 - loss 1.60078184 - samples/sec: 0.74 - lr: 0.000005\n",
            "2022-11-30 11:19:53,055 epoch 2 - iter 57/193 - loss 1.52618754 - samples/sec: 0.72 - lr: 0.000005\n",
            "2022-11-30 11:21:36,149 epoch 2 - iter 76/193 - loss 1.47910050 - samples/sec: 0.74 - lr: 0.000005\n",
            "2022-11-30 11:23:18,441 epoch 2 - iter 95/193 - loss 1.48425810 - samples/sec: 0.74 - lr: 0.000005\n",
            "2022-11-30 11:24:58,056 epoch 2 - iter 114/193 - loss 1.48248315 - samples/sec: 0.76 - lr: 0.000005\n",
            "2022-11-30 11:26:40,738 epoch 2 - iter 133/193 - loss 1.47193090 - samples/sec: 0.74 - lr: 0.000005\n",
            "2022-11-30 11:28:24,931 epoch 2 - iter 152/193 - loss 1.45062939 - samples/sec: 0.73 - lr: 0.000005\n",
            "2022-11-30 11:30:03,297 epoch 2 - iter 171/193 - loss 1.42916158 - samples/sec: 0.77 - lr: 0.000005\n",
            "2022-11-30 11:31:45,988 epoch 2 - iter 190/193 - loss 1.41856586 - samples/sec: 0.74 - lr: 0.000004\n",
            "2022-11-30 11:32:01,487 ----------------------------------------------------------------------------------------------------\n",
            "2022-11-30 11:32:01,488 EPOCH 2 done: loss 1.4151 - lr 0.000004\n"
          ]
        },
        {
          "name": "stderr",
          "output_type": "stream",
          "text": [
            "100%|██████████| 25/25 [00:27<00:00,  1.09s/it]"
          ]
        },
        {
          "name": "stdout",
          "output_type": "stream",
          "text": [
            "2022-11-30 11:32:28,840 Evaluating as a multi-label problem: False\n",
            "2022-11-30 11:32:28,847 DEV : loss 0.859157383441925 - f1-score (micro avg)  0.3359\n",
            "2022-11-30 11:32:28,849 BAD EPOCHS (no improvement): 4\n",
            "2022-11-30 11:32:28,849 ----------------------------------------------------------------------------------------------------\n"
          ]
        },
        {
          "name": "stderr",
          "output_type": "stream",
          "text": [
            "\n"
          ]
        },
        {
          "name": "stdout",
          "output_type": "stream",
          "text": [
            "2022-11-30 11:34:11,962 epoch 3 - iter 19/193 - loss 1.18107933 - samples/sec: 0.74 - lr: 0.000004\n",
            "2022-11-30 11:35:55,932 epoch 3 - iter 38/193 - loss 1.16100328 - samples/sec: 0.73 - lr: 0.000004\n",
            "2022-11-30 11:37:38,751 epoch 3 - iter 57/193 - loss 1.15240414 - samples/sec: 0.74 - lr: 0.000004\n",
            "2022-11-30 11:39:19,589 epoch 3 - iter 76/193 - loss 1.15514344 - samples/sec: 0.75 - lr: 0.000004\n",
            "2022-11-30 11:41:01,863 epoch 3 - iter 95/193 - loss 1.14931780 - samples/sec: 0.74 - lr: 0.000004\n",
            "2022-11-30 11:42:44,019 epoch 3 - iter 114/193 - loss 1.13944827 - samples/sec: 0.74 - lr: 0.000004\n",
            "2022-11-30 11:44:25,660 epoch 3 - iter 133/193 - loss 1.15121117 - samples/sec: 0.75 - lr: 0.000004\n",
            "2022-11-30 11:46:04,166 epoch 3 - iter 152/193 - loss 1.13607780 - samples/sec: 0.77 - lr: 0.000004\n",
            "2022-11-30 11:47:44,469 epoch 3 - iter 171/193 - loss 1.11264134 - samples/sec: 0.76 - lr: 0.000004\n",
            "2022-11-30 11:49:27,149 epoch 3 - iter 190/193 - loss 1.09650235 - samples/sec: 0.74 - lr: 0.000004\n",
            "2022-11-30 11:49:43,246 ----------------------------------------------------------------------------------------------------\n",
            "2022-11-30 11:49:43,247 EPOCH 3 done: loss 1.1024 - lr 0.000004\n"
          ]
        },
        {
          "name": "stderr",
          "output_type": "stream",
          "text": [
            "100%|██████████| 25/25 [00:26<00:00,  1.06s/it]"
          ]
        },
        {
          "name": "stdout",
          "output_type": "stream",
          "text": [
            "2022-11-30 11:50:09,675 Evaluating as a multi-label problem: False\n",
            "2022-11-30 11:50:09,681 DEV : loss 0.6455650925636292 - f1-score (micro avg)  0.5599\n",
            "2022-11-30 11:50:09,683 BAD EPOCHS (no improvement): 4\n",
            "2022-11-30 11:50:09,684 ----------------------------------------------------------------------------------------------------\n"
          ]
        },
        {
          "name": "stderr",
          "output_type": "stream",
          "text": [
            "\n"
          ]
        },
        {
          "name": "stdout",
          "output_type": "stream",
          "text": [
            "2022-11-30 11:51:53,879 epoch 4 - iter 19/193 - loss 0.97260906 - samples/sec: 0.73 - lr: 0.000004\n",
            "2022-11-30 11:53:35,434 epoch 4 - iter 38/193 - loss 0.96436763 - samples/sec: 0.75 - lr: 0.000004\n",
            "2022-11-30 11:55:19,071 epoch 4 - iter 57/193 - loss 0.95113051 - samples/sec: 0.73 - lr: 0.000004\n",
            "2022-11-30 11:57:00,701 epoch 4 - iter 76/193 - loss 0.95500763 - samples/sec: 0.75 - lr: 0.000004\n",
            "2022-11-30 11:58:40,334 epoch 4 - iter 95/193 - loss 0.95968059 - samples/sec: 0.76 - lr: 0.000004\n",
            "2022-11-30 12:00:22,610 epoch 4 - iter 114/193 - loss 0.94483429 - samples/sec: 0.74 - lr: 0.000004\n",
            "2022-11-30 12:02:05,488 epoch 4 - iter 133/193 - loss 0.92717997 - samples/sec: 0.74 - lr: 0.000004\n",
            "2022-11-30 12:03:49,268 epoch 4 - iter 152/193 - loss 0.92088186 - samples/sec: 0.73 - lr: 0.000003\n",
            "2022-11-30 12:05:31,793 epoch 4 - iter 171/193 - loss 0.91177261 - samples/sec: 0.74 - lr: 0.000003\n",
            "2022-11-30 12:07:18,415 epoch 4 - iter 190/193 - loss 0.89612654 - samples/sec: 0.71 - lr: 0.000003\n",
            "2022-11-30 12:07:33,625 ----------------------------------------------------------------------------------------------------\n",
            "2022-11-30 12:07:33,626 EPOCH 4 done: loss 0.8985 - lr 0.000003\n"
          ]
        },
        {
          "name": "stderr",
          "output_type": "stream",
          "text": [
            "100%|██████████| 25/25 [00:27<00:00,  1.12s/it]"
          ]
        },
        {
          "name": "stdout",
          "output_type": "stream",
          "text": [
            "2022-11-30 12:08:01,514 Evaluating as a multi-label problem: False\n",
            "2022-11-30 12:08:01,522 DEV : loss 0.5550165176391602 - f1-score (micro avg)  0.5924\n",
            "2022-11-30 12:08:01,524 BAD EPOCHS (no improvement): 4\n",
            "2022-11-30 12:08:01,525 ----------------------------------------------------------------------------------------------------\n"
          ]
        },
        {
          "name": "stderr",
          "output_type": "stream",
          "text": [
            "\n"
          ]
        },
        {
          "name": "stdout",
          "output_type": "stream",
          "text": [
            "2022-11-30 12:09:43,916 epoch 5 - iter 19/193 - loss 0.90112426 - samples/sec: 0.74 - lr: 0.000003\n",
            "2022-11-30 12:11:23,647 epoch 5 - iter 38/193 - loss 0.81213309 - samples/sec: 0.76 - lr: 0.000003\n",
            "2022-11-30 12:13:03,346 epoch 5 - iter 57/193 - loss 0.81167060 - samples/sec: 0.76 - lr: 0.000003\n",
            "2022-11-30 12:14:50,957 epoch 5 - iter 76/193 - loss 0.78997312 - samples/sec: 0.71 - lr: 0.000003\n",
            "2022-11-30 12:16:31,213 epoch 5 - iter 95/193 - loss 0.75432254 - samples/sec: 0.76 - lr: 0.000003\n",
            "2022-11-30 12:18:15,060 epoch 5 - iter 114/193 - loss 0.74496969 - samples/sec: 0.73 - lr: 0.000003\n",
            "2022-11-30 12:19:54,546 epoch 5 - iter 133/193 - loss 0.75262086 - samples/sec: 0.76 - lr: 0.000003\n",
            "2022-11-30 12:21:37,658 epoch 5 - iter 152/193 - loss 0.75793603 - samples/sec: 0.74 - lr: 0.000003\n",
            "2022-11-30 12:23:20,441 epoch 5 - iter 171/193 - loss 0.76534126 - samples/sec: 0.74 - lr: 0.000003\n",
            "2022-11-30 12:25:02,747 epoch 5 - iter 190/193 - loss 0.76612795 - samples/sec: 0.74 - lr: 0.000003\n",
            "2022-11-30 12:25:17,041 ----------------------------------------------------------------------------------------------------\n",
            "2022-11-30 12:25:17,042 EPOCH 5 done: loss 0.7659 - lr 0.000003\n"
          ]
        },
        {
          "name": "stderr",
          "output_type": "stream",
          "text": [
            "100%|██████████| 25/25 [00:26<00:00,  1.05s/it]"
          ]
        },
        {
          "name": "stdout",
          "output_type": "stream",
          "text": [
            "2022-11-30 12:25:43,226 Evaluating as a multi-label problem: False\n",
            "2022-11-30 12:25:43,232 DEV : loss 0.5053684711456299 - f1-score (micro avg)  0.623\n",
            "2022-11-30 12:25:43,234 BAD EPOCHS (no improvement): 4\n",
            "2022-11-30 12:25:43,234 ----------------------------------------------------------------------------------------------------\n"
          ]
        },
        {
          "name": "stderr",
          "output_type": "stream",
          "text": [
            "\n"
          ]
        },
        {
          "name": "stdout",
          "output_type": "stream",
          "text": [
            "2022-11-30 12:27:24,162 epoch 6 - iter 19/193 - loss 0.79235249 - samples/sec: 0.75 - lr: 0.000003\n",
            "2022-11-30 12:29:03,098 epoch 6 - iter 38/193 - loss 0.74641216 - samples/sec: 0.77 - lr: 0.000003\n",
            "2022-11-30 12:30:42,563 epoch 6 - iter 57/193 - loss 0.72770857 - samples/sec: 0.76 - lr: 0.000003\n",
            "2022-11-30 12:32:28,887 epoch 6 - iter 76/193 - loss 0.73241454 - samples/sec: 0.71 - lr: 0.000003\n",
            "2022-11-30 12:34:12,246 epoch 6 - iter 95/193 - loss 0.72672889 - samples/sec: 0.74 - lr: 0.000003\n",
            "2022-11-30 12:35:58,964 epoch 6 - iter 114/193 - loss 0.72559303 - samples/sec: 0.71 - lr: 0.000002\n",
            "2022-11-30 12:37:40,439 epoch 6 - iter 133/193 - loss 0.71672081 - samples/sec: 0.75 - lr: 0.000002\n",
            "2022-11-30 12:39:24,112 epoch 6 - iter 152/193 - loss 0.70523662 - samples/sec: 0.73 - lr: 0.000002\n",
            "2022-11-30 12:41:10,651 epoch 6 - iter 171/193 - loss 0.70170923 - samples/sec: 0.71 - lr: 0.000002\n",
            "2022-11-30 12:42:52,383 epoch 6 - iter 190/193 - loss 0.70025214 - samples/sec: 0.75 - lr: 0.000002\n",
            "2022-11-30 12:43:08,578 ----------------------------------------------------------------------------------------------------\n",
            "2022-11-30 12:43:08,579 EPOCH 6 done: loss 0.7034 - lr 0.000002\n"
          ]
        },
        {
          "name": "stderr",
          "output_type": "stream",
          "text": [
            "100%|██████████| 25/25 [00:27<00:00,  1.10s/it]"
          ]
        },
        {
          "name": "stdout",
          "output_type": "stream",
          "text": [
            "2022-11-30 12:43:36,092 Evaluating as a multi-label problem: False\n",
            "2022-11-30 12:43:36,098 DEV : loss 0.4809141457080841 - f1-score (micro avg)  0.6421\n",
            "2022-11-30 12:43:36,100 BAD EPOCHS (no improvement): 4\n",
            "2022-11-30 12:43:36,100 ----------------------------------------------------------------------------------------------------\n"
          ]
        },
        {
          "name": "stderr",
          "output_type": "stream",
          "text": [
            "\n"
          ]
        },
        {
          "name": "stdout",
          "output_type": "stream",
          "text": [
            "2022-11-30 12:45:24,084 epoch 7 - iter 19/193 - loss 0.69150056 - samples/sec: 0.70 - lr: 0.000002\n",
            "2022-11-30 12:47:09,434 epoch 7 - iter 38/193 - loss 0.58645489 - samples/sec: 0.72 - lr: 0.000002\n",
            "2022-11-30 12:48:49,413 epoch 7 - iter 57/193 - loss 0.61262007 - samples/sec: 0.76 - lr: 0.000002\n",
            "2022-11-30 12:50:29,186 epoch 7 - iter 76/193 - loss 0.63671129 - samples/sec: 0.76 - lr: 0.000002\n",
            "2022-11-30 12:52:09,915 epoch 7 - iter 95/193 - loss 0.64163365 - samples/sec: 0.75 - lr: 0.000002\n",
            "2022-11-30 12:53:53,555 epoch 7 - iter 114/193 - loss 0.65008152 - samples/sec: 0.73 - lr: 0.000002\n",
            "2022-11-30 12:55:38,674 epoch 7 - iter 133/193 - loss 0.64602801 - samples/sec: 0.72 - lr: 0.000002\n",
            "2022-11-30 12:57:21,753 epoch 7 - iter 152/193 - loss 0.65226260 - samples/sec: 0.74 - lr: 0.000002\n",
            "2022-11-30 12:59:06,954 epoch 7 - iter 171/193 - loss 0.66175506 - samples/sec: 0.72 - lr: 0.000002\n",
            "2022-11-30 13:00:52,739 epoch 7 - iter 190/193 - loss 0.65414160 - samples/sec: 0.72 - lr: 0.000002\n",
            "2022-11-30 13:01:08,817 ----------------------------------------------------------------------------------------------------\n",
            "2022-11-30 13:01:08,818 EPOCH 7 done: loss 0.6550 - lr 0.000002\n"
          ]
        },
        {
          "name": "stderr",
          "output_type": "stream",
          "text": [
            "100%|██████████| 25/25 [00:26<00:00,  1.07s/it]"
          ]
        },
        {
          "name": "stdout",
          "output_type": "stream",
          "text": [
            "2022-11-30 13:01:35,457 Evaluating as a multi-label problem: False\n",
            "2022-11-30 13:01:35,465 DEV : loss 0.45765113830566406 - f1-score (micro avg)  0.661\n",
            "2022-11-30 13:01:35,466 BAD EPOCHS (no improvement): 4\n",
            "2022-11-30 13:01:35,467 ----------------------------------------------------------------------------------------------------\n"
          ]
        },
        {
          "name": "stderr",
          "output_type": "stream",
          "text": [
            "\n"
          ]
        },
        {
          "name": "stdout",
          "output_type": "stream",
          "text": [
            "2022-11-30 13:03:20,419 epoch 8 - iter 19/193 - loss 0.50555353 - samples/sec: 0.72 - lr: 0.000002\n",
            "2022-11-30 13:05:01,410 epoch 8 - iter 38/193 - loss 0.55136883 - samples/sec: 0.75 - lr: 0.000002\n",
            "2022-11-30 13:06:42,901 epoch 8 - iter 57/193 - loss 0.56670320 - samples/sec: 0.75 - lr: 0.000002\n",
            "2022-11-30 13:08:25,543 epoch 8 - iter 76/193 - loss 0.59016058 - samples/sec: 0.74 - lr: 0.000001\n",
            "2022-11-30 13:10:06,352 epoch 8 - iter 95/193 - loss 0.59977417 - samples/sec: 0.75 - lr: 0.000001\n",
            "2022-11-30 13:11:50,935 epoch 8 - iter 114/193 - loss 0.61038794 - samples/sec: 0.73 - lr: 0.000001\n",
            "2022-11-30 13:13:29,730 epoch 8 - iter 133/193 - loss 0.62400247 - samples/sec: 0.77 - lr: 0.000001\n",
            "2022-11-30 13:15:12,836 epoch 8 - iter 152/193 - loss 0.62570289 - samples/sec: 0.74 - lr: 0.000001\n",
            "2022-11-30 13:17:01,364 epoch 8 - iter 171/193 - loss 0.61821157 - samples/sec: 0.70 - lr: 0.000001\n",
            "2022-11-30 13:18:46,696 epoch 8 - iter 190/193 - loss 0.60843392 - samples/sec: 0.72 - lr: 0.000001\n",
            "2022-11-30 13:19:01,293 ----------------------------------------------------------------------------------------------------\n",
            "2022-11-30 13:19:01,294 EPOCH 8 done: loss 0.6058 - lr 0.000001\n"
          ]
        },
        {
          "name": "stderr",
          "output_type": "stream",
          "text": [
            "100%|██████████| 25/25 [00:26<00:00,  1.07s/it]"
          ]
        },
        {
          "name": "stdout",
          "output_type": "stream",
          "text": [
            "2022-11-30 13:19:28,125 Evaluating as a multi-label problem: False\n",
            "2022-11-30 13:19:28,131 DEV : loss 0.4889335632324219 - f1-score (micro avg)  0.6419\n",
            "2022-11-30 13:19:28,134 BAD EPOCHS (no improvement): 4\n",
            "2022-11-30 13:19:28,134 ----------------------------------------------------------------------------------------------------\n"
          ]
        },
        {
          "name": "stderr",
          "output_type": "stream",
          "text": [
            "\n"
          ]
        },
        {
          "name": "stdout",
          "output_type": "stream",
          "text": [
            "2022-11-30 13:21:11,378 epoch 9 - iter 19/193 - loss 0.66303300 - samples/sec: 0.74 - lr: 0.000001\n",
            "2022-11-30 13:22:52,696 epoch 9 - iter 38/193 - loss 0.62461309 - samples/sec: 0.75 - lr: 0.000001\n",
            "2022-11-30 13:24:37,609 epoch 9 - iter 57/193 - loss 0.61340325 - samples/sec: 0.72 - lr: 0.000001\n",
            "2022-11-30 13:26:20,461 epoch 9 - iter 76/193 - loss 0.59152182 - samples/sec: 0.74 - lr: 0.000001\n",
            "2022-11-30 13:28:08,073 epoch 9 - iter 95/193 - loss 0.58175577 - samples/sec: 0.71 - lr: 0.000001\n",
            "2022-11-30 13:29:49,074 epoch 9 - iter 114/193 - loss 0.58923351 - samples/sec: 0.75 - lr: 0.000001\n",
            "2022-11-30 13:31:30,265 epoch 9 - iter 133/193 - loss 0.59469105 - samples/sec: 0.75 - lr: 0.000001\n",
            "2022-11-30 13:33:15,066 epoch 9 - iter 152/193 - loss 0.57817741 - samples/sec: 0.73 - lr: 0.000001\n",
            "2022-11-30 13:35:02,542 epoch 9 - iter 171/193 - loss 0.57518395 - samples/sec: 0.71 - lr: 0.000001\n",
            "2022-11-30 13:36:49,040 epoch 9 - iter 190/193 - loss 0.56979070 - samples/sec: 0.71 - lr: 0.000001\n",
            "2022-11-30 13:37:04,026 ----------------------------------------------------------------------------------------------------\n",
            "2022-11-30 13:37:04,026 EPOCH 9 done: loss 0.5743 - lr 0.000001\n"
          ]
        },
        {
          "name": "stderr",
          "output_type": "stream",
          "text": [
            "100%|██████████| 25/25 [00:26<00:00,  1.07s/it]"
          ]
        },
        {
          "name": "stdout",
          "output_type": "stream",
          "text": [
            "2022-11-30 13:37:30,898 Evaluating as a multi-label problem: False\n",
            "2022-11-30 13:37:30,904 DEV : loss 0.46722859144210815 - f1-score (micro avg)  0.6482\n",
            "2022-11-30 13:37:30,906 BAD EPOCHS (no improvement): 4\n",
            "2022-11-30 13:37:30,906 ----------------------------------------------------------------------------------------------------\n"
          ]
        },
        {
          "name": "stderr",
          "output_type": "stream",
          "text": [
            "\n"
          ]
        },
        {
          "name": "stdout",
          "output_type": "stream",
          "text": [
            "2022-11-30 13:39:13,814 epoch 10 - iter 19/193 - loss 0.53720905 - samples/sec: 0.74 - lr: 0.000001\n",
            "2022-11-30 13:40:57,712 epoch 10 - iter 38/193 - loss 0.56221663 - samples/sec: 0.73 - lr: 0.000000\n",
            "2022-11-30 13:42:38,199 epoch 10 - iter 57/193 - loss 0.58304729 - samples/sec: 0.76 - lr: 0.000000\n",
            "2022-11-30 13:44:24,311 epoch 10 - iter 76/193 - loss 0.57824880 - samples/sec: 0.72 - lr: 0.000000\n",
            "2022-11-30 13:46:13,821 epoch 10 - iter 95/193 - loss 0.58562080 - samples/sec: 0.69 - lr: 0.000000\n",
            "2022-11-30 13:48:02,806 epoch 10 - iter 114/193 - loss 0.56670210 - samples/sec: 0.70 - lr: 0.000000\n",
            "2022-11-30 13:49:48,802 epoch 10 - iter 133/193 - loss 0.57123660 - samples/sec: 0.72 - lr: 0.000000\n",
            "2022-11-30 13:51:34,919 epoch 10 - iter 152/193 - loss 0.56817223 - samples/sec: 0.72 - lr: 0.000000\n",
            "2022-11-30 13:53:18,517 epoch 10 - iter 171/193 - loss 0.56762156 - samples/sec: 0.73 - lr: 0.000000\n",
            "2022-11-30 13:55:04,497 epoch 10 - iter 190/193 - loss 0.56048843 - samples/sec: 0.72 - lr: 0.000000\n",
            "2022-11-30 13:55:19,602 ----------------------------------------------------------------------------------------------------\n",
            "2022-11-30 13:55:19,603 EPOCH 10 done: loss 0.5605 - lr 0.000000\n"
          ]
        },
        {
          "name": "stderr",
          "output_type": "stream",
          "text": [
            "100%|██████████| 25/25 [00:26<00:00,  1.04s/it]"
          ]
        },
        {
          "name": "stdout",
          "output_type": "stream",
          "text": [
            "2022-11-30 13:55:45,704 Evaluating as a multi-label problem: False\n",
            "2022-11-30 13:55:45,711 DEV : loss 0.4879798889160156 - f1-score (micro avg)  0.6458\n",
            "2022-11-30 13:55:45,713 BAD EPOCHS (no improvement): 4\n"
          ]
        },
        {
          "name": "stderr",
          "output_type": "stream",
          "text": [
            "\n"
          ]
        },
        {
          "name": "stdout",
          "output_type": "stream",
          "text": [
            "2022-11-30 13:55:47,663 ----------------------------------------------------------------------------------------------------\n",
            "2022-11-30 13:55:47,665 Testing using last state of model ...\n"
          ]
        },
        {
          "name": "stderr",
          "output_type": "stream",
          "text": [
            "100%|██████████| 24/24 [00:25<00:00,  1.07s/it]"
          ]
        },
        {
          "name": "stdout",
          "output_type": "stream",
          "text": [
            "2022-11-30 13:56:13,300 Evaluating as a multi-label problem: False\n",
            "2022-11-30 13:56:13,306 0.6446\t0.7618\t0.6983\t0.5473\n",
            "2022-11-30 13:56:13,307 \n",
            "Results:\n",
            "- F-score (micro) 0.6983\n",
            "- F-score (macro) 0.3655\n",
            "- Accuracy 0.5473\n",
            "\n",
            "By class:\n",
            "                   precision    recall  f1-score   support\n",
            "\n",
            "     Organisation     0.6606    0.7786    0.7148       140\n",
            "         Location     0.5934    0.7941    0.6792        68\n",
            "           Person     0.7568    0.9032    0.8235        62\n",
            "         Temporal     0.7826    0.9474    0.8571        19\n",
            "         Quantity     0.2778    0.3125    0.2941        16\n",
            "DocumentReference     0.3333    0.2500    0.2857         4\n",
            "           Weapon     0.0000    0.0000    0.0000         4\n",
            "            Money     0.0000    0.0000    0.0000         1\n",
            " MilitaryPlatform     0.0000    0.0000    0.0000         3\n",
            "      Nationality     0.0000    0.0000    0.0000         2\n",
            "\n",
            "        micro avg     0.6446    0.7618    0.6983       319\n",
            "        macro avg     0.3404    0.3986    0.3655       319\n",
            "     weighted avg     0.6282    0.7618    0.6879       319\n",
            "\n",
            "2022-11-30 13:56:13,307 ----------------------------------------------------------------------------------------------------\n"
          ]
        },
        {
          "name": "stderr",
          "output_type": "stream",
          "text": [
            "\n"
          ]
        },
        {
          "data": {
            "text/plain": [
              "{'test_score': 0.6982758620689655,\n",
              " 'dev_score_history': [0.010554089709762533,\n",
              "  0.33587786259541985,\n",
              "  0.5598845598845599,\n",
              "  0.5923984272608126,\n",
              "  0.6229508196721312,\n",
              "  0.6420765027322404,\n",
              "  0.6610169491525424,\n",
              "  0.6418732782369146,\n",
              "  0.6481994459833795,\n",
              "  0.6457765667574932],\n",
              " 'train_loss_history': [2.9750299324347216,\n",
              "  1.4151145429336154,\n",
              "  1.102379407128485,\n",
              "  0.8985091482578567,\n",
              "  0.7659444744710038,\n",
              "  0.7034005997481789,\n",
              "  0.6549618372841,\n",
              "  0.6058066446442902,\n",
              "  0.57429869816408,\n",
              "  0.5604896890343632],\n",
              " 'dev_loss_history': [1.2281770706176758,\n",
              "  0.859157383441925,\n",
              "  0.6455650925636292,\n",
              "  0.5550165176391602,\n",
              "  0.5053684711456299,\n",
              "  0.4809141457080841,\n",
              "  0.45765113830566406,\n",
              "  0.4889335632324219,\n",
              "  0.46722859144210815,\n",
              "  0.4879798889160156]}"
            ]
          },
          "execution_count": 8,
          "metadata": {},
          "output_type": "execute_result"
        }
      ],
      "source": [
        "from flair.embeddings import TransformerWordEmbeddings\n",
        "\n",
        "# 4. initialize fine-tuneable transformer embeddings WITH document context\n",
        "embeddings = TransformerWordEmbeddings(model='xlm-roberta-large',\n",
        "                                       layers=\"-1\",\n",
        "                                       subtoken_pooling=\"first\",\n",
        "                                       fine_tune=True,\n",
        "                                       use_context=True,\n",
        "                                       )\n",
        "\n",
        "# 5. initialize bare-bones sequence tagger (no CRF, no RNN, no reprojection)\n",
        "tagger = SequenceTagger(hidden_size=256,\n",
        "                        embeddings=embeddings,\n",
        "                        tag_dictionary=tag_dictionary,\n",
        "                        tag_type='ner',\n",
        "                        use_crf=False,\n",
        "                        use_rnn=False,\n",
        "                        reproject_embeddings=False,\n",
        "                        )\n",
        "\n",
        "# 6. initialize trainer\n",
        "trainer = ModelTrainer(tagger, corpus)\n",
        "\n",
        "# 7. run fine-tuning\n",
        "trainer.fine_tune('resources/taggers/sota-ner-flert',\n",
        "                  learning_rate=5.0e-6,\n",
        "                  mini_batch_size=4,\n",
        "                  mini_batch_chunk_size=1,  # remove this parameter to speed up computation if you have a big GPU\n",
        "                  )"
      ]
    }
  ],
  "metadata": {
    "colab": {
      "provenance": [],
      "toc_visible": true
    },
    "interpreter": {
      "hash": "a6a6a43afd82b9c8d81670bbd4cadbd88e22e52abfa29754676dca3e7b854911"
    },
    "kernelspec": {
      "display_name": "Python 3.8.12 64-bit ('3.8.12')",
      "language": "python",
      "name": "python3"
    },
    "language_info": {
      "codemirror_mode": {
        "name": "ipython",
        "version": 3
      },
      "file_extension": ".py",
      "mimetype": "text/x-python",
      "name": "python",
      "nbconvert_exporter": "python",
      "pygments_lexer": "ipython3",
      "version": "3.8.12"
    }
  },
  "nbformat": 4,
  "nbformat_minor": 0
}
