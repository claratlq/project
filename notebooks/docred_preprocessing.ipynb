{
 "cells": [
  {
   "cell_type": "code",
   "execution_count": 1,
   "metadata": {},
   "outputs": [
    {
     "name": "stdout",
     "output_type": "stream",
     "text": [
      "Requirement already satisfied: jsonlines in /home/digitalhub/.pyenv/versions/3.8.12/lib/python3.8/site-packages (3.1.0)\n",
      "Requirement already satisfied: attrs>=19.2.0 in /home/digitalhub/.local/lib/python3.8/site-packages (from jsonlines) (20.3.0)\n",
      "\u001b[33mWARNING: You are using pip version 21.1.1; however, version 22.3.1 is available.\n",
      "You should consider upgrading via the '/home/digitalhub/.pyenv/versions/3.8.12/bin/python3.8 -m pip install --upgrade pip' command.\u001b[0m\n"
     ]
    }
   ],
   "source": [
    "!pip install jsonlines"
   ]
  },
  {
   "cell_type": "code",
   "execution_count": null,
   "metadata": {},
   "outputs": [],
   "source": [
    "import jsonlines\n",
    "import numpy as np\n",
    "\n",
    "def clean_data(path, new_txt):\n",
    "    f = jsonlines.open(path)\n",
    "    wf = open(new_txt,\"w+\")\n",
    "    for line in f.iter():\n",
    "        tokens = line['tokens'] # or whatever else you'd like to do\n",
    "        unique_spans = [list(x) for x in set(tuple(x) for x in line['ner'])]\n",
    "\n",
    "        sent = []\n",
    "        for token in tokens[0]:\n",
    "\n",
    "            sent.append([token, 'O'])\n",
    "            #dict = {token: 'O' for token in tokens[0]}\n",
    "\n",
    "        for span in unique_spans:\n",
    "            for i in range(span[0], span[1]):\n",
    "                if i == span[0]:\n",
    "                    sent[i][1] = 'B-' + span[2]\n",
    "                else:\n",
    "                    sent[i][1] = 'I-' + span[2]\n",
    "        \n",
    "        print(sent)\n",
    "\n",
    "        #for key, value in dict.items():\n",
    "        for token in sent: \n",
    "\n",
    "            wf.write(token[0] + \"\\t\" + token[1] + \"\\n\")\n",
    "        \n",
    "        wf.write(\"\\n\")\n",
    "\n",
    "    wf.close()"
   ]
  }
 ],
 "metadata": {
  "interpreter": {
   "hash": "a6a6a43afd82b9c8d81670bbd4cadbd88e22e52abfa29754676dca3e7b854911"
  },
  "kernelspec": {
   "display_name": "Python 3.8.12 64-bit ('3.8.12')",
   "language": "python",
   "name": "python3"
  },
  "language_info": {
   "codemirror_mode": {
    "name": "ipython",
    "version": 3
   },
   "file_extension": ".py",
   "mimetype": "text/x-python",
   "name": "python",
   "nbconvert_exporter": "python",
   "pygments_lexer": "ipython3",
   "version": "3.8.12"
  },
  "orig_nbformat": 4
 },
 "nbformat": 4,
 "nbformat_minor": 2
}
